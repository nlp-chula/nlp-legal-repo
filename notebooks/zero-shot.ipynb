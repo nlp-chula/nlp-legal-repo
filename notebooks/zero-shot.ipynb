{
 "cells": [
  {
   "cell_type": "code",
   "execution_count": 1,
   "metadata": {
    "colab": {
     "base_uri": "https://localhost:8080/"
    },
    "executionInfo": {
     "elapsed": 473,
     "status": "ok",
     "timestamp": 1648189067396,
     "user": {
      "displayName": "Thaweesak Chusri",
      "photoUrl": "https://lh3.googleusercontent.com/a-/AOh14Gj5PzlhZ6sYmXktrK-vzF5hfKwhW_E9rb7D4Vct=s64",
      "userId": "01804259234293140992"
     },
     "user_tz": -420
    },
    "id": "veMNrl1c1_-D",
    "outputId": "ba4f1474-fa03-43f6-a783-4e79281a7992"
   },
   "outputs": [
    {
     "name": "stdout",
     "output_type": "stream",
     "text": [
      "Fri Mar 25 06:17:46 2022       \n",
      "+-----------------------------------------------------------------------------+\n",
      "| NVIDIA-SMI 460.32.03    Driver Version: 460.32.03    CUDA Version: 11.2     |\n",
      "|-------------------------------+----------------------+----------------------+\n",
      "| GPU  Name        Persistence-M| Bus-Id        Disp.A | Volatile Uncorr. ECC |\n",
      "| Fan  Temp  Perf  Pwr:Usage/Cap|         Memory-Usage | GPU-Util  Compute M. |\n",
      "|                               |                      |               MIG M. |\n",
      "|===============================+======================+======================|\n",
      "|   0  Tesla P100-PCIE...  Off  | 00000000:00:04.0 Off |                    0 |\n",
      "| N/A   36C    P0    26W / 250W |      0MiB / 16280MiB |      0%      Default |\n",
      "|                               |                      |                  N/A |\n",
      "+-------------------------------+----------------------+----------------------+\n",
      "                                                                               \n",
      "+-----------------------------------------------------------------------------+\n",
      "| Processes:                                                                  |\n",
      "|  GPU   GI   CI        PID   Type   Process name                  GPU Memory |\n",
      "|        ID   ID                                                   Usage      |\n",
      "|=============================================================================|\n",
      "|  No running processes found                                                 |\n",
      "+-----------------------------------------------------------------------------+\n"
     ]
    }
   ],
   "source": [
    "!nvidia-smi"
   ]
  },
  {
   "cell_type": "code",
   "execution_count": 2,
   "metadata": {
    "colab": {
     "base_uri": "https://localhost:8080/"
    },
    "executionInfo": {
     "elapsed": 33272,
     "status": "ok",
     "timestamp": 1648189101124,
     "user": {
      "displayName": "Thaweesak Chusri",
      "photoUrl": "https://lh3.googleusercontent.com/a-/AOh14Gj5PzlhZ6sYmXktrK-vzF5hfKwhW_E9rb7D4Vct=s64",
      "userId": "01804259234293140992"
     },
     "user_tz": -420
    },
    "id": "4uQrE5zjBXbG",
    "outputId": "250fa3a6-2490-48a4-c2a9-c0f72090a4a7"
   },
   "outputs": [
    {
     "name": "stdout",
     "output_type": "stream",
     "text": [
      "Mounted at /content/gdrive\n",
      "/content/gdrive/MyDrive/tort-siamese\n",
      "/content/gdrive/MyDrive/tort-siamese\n",
      " cc.th.300.vec\t       play_deka_df.parquet\n",
      "'filt_df (1).pickle'   play_deka_df.pkl\n",
      " filt_df.pickle        processed_torts20210321.pkl\n",
      " legal_clean.pkl       processed_torts20210412.pkl\n",
      " play_deka_df.par      supreme_cases.pkl\n"
     ]
    }
   ],
   "source": [
    "from google.colab import drive\n",
    "drive.mount('/content/gdrive')\n",
    "%cd /content/gdrive/MyDrive/tort-siamese\n",
    "!mkdir -p data\n",
    "!mkdir -p tmp\n",
    "!mkdir -p checkpoints\n",
    "!mkdir -p pretrained\n",
    "!mkdir -p results\n",
    "!pwd\n",
    "!ls data"
   ]
  },
  {
   "cell_type": "code",
   "execution_count": 3,
   "metadata": {
    "executionInfo": {
     "elapsed": 2906,
     "status": "ok",
     "timestamp": 1648189104023,
     "user": {
      "displayName": "Thaweesak Chusri",
      "photoUrl": "https://lh3.googleusercontent.com/a-/AOh14Gj5PzlhZ6sYmXktrK-vzF5hfKwhW_E9rb7D4Vct=s64",
      "userId": "01804259234293140992"
     },
     "user_tz": -420
    },
    "id": "alpine-retention"
   },
   "outputs": [],
   "source": [
    "import json\n",
    "from IPython.display import Image, display_png\n",
    "import numpy as np\n",
    "from numpy.random import seed\n",
    "import pandas as pd\n",
    "from tqdm import tqdm\n",
    "import tensorflow as tf\n",
    "import tensorflow.keras.backend as K\n",
    "from sklearn.preprocessing import LabelEncoder\n",
    "import sklearn.model_selection\n",
    "from sklearn.model_selection import train_test_split\n",
    "from sklearn.metrics import classification_report, precision_recall_fscore_support, f1_score, precision_score, recall_score, confusion_matrix\n",
    "from collections import Counter\n",
    "from tqdm import tqdm\n",
    "import pandas as pd\n",
    "from tensorflow import keras\n",
    "from tensorflow.keras import layers , regularizers\n",
    "from tensorflow.keras.models import Sequential\n",
    "from tensorflow.keras.layers import Dense , Bidirectional , LSTM, GlobalMaxPool1D\n",
    "from tensorflow.keras.layers import Dropout,MaxPooling1D,Lambda\n",
    "from tensorflow.keras.preprocessing.text import Tokenizer\n",
    "from tensorflow.keras.preprocessing.sequence import pad_sequences\n",
    "from tensorflow.keras.models import Sequential, load_model, Model\n",
    "from tensorflow.keras.utils import plot_model\n",
    "from tensorflow.keras.layers import Embedding\n",
    "from tensorflow. keras.layers import Flatten, Dropout, Activation, Input, Dense, concatenate, GRU, Conv1D"
   ]
  },
  {
   "cell_type": "code",
   "execution_count": 4,
   "metadata": {
    "colab": {
     "base_uri": "https://localhost:8080/"
    },
    "executionInfo": {
     "elapsed": 5,
     "status": "ok",
     "timestamp": 1648189104024,
     "user": {
      "displayName": "Thaweesak Chusri",
      "photoUrl": "https://lh3.googleusercontent.com/a-/AOh14Gj5PzlhZ6sYmXktrK-vzF5hfKwhW_E9rb7D4Vct=s64",
      "userId": "01804259234293140992"
     },
     "user_tz": -420
    },
    "id": "dimensional-weight",
    "outputId": "bd46b424-f741-4d3e-aa26-09353e62ec39"
   },
   "outputs": [
    {
     "name": "stdout",
     "output_type": "stream",
     "text": [
      "2.8.0\n"
     ]
    }
   ],
   "source": [
    "print(tf.__version__)"
   ]
  },
  {
   "cell_type": "markdown",
   "metadata": {
    "id": "ardy2L_H5gex"
   },
   "source": [
    "### Inferences"
   ]
  },
  {
   "cell_type": "code",
   "execution_count": 6,
   "metadata": {
    "executionInfo": {
     "elapsed": 433,
     "status": "ok",
     "timestamp": 1648189115703,
     "user": {
      "displayName": "Thaweesak Chusri",
      "photoUrl": "https://lh3.googleusercontent.com/a-/AOh14Gj5PzlhZ6sYmXktrK-vzF5hfKwhW_E9rb7D4Vct=s64",
      "userId": "01804259234293140992"
     },
     "user_tz": -420
    },
    "id": "7q0RCiFvg8-K"
   },
   "outputs": [],
   "source": [
    "def recall(y_true, y_pred):\n",
    "    true_positives = K.sum(K.round(K.clip(y_true * y_pred, 0, 1)))\n",
    "    possible_positives = K.sum(K.round(K.clip(y_true, 0, 1)))\n",
    "    recall = true_positives / (possible_positives + K.epsilon())\n",
    "    return recall\n",
    "\n",
    "\n",
    "def precision(y_true, y_pred):\n",
    "    true_positives = K.sum(K.round(K.clip(y_true * y_pred, 0, 1)))\n",
    "    predicted_positives = K.sum(K.round(K.clip(y_pred, 0, 1)))\n",
    "    precision = true_positives / (predicted_positives + K.epsilon())\n",
    "    return precision\n",
    "\n",
    "\n",
    "def microf1(y_true, y_pred):\n",
    "\n",
    "    def recall(y_true, y_pred):\n",
    "        true_positives = K.sum(K.round(K.clip(y_true * y_pred, 0, 1)))\n",
    "        possible_positives = K.sum(K.round(K.clip(y_true, 0, 1)))\n",
    "        recall = true_positives / (possible_positives + K.epsilon())\n",
    "        return recall\n",
    "\n",
    "    def precision(y_true, y_pred):\n",
    "        true_positives = K.sum(K.round(K.clip(y_true * y_pred, 0, 1)))\n",
    "        predicted_positives = K.sum(K.round(K.clip(y_pred, 0, 1)))\n",
    "        precision = true_positives / (predicted_positives + K.epsilon())\n",
    "        return precision\n",
    "\n",
    "    precision = precision(y_true, y_pred)\n",
    "    recall = recall(y_true, y_pred)\n",
    "    return 2 * ((precision * recall) / (precision + recall + K.epsilon()))\n",
    "\n",
    "\n",
    "def macrof1(y_true, y_pred):\n",
    "    y_pred = K.round(y_pred)\n",
    "    tp = K.sum(K.cast(y_true * y_pred, 'float'), axis=0)\n",
    "    # tn = K.sum(K.cast((1-y_true)*(1-y_pred), 'float'), axis=0)\n",
    "    fp = K.sum(K.cast((1 - y_true) * y_pred, 'float'), axis=0)\n",
    "    fn = K.sum(K.cast(y_true * (1 - y_pred), 'float'), axis=0)\n",
    "\n",
    "    p = tp / (tp + fp + K.epsilon())\n",
    "    r = tp / (tp + fn + K.epsilon())\n",
    "\n",
    "    f1 = 2 * p * r / (p + r + K.epsilon())\n",
    "    f1 = tf.where(tf.math.is_nan(f1), tf.zeros_like(f1), f1)\n",
    "    return K.mean(f1)\n",
    "\n",
    "def contrastive_loss(y_true, y_pred):\n",
    "    margin = 1\n",
    "    return tf.cast((y_true * K.square(y_pred)\\\n",
    "            + (1 - y_true) * K.square(K.maximum(margin - y_pred, 0))),dtype=tf.float32)\n",
    "\n",
    "def accuracy2(y_true, y_pred):\n",
    "    return K.mean(tf.cast(tf.equal(y_true, tf.cast(y_pred < 0.5, dtype=tf.float32)), dtype=tf.float32))"
   ]
  },
  {
   "cell_type": "code",
   "execution_count": 7,
   "metadata": {
    "executionInfo": {
     "elapsed": 628,
     "status": "ok",
     "timestamp": 1648189116958,
     "user": {
      "displayName": "Thaweesak Chusri",
      "photoUrl": "https://lh3.googleusercontent.com/a-/AOh14Gj5PzlhZ6sYmXktrK-vzF5hfKwhW_E9rb7D4Vct=s64",
      "userId": "01804259234293140992"
     },
     "user_tz": -420
    },
    "id": "MfElwy_xhMLj"
   },
   "outputs": [],
   "source": [
    "def split_by_id(file = '../input/zero-shot-legal-03042021/filt_df.pickle'):\n",
    "    filter_df = pd.read_pickle(file)\n",
    "    train_indx, rest_indx = next(sklearn.model_selection.GroupShuffleSplit(test_size=.30, n_splits=2, random_state = 42).split(filter_df, groups=filter_df['case_id']))\n",
    "    rest_df = filter_df.iloc[rest_indx]\n",
    "    dev_indx,test_indx = next(sklearn.model_selection.GroupShuffleSplit(test_size=.50, n_splits=2, random_state = 42).split(rest_df, groups=rest_df['case_id']))\n",
    "\n",
    "    train = filter_df.iloc[train_indx]\n",
    "    dev = rest_df.iloc[dev_indx]\n",
    "    test = rest_df.iloc[test_indx]\n",
    "    \n",
    "    def get_data_by_id(df):\n",
    "        X = [] \n",
    "        Y = []\n",
    "    \n",
    "        for i,row in df.iterrows():\n",
    "            x = row['plaintiff_token']\n",
    "            x2 = row['legal_content_token']\n",
    "            x4 = row['case_id']\n",
    "            legal_encoded = row['legal_encoded']\n",
    "            X.append([x, x2, legal_encoded, x4])\n",
    "            Y.append(row['label'])\n",
    "        X = np.array(X ,dtype=object)\n",
    "        Y = np.array(Y)\n",
    "        print('X:'+ str(X.shape),'Y:'+str(Y.shape),'legal_encoded_seq:' + str(len(X[:, 2])))\n",
    "        return X,Y\n",
    "    \n",
    "    X_train,Y_train = get_data_by_id(train)\n",
    "    X_dev,Y_dev = get_data_by_id(dev)\n",
    "    X_test,Y_test = get_data_by_id(test)\n",
    "\n",
    "    return X_train,Y_train,X_dev,Y_dev,X_test,Y_test"
   ]
  },
  {
   "cell_type": "code",
   "execution_count": 8,
   "metadata": {
    "executionInfo": {
     "elapsed": 9,
     "status": "ok",
     "timestamp": 1648189116958,
     "user": {
      "displayName": "Thaweesak Chusri",
      "photoUrl": "https://lh3.googleusercontent.com/a-/AOh14Gj5PzlhZ6sYmXktrK-vzF5hfKwhW_E9rb7D4Vct=s64",
      "userId": "01804259234293140992"
     },
     "user_tz": -420
    },
    "id": "oYUgpDXSw6PQ"
   },
   "outputs": [],
   "source": [
    "def split_by_id_2(file = '../input/zero-shot-legal-03042021/filt_df.pickle'):\n",
    "    filter_df = pd.read_pickle(file)\n",
    "    train_indx, rest_indx = next(sklearn.model_selection.GroupShuffleSplit(test_size=.30, n_splits=2, random_state = 42).split(filter_df, groups=filter_df['case_id']))\n",
    "    rest_df = filter_df.iloc[rest_indx]\n",
    "    dev_indx,test_indx = next(sklearn.model_selection.GroupShuffleSplit(test_size=.50, n_splits=2, random_state = 42).split(rest_df, groups=rest_df['case_id']))\n",
    "\n",
    "    train = filter_df.iloc[train_indx]\n",
    "    dev = rest_df.iloc[dev_indx]\n",
    "    test = rest_df.iloc[test_indx]\n",
    "    \n",
    "    def get_data_by_id(df):\n",
    "        X = [] \n",
    "        Y = []\n",
    "    \n",
    "        for i,row in df.iterrows():\n",
    "            x = row['plaintiff_token']\n",
    "            x2 = row['legal_content_token']\n",
    "            x3 = row['defendant_token']\n",
    "            x4 = row['case_id']\n",
    "            legal_encoded = row['legal_encoded']\n",
    "            X.append([x, x2, x3,legal_encoded, x4])\n",
    "            Y.append(row['label'])\n",
    "        X = np.array(X ,dtype=object)\n",
    "        Y = np.array(Y)\n",
    "        print('X:'+ str(X.shape),'Y:'+str(Y.shape),'legal_encoded_seq:' + str(len(X[:, 3])))\n",
    "        return X,Y\n",
    "    \n",
    "    X_train,Y_train = get_data_by_id(train)\n",
    "    X_dev,Y_dev = get_data_by_id(dev)\n",
    "    X_test,Y_test = get_data_by_id(test)\n",
    "\n",
    "    return X_train,Y_train,X_dev,Y_dev,X_test,Y_test"
   ]
  },
  {
   "cell_type": "code",
   "execution_count": 9,
   "metadata": {
    "executionInfo": {
     "elapsed": 9,
     "status": "ok",
     "timestamp": 1648189116959,
     "user": {
      "displayName": "Thaweesak Chusri",
      "photoUrl": "https://lh3.googleusercontent.com/a-/AOh14Gj5PzlhZ6sYmXktrK-vzF5hfKwhW_E9rb7D4Vct=s64",
      "userId": "01804259234293140992"
     },
     "user_tz": -420
    },
    "id": "2UFCFU08higJ"
   },
   "outputs": [],
   "source": [
    "def process_input_combined(num_words, X_train, X_dev, X_test):\n",
    "    \n",
    "    tokenizer = tf.keras.preprocessing.text.Tokenizer(num_words=num_words, oov_token='<UNK>')\n",
    "    X_combined = list(X_train[:, 0]) + list(X_train[:, 1])\n",
    "    tokenizer.fit_on_texts(X_combined)\n",
    "\n",
    "    #convert text data to numerical indexes\n",
    "    train_seqs1 = tokenizer.texts_to_sequences(X_train[:, 0])\n",
    "    train_seqs2 = tokenizer.texts_to_sequences(X_train[:, 1])\n",
    "    \n",
    "    dev_seqs1 = tokenizer.texts_to_sequences(X_dev[:, 0])\n",
    "    dev_seqs2 = tokenizer.texts_to_sequences(X_dev[:, 1])\n",
    "    \n",
    "    test_seqs1 = tokenizer.texts_to_sequences(X_test[:, 0])\n",
    "    test_seqs2 = tokenizer.texts_to_sequences(X_test[:, 1])\n",
    "    \n",
    "    max_len = max([len(x) for x in train_seqs1 + train_seqs2])\n",
    "\n",
    "    train_seqs1 = tf.keras.preprocessing.sequence.pad_sequences(train_seqs1, maxlen=max_len, padding=\"post\")\n",
    "    test_seqs1=tf.keras.preprocessing.sequence.pad_sequences(test_seqs1, maxlen=max_len, padding=\"post\")\n",
    "    dev_seqs1 =tf.keras.preprocessing.sequence.pad_sequences(dev_seqs1, maxlen=max_len, padding=\"post\")\n",
    "    \n",
    "    train_seqs2 = tf.keras.preprocessing.sequence.pad_sequences(train_seqs2, maxlen=max_len, padding=\"post\")\n",
    "    test_seqs2=tf.keras.preprocessing.sequence.pad_sequences(test_seqs2, maxlen=max_len, padding=\"post\")\n",
    "    dev_seqs2 =tf.keras.preprocessing.sequence.pad_sequences(dev_seqs2, maxlen=max_len, padding=\"post\")\n",
    "\n",
    "    return  train_seqs1, train_seqs2, dev_seqs1, dev_seqs2, test_seqs1, test_seqs2, max_len, tokenizer"
   ]
  },
  {
   "cell_type": "code",
   "execution_count": 10,
   "metadata": {
    "executionInfo": {
     "elapsed": 8,
     "status": "ok",
     "timestamp": 1648189116959,
     "user": {
      "displayName": "Thaweesak Chusri",
      "photoUrl": "https://lh3.googleusercontent.com/a-/AOh14Gj5PzlhZ6sYmXktrK-vzF5hfKwhW_E9rb7D4Vct=s64",
      "userId": "01804259234293140992"
     },
     "user_tz": -420
    },
    "id": "FNCGPeqmvmy8"
   },
   "outputs": [],
   "source": [
    "def process_input(num_words, X_train, X_test, X_dev):\n",
    "    \n",
    "    tokenizer = tf.keras.preprocessing.text.Tokenizer(num_words=num_words, oov_token='<UNK>')\n",
    "    tokenizer.fit_on_texts(X_train)\n",
    "\n",
    "    #convert text data to numerical indexes\n",
    "    train_seqs = tokenizer.texts_to_sequences(X_train)\n",
    "    dev_seqs = tokenizer.texts_to_sequences(X_dev)\n",
    "    test_seqs = tokenizer.texts_to_sequences(X_test)\n",
    "\n",
    "    max_sequnce_len = max([len(x) for x in train_seqs])\n",
    "\n",
    "    train_seqs = tf.keras.preprocessing.sequence.pad_sequences(train_seqs, maxlen=max_sequnce_len, padding=\"post\")\n",
    "    test_seqs=tf.keras.preprocessing.sequence.pad_sequences(test_seqs, maxlen=max_sequnce_len, padding=\"post\")\n",
    "    dev_seqs=tf.keras.preprocessing.sequence.pad_sequences(dev_seqs, maxlen=max_sequnce_len, padding=\"post\")\n",
    "\n",
    "    return  train_seqs, test_seqs, dev_seqs, max_sequnce_len, tokenizer"
   ]
  },
  {
   "cell_type": "code",
   "execution_count": 11,
   "metadata": {
    "executionInfo": {
     "elapsed": 8,
     "status": "ok",
     "timestamp": 1648189116960,
     "user": {
      "displayName": "Thaweesak Chusri",
      "photoUrl": "https://lh3.googleusercontent.com/a-/AOh14Gj5PzlhZ6sYmXktrK-vzF5hfKwhW_E9rb7D4Vct=s64",
      "userId": "01804259234293140992"
     },
     "user_tz": -420
    },
    "id": "k2ZbA2fIJQQ9"
   },
   "outputs": [],
   "source": [
    "def process_input_combined_add_zero(num_words, X_train, X_dev, X_test, X_1, X_2):\n",
    "    \n",
    "    tokenizer = tf.keras.preprocessing.text.Tokenizer(num_words=num_words, oov_token='<UNK>')\n",
    "    X_combined = list(X_train[:, 0]) + list(X_train[:, 1])\n",
    "    tokenizer.fit_on_texts(X_combined)\n",
    "\n",
    "    #convert text data to numerical indexes\n",
    "    train_seqs1 = tokenizer.texts_to_sequences(X_train[:, 0])\n",
    "    train_seqs2 = tokenizer.texts_to_sequences(X_train[:, 1])\n",
    "    \n",
    "    dev_seqs1 = tokenizer.texts_to_sequences(X_dev[:, 0])\n",
    "    dev_seqs2 = tokenizer.texts_to_sequences(X_dev[:, 1])\n",
    "    \n",
    "    test_seqs1 = tokenizer.texts_to_sequences(X_test[:, 0])\n",
    "    test_seqs2 = tokenizer.texts_to_sequences(X_test[:, 1])\n",
    "    \n",
    "\n",
    "    zero_seq_1 = tokenizer.texts_to_sequences(X_1)\n",
    "    zero_seq_2 = tokenizer.texts_to_sequences(X_2)\n",
    "\n",
    "    max_len = max([len(x) for x in train_seqs1 + train_seqs2])\n",
    "\n",
    "    train_seqs1 = tf.keras.preprocessing.sequence.pad_sequences(train_seqs1, maxlen=max_len, padding=\"post\")\n",
    "    test_seqs1=tf.keras.preprocessing.sequence.pad_sequences(test_seqs1, maxlen=max_len, padding=\"post\")\n",
    "    dev_seqs1 =tf.keras.preprocessing.sequence.pad_sequences(dev_seqs1, maxlen=max_len, padding=\"post\")\n",
    "    \n",
    "    train_seqs2 = tf.keras.preprocessing.sequence.pad_sequences(train_seqs2, maxlen=max_len, padding=\"post\")\n",
    "    test_seqs2=tf.keras.preprocessing.sequence.pad_sequences(test_seqs2, maxlen=max_len, padding=\"post\")\n",
    "    dev_seqs2 =tf.keras.preprocessing.sequence.pad_sequences(dev_seqs2, maxlen=max_len, padding=\"post\")\n",
    "\n",
    "\n",
    "    zero_seq_1=tf.keras.preprocessing.sequence.pad_sequences(zero_seq_1, maxlen=max_len, padding=\"post\")\n",
    "    zero_seq_2=tf.keras.preprocessing.sequence.pad_sequences(zero_seq_2, maxlen=max_len, padding=\"post\")\n",
    "\n",
    "    return  train_seqs1, train_seqs2, dev_seqs1, dev_seqs2, test_seqs1, test_seqs2, max_len, tokenizer, zero_seq_1, zero_seq_2"
   ]
  },
  {
   "cell_type": "code",
   "execution_count": 12,
   "metadata": {
    "executionInfo": {
     "elapsed": 8,
     "status": "ok",
     "timestamp": 1648189116960,
     "user": {
      "displayName": "Thaweesak Chusri",
      "photoUrl": "https://lh3.googleusercontent.com/a-/AOh14Gj5PzlhZ6sYmXktrK-vzF5hfKwhW_E9rb7D4Vct=s64",
      "userId": "01804259234293140992"
     },
     "user_tz": -420
    },
    "id": "185QaxiViATx"
   },
   "outputs": [],
   "source": [
    "idx = {251 : 'ประมวลกฎหมายวิธีพิจารณาความแพ่ง 55',\n",
    "692 : 'ประมวลกฎหมายแพ่งและพาณิชย์ 425',\n",
    "704 : 'ประมวลกฎหมายแพ่งและพาณิชย์ 438',\n",
    "154 : 'ประมวลกฎหมายวิธีพิจารณาความแพ่ง 172',\n",
    "135 : 'ประมวลกฎหมายวิธีพิจารณาความแพ่ง 142',\n",
    "715 : 'ประมวลกฎหมายแพ่งและพาณิชย์ 448',\n",
    "688 : 'ประมวลกฎหมายแพ่งและพาณิชย์ 421',\n",
    "202 : 'ประมวลกฎหมายวิธีพิจารณาความแพ่ง 249',\n",
    "100 : 'ประมวลกฎหมายวิธีพิจารณาความอาญา 46',\n",
    "417 :  'ประมวลกฎหมายแพ่งและพาณิชย์ 1336'}"
   ]
  },
  {
   "cell_type": "code",
   "execution_count": 13,
   "metadata": {
    "executionInfo": {
     "elapsed": 8,
     "status": "ok",
     "timestamp": 1648189116961,
     "user": {
      "displayName": "Thaweesak Chusri",
      "photoUrl": "https://lh3.googleusercontent.com/a-/AOh14Gj5PzlhZ6sYmXktrK-vzF5hfKwhW_E9rb7D4Vct=s64",
      "userId": "01804259234293140992"
     },
     "user_tz": -420
    },
    "id": "HWuS32Idho29"
   },
   "outputs": [],
   "source": [
    "BATCH_SIZE=64\n",
    "EPOCHS = 5\n",
    "NUM_WORDS=8000\n",
    "embedding_size = 300\n",
    "lr = 3e-4"
   ]
  },
  {
   "cell_type": "code",
   "execution_count": 15,
   "metadata": {
    "executionInfo": {
     "elapsed": 11281,
     "status": "ok",
     "timestamp": 1648189144962,
     "user": {
      "displayName": "Thaweesak Chusri",
      "photoUrl": "https://lh3.googleusercontent.com/a-/AOh14Gj5PzlhZ6sYmXktrK-vzF5hfKwhW_E9rb7D4Vct=s64",
      "userId": "01804259234293140992"
     },
     "user_tz": -420
    },
    "id": "CWFmp86grmYG"
   },
   "outputs": [],
   "source": [
    "df = pd.read_parquet('data/play_deka_df.parquet')"
   ]
  },
  {
   "cell_type": "code",
   "execution_count": 16,
   "metadata": {
    "colab": {
     "base_uri": "https://localhost:8080/",
     "height": 337
    },
    "executionInfo": {
     "elapsed": 7,
     "status": "ok",
     "timestamp": 1648189144963,
     "user": {
      "displayName": "Thaweesak Chusri",
      "photoUrl": "https://lh3.googleusercontent.com/a-/AOh14Gj5PzlhZ6sYmXktrK-vzF5hfKwhW_E9rb7D4Vct=s64",
      "userId": "01804259234293140992"
     },
     "user_tz": -420
    },
    "id": "qvZ0PZn-GypH",
    "outputId": "16b25ef1-abd6-488d-abe7-a2d322473680"
   },
   "outputs": [
    {
     "data": {
      "text/html": [
       "\n",
       "  <div id=\"df-a7c8d475-76f8-4b83-96ab-2e4147584ca5\">\n",
       "    <div class=\"colab-df-container\">\n",
       "      <div>\n",
       "<style scoped>\n",
       "    .dataframe tbody tr th:only-of-type {\n",
       "        vertical-align: middle;\n",
       "    }\n",
       "\n",
       "    .dataframe tbody tr th {\n",
       "        vertical-align: top;\n",
       "    }\n",
       "\n",
       "    .dataframe thead th {\n",
       "        text-align: right;\n",
       "    }\n",
       "</style>\n",
       "<table border=\"1\" class=\"dataframe\">\n",
       "  <thead>\n",
       "    <tr style=\"text-align: right;\">\n",
       "      <th></th>\n",
       "      <th>case</th>\n",
       "      <th>token</th>\n",
       "      <th>long_text</th>\n",
       "      <th>law</th>\n",
       "      <th>law_content</th>\n",
       "      <th>law_content_token</th>\n",
       "    </tr>\n",
       "  </thead>\n",
       "  <tbody>\n",
       "    <tr>\n",
       "      <th>0</th>\n",
       "      <td>2483###729</td>\n",
       "      <td>[คดี, นี้, โจทก์, ฟ้อง, ขอ, ให้, ลง, โทษ, จำเล...</td>\n",
       "      <td>คดีนี้โจทก์ฟ้องขอให้ลงโทษจำเลยฐานมีอาวุธปืนโดย...</td>\n",
       "      <td>ประมวลกฎหมายอาญา 60</td>\n",
       "      <td>ผู้ใดเจตนาที่จะกระทำต่อบุคคลหนึ่ง แต่ผลของกา...</td>\n",
       "      <td>[ ,  , ผู้, ใด, เจตนา, ที่, จะ, กระทำ, ต่อ, บุ...</td>\n",
       "    </tr>\n",
       "    <tr>\n",
       "      <th>1</th>\n",
       "      <td>2483###729</td>\n",
       "      <td>[คดี, นี้, โจทก์, ฟ้อง, ขอ, ให้, ลง, โทษ, จำเล...</td>\n",
       "      <td>คดีนี้โจทก์ฟ้องขอให้ลงโทษจำเลยฐานมีอาวุธปืนโดย...</td>\n",
       "      <td>ประมวลกฎหมายอาญา 249</td>\n",
       "      <td>ผู้ใดทำบัตรหรือโลหะธาตุอย่างใด ๆ ให้มีลักษณะ...</td>\n",
       "      <td>[ ,  , ผู้, ใด, ทำ, บัตร, หรือ, โลหะ, ธาตุ, อย...</td>\n",
       "    </tr>\n",
       "    <tr>\n",
       "      <th>2</th>\n",
       "      <td>2483###729</td>\n",
       "      <td>[คดี, นี้, โจทก์, ฟ้อง, ขอ, ให้, ลง, โทษ, จำเล...</td>\n",
       "      <td>คดีนี้โจทก์ฟ้องขอให้ลงโทษจำเลยฐานมีอาวุธปืนโดย...</td>\n",
       "      <td>ประมวลกฎหมายอาญา 59</td>\n",
       "      <td>บุคคลจะต้องรับผิดในทางอาญาก็ต่อเมื่อได้กระทำ...</td>\n",
       "      <td>[ ,  , บุคคล, จะ, ต้อง, รับผิด, ใน, ทาง, อาญา,...</td>\n",
       "    </tr>\n",
       "    <tr>\n",
       "      <th>3</th>\n",
       "      <td>2483###816</td>\n",
       "      <td>[คดี, นี้, ได้, ความ, ว่า, จำเลย, เอา, ไฟ, จุด...</td>\n",
       "      <td>คดีนี้ได้ความว่าจำเลยเอาไฟจุดเผาตูบของเจ้าทรัพ...</td>\n",
       "      <td>ประมวลกฎหมายอาญา 186</td>\n",
       "      <td>ผู้ใดทำให้เสียหาย ทำลาย ซ่อนเร้น เอาไปเสีย ห...</td>\n",
       "      <td>[ ,  , ผู้, ใด, ทำ, ให้, เสียหาย,  , ทำลาย,  ,...</td>\n",
       "    </tr>\n",
       "    <tr>\n",
       "      <th>4</th>\n",
       "      <td>2483###816</td>\n",
       "      <td>[คดี, นี้, ได้, ความ, ว่า, จำเลย, เอา, ไฟ, จุด...</td>\n",
       "      <td>คดีนี้ได้ความว่าจำเลยเอาไฟจุดเผาตูบของเจ้าทรัพ...</td>\n",
       "      <td>ประมวลกฎหมายอาญา 189</td>\n",
       "      <td>ผู้ใดช่วยผู้อื่นซึ่งเป็นผู้กระทำความผิด หรือ...</td>\n",
       "      <td>[ ,  , ผู้, ใด, ช่วย, ผู้, อื่น, ซึ่ง, เป็น, ผ...</td>\n",
       "    </tr>\n",
       "  </tbody>\n",
       "</table>\n",
       "</div>\n",
       "      <button class=\"colab-df-convert\" onclick=\"convertToInteractive('df-a7c8d475-76f8-4b83-96ab-2e4147584ca5')\"\n",
       "              title=\"Convert this dataframe to an interactive table.\"\n",
       "              style=\"display:none;\">\n",
       "        \n",
       "  <svg xmlns=\"http://www.w3.org/2000/svg\" height=\"24px\"viewBox=\"0 0 24 24\"\n",
       "       width=\"24px\">\n",
       "    <path d=\"M0 0h24v24H0V0z\" fill=\"none\"/>\n",
       "    <path d=\"M18.56 5.44l.94 2.06.94-2.06 2.06-.94-2.06-.94-.94-2.06-.94 2.06-2.06.94zm-11 1L8.5 8.5l.94-2.06 2.06-.94-2.06-.94L8.5 2.5l-.94 2.06-2.06.94zm10 10l.94 2.06.94-2.06 2.06-.94-2.06-.94-.94-2.06-.94 2.06-2.06.94z\"/><path d=\"M17.41 7.96l-1.37-1.37c-.4-.4-.92-.59-1.43-.59-.52 0-1.04.2-1.43.59L10.3 9.45l-7.72 7.72c-.78.78-.78 2.05 0 2.83L4 21.41c.39.39.9.59 1.41.59.51 0 1.02-.2 1.41-.59l7.78-7.78 2.81-2.81c.8-.78.8-2.07 0-2.86zM5.41 20L4 18.59l7.72-7.72 1.47 1.35L5.41 20z\"/>\n",
       "  </svg>\n",
       "      </button>\n",
       "      \n",
       "  <style>\n",
       "    .colab-df-container {\n",
       "      display:flex;\n",
       "      flex-wrap:wrap;\n",
       "      gap: 12px;\n",
       "    }\n",
       "\n",
       "    .colab-df-convert {\n",
       "      background-color: #E8F0FE;\n",
       "      border: none;\n",
       "      border-radius: 50%;\n",
       "      cursor: pointer;\n",
       "      display: none;\n",
       "      fill: #1967D2;\n",
       "      height: 32px;\n",
       "      padding: 0 0 0 0;\n",
       "      width: 32px;\n",
       "    }\n",
       "\n",
       "    .colab-df-convert:hover {\n",
       "      background-color: #E2EBFA;\n",
       "      box-shadow: 0px 1px 2px rgba(60, 64, 67, 0.3), 0px 1px 3px 1px rgba(60, 64, 67, 0.15);\n",
       "      fill: #174EA6;\n",
       "    }\n",
       "\n",
       "    [theme=dark] .colab-df-convert {\n",
       "      background-color: #3B4455;\n",
       "      fill: #D2E3FC;\n",
       "    }\n",
       "\n",
       "    [theme=dark] .colab-df-convert:hover {\n",
       "      background-color: #434B5C;\n",
       "      box-shadow: 0px 1px 3px 1px rgba(0, 0, 0, 0.15);\n",
       "      filter: drop-shadow(0px 1px 2px rgba(0, 0, 0, 0.3));\n",
       "      fill: #FFFFFF;\n",
       "    }\n",
       "  </style>\n",
       "\n",
       "      <script>\n",
       "        const buttonEl =\n",
       "          document.querySelector('#df-a7c8d475-76f8-4b83-96ab-2e4147584ca5 button.colab-df-convert');\n",
       "        buttonEl.style.display =\n",
       "          google.colab.kernel.accessAllowed ? 'block' : 'none';\n",
       "\n",
       "        async function convertToInteractive(key) {\n",
       "          const element = document.querySelector('#df-a7c8d475-76f8-4b83-96ab-2e4147584ca5');\n",
       "          const dataTable =\n",
       "            await google.colab.kernel.invokeFunction('convertToInteractive',\n",
       "                                                     [key], {});\n",
       "          if (!dataTable) return;\n",
       "\n",
       "          const docLinkHtml = 'Like what you see? Visit the ' +\n",
       "            '<a target=\"_blank\" href=https://colab.research.google.com/notebooks/data_table.ipynb>data table notebook</a>'\n",
       "            + ' to learn more about interactive tables.';\n",
       "          element.innerHTML = '';\n",
       "          dataTable['output_type'] = 'display_data';\n",
       "          await google.colab.output.renderOutput(dataTable, element);\n",
       "          const docLink = document.createElement('div');\n",
       "          docLink.innerHTML = docLinkHtml;\n",
       "          element.appendChild(docLink);\n",
       "        }\n",
       "      </script>\n",
       "    </div>\n",
       "  </div>\n",
       "  "
      ],
      "text/plain": [
       "         case                                              token  \\\n",
       "0  2483###729  [คดี, นี้, โจทก์, ฟ้อง, ขอ, ให้, ลง, โทษ, จำเล...   \n",
       "1  2483###729  [คดี, นี้, โจทก์, ฟ้อง, ขอ, ให้, ลง, โทษ, จำเล...   \n",
       "2  2483###729  [คดี, นี้, โจทก์, ฟ้อง, ขอ, ให้, ลง, โทษ, จำเล...   \n",
       "3  2483###816  [คดี, นี้, ได้, ความ, ว่า, จำเลย, เอา, ไฟ, จุด...   \n",
       "4  2483###816  [คดี, นี้, ได้, ความ, ว่า, จำเลย, เอา, ไฟ, จุด...   \n",
       "\n",
       "                                           long_text                   law  \\\n",
       "0  คดีนี้โจทก์ฟ้องขอให้ลงโทษจำเลยฐานมีอาวุธปืนโดย...   ประมวลกฎหมายอาญา 60   \n",
       "1  คดีนี้โจทก์ฟ้องขอให้ลงโทษจำเลยฐานมีอาวุธปืนโดย...  ประมวลกฎหมายอาญา 249   \n",
       "2  คดีนี้โจทก์ฟ้องขอให้ลงโทษจำเลยฐานมีอาวุธปืนโดย...   ประมวลกฎหมายอาญา 59   \n",
       "3  คดีนี้ได้ความว่าจำเลยเอาไฟจุดเผาตูบของเจ้าทรัพ...  ประมวลกฎหมายอาญา 186   \n",
       "4  คดีนี้ได้ความว่าจำเลยเอาไฟจุดเผาตูบของเจ้าทรัพ...  ประมวลกฎหมายอาญา 189   \n",
       "\n",
       "                                         law_content  \\\n",
       "0    ผู้ใดเจตนาที่จะกระทำต่อบุคคลหนึ่ง แต่ผลของกา...   \n",
       "1    ผู้ใดทำบัตรหรือโลหะธาตุอย่างใด ๆ ให้มีลักษณะ...   \n",
       "2    บุคคลจะต้องรับผิดในทางอาญาก็ต่อเมื่อได้กระทำ...   \n",
       "3    ผู้ใดทำให้เสียหาย ทำลาย ซ่อนเร้น เอาไปเสีย ห...   \n",
       "4    ผู้ใดช่วยผู้อื่นซึ่งเป็นผู้กระทำความผิด หรือ...   \n",
       "\n",
       "                                   law_content_token  \n",
       "0  [ ,  , ผู้, ใด, เจตนา, ที่, จะ, กระทำ, ต่อ, บุ...  \n",
       "1  [ ,  , ผู้, ใด, ทำ, บัตร, หรือ, โลหะ, ธาตุ, อย...  \n",
       "2  [ ,  , บุคคล, จะ, ต้อง, รับผิด, ใน, ทาง, อาญา,...  \n",
       "3  [ ,  , ผู้, ใด, ทำ, ให้, เสียหาย,  , ทำลาย,  ,...  \n",
       "4  [ ,  , ผู้, ใด, ช่วย, ผู้, อื่น, ซึ่ง, เป็น, ผ...  "
      ]
     },
     "execution_count": 16,
     "metadata": {},
     "output_type": "execute_result"
    }
   ],
   "source": [
    "df.head()"
   ]
  },
  {
   "cell_type": "code",
   "execution_count": 17,
   "metadata": {
    "executionInfo": {
     "elapsed": 2708,
     "status": "ok",
     "timestamp": 1648189147666,
     "user": {
      "displayName": "Thaweesak Chusri",
      "photoUrl": "https://lh3.googleusercontent.com/a-/AOh14Gj5PzlhZ6sYmXktrK-vzF5hfKwhW_E9rb7D4Vct=s64",
      "userId": "01804259234293140992"
     },
     "user_tz": -420
    },
    "id": "kZ_1axzV0lnL"
   },
   "outputs": [],
   "source": [
    "df2 = pd.read_pickle('data/filt_df.pickle')"
   ]
  },
  {
   "cell_type": "code",
   "execution_count": 18,
   "metadata": {
    "executionInfo": {
     "elapsed": 7,
     "status": "ok",
     "timestamp": 1648189147667,
     "user": {
      "displayName": "Thaweesak Chusri",
      "photoUrl": "https://lh3.googleusercontent.com/a-/AOh14Gj5PzlhZ6sYmXktrK-vzF5hfKwhW_E9rb7D4Vct=s64",
      "userId": "01804259234293140992"
     },
     "user_tz": -420
    },
    "id": "bhucKTCQ0tRH"
   },
   "outputs": [],
   "source": [
    "exludes = set(df2.case_id)"
   ]
  },
  {
   "cell_type": "code",
   "execution_count": 19,
   "metadata": {
    "colab": {
     "base_uri": "https://localhost:8080/"
    },
    "executionInfo": {
     "elapsed": 7,
     "status": "ok",
     "timestamp": 1648189147667,
     "user": {
      "displayName": "Thaweesak Chusri",
      "photoUrl": "https://lh3.googleusercontent.com/a-/AOh14Gj5PzlhZ6sYmXktrK-vzF5hfKwhW_E9rb7D4Vct=s64",
      "userId": "01804259234293140992"
     },
     "user_tz": -420
    },
    "id": "rUV6qGJQGQD2",
    "outputId": "1d382963-9d50-4786-c58d-38ffa22bc66b"
   },
   "outputs": [
    {
     "data": {
      "text/plain": [
       "False"
      ]
     },
     "execution_count": 19,
     "metadata": {},
     "output_type": "execute_result"
    }
   ],
   "source": [
    "'2483###729' in exludes"
   ]
  },
  {
   "cell_type": "code",
   "execution_count": 20,
   "metadata": {
    "colab": {
     "base_uri": "https://localhost:8080/"
    },
    "executionInfo": {
     "elapsed": 1147,
     "status": "ok",
     "timestamp": 1648189148809,
     "user": {
      "displayName": "Thaweesak Chusri",
      "photoUrl": "https://lh3.googleusercontent.com/a-/AOh14Gj5PzlhZ6sYmXktrK-vzF5hfKwhW_E9rb7D4Vct=s64",
      "userId": "01804259234293140992"
     },
     "user_tz": -420
    },
    "id": "Uou9zxeF1O3G",
    "outputId": "57bc30df-774b-4444-9e83-eaf4deb82d9e"
   },
   "outputs": [
    {
     "data": {
      "text/plain": [
       "10"
      ]
     },
     "execution_count": 20,
     "metadata": {},
     "output_type": "execute_result"
    }
   ],
   "source": [
    "e = {}\n",
    "for c, d in df2.iterrows():\n",
    "  e[d.legal_encoded] = d.legal_content_token\n",
    "len(e)"
   ]
  },
  {
   "cell_type": "code",
   "execution_count": 21,
   "metadata": {
    "colab": {
     "base_uri": "https://localhost:8080/"
    },
    "executionInfo": {
     "elapsed": 7,
     "status": "ok",
     "timestamp": 1648189148810,
     "user": {
      "displayName": "Thaweesak Chusri",
      "photoUrl": "https://lh3.googleusercontent.com/a-/AOh14Gj5PzlhZ6sYmXktrK-vzF5hfKwhW_E9rb7D4Vct=s64",
      "userId": "01804259234293140992"
     },
     "user_tz": -420
    },
    "id": "GT1zd5uO1rpB",
    "outputId": "b9e2e95c-5f12-4528-fab1-9a371d0be08b"
   },
   "outputs": [
    {
     "data": {
      "text/plain": [
       "['ภาย',\n",
       " 'ใน',\n",
       " 'บังคับ',\n",
       " 'แห่ง',\n",
       " 'กฎหมาย',\n",
       " 'เจ้าของ',\n",
       " 'ทรัพย์สิน',\n",
       " 'มี',\n",
       " 'สิทธิ',\n",
       " 'ใช้สอย',\n",
       " 'และ',\n",
       " 'จำหน่าย',\n",
       " 'ทรัพย์สิน',\n",
       " 'ของ',\n",
       " 'ตน',\n",
       " 'และ',\n",
       " 'ได้',\n",
       " 'ซึ่ง',\n",
       " 'ดอก',\n",
       " 'ผล',\n",
       " 'แห่ง',\n",
       " 'ทรัพย์สิน',\n",
       " 'นั้น',\n",
       " 'กับ',\n",
       " 'ทั้ง',\n",
       " 'มี',\n",
       " 'สิทธิ',\n",
       " 'ติดตาม',\n",
       " 'และ',\n",
       " 'เอา',\n",
       " 'คืน',\n",
       " 'ซึ่ง',\n",
       " 'ทรัพย์สิน',\n",
       " 'ของ',\n",
       " 'ตน',\n",
       " 'จาก',\n",
       " 'บุคคล',\n",
       " 'ผู้',\n",
       " 'ไม่',\n",
       " 'มี',\n",
       " 'สิทธิ',\n",
       " 'จะ',\n",
       " 'ยึดถือ',\n",
       " 'ไว้',\n",
       " 'และ',\n",
       " 'มี',\n",
       " 'สิทธิ',\n",
       " 'ขัดขวาง',\n",
       " 'มิ',\n",
       " 'ให้',\n",
       " 'ผู้',\n",
       " 'อื่น',\n",
       " 'สอด',\n",
       " 'เข้า',\n",
       " 'เกี่ยวข้อง',\n",
       " 'กับ',\n",
       " 'ทรัพย์สิน',\n",
       " 'นั้น',\n",
       " 'โดย',\n",
       " 'มิ',\n",
       " 'ชอบ',\n",
       " 'ด้วย',\n",
       " 'กฎหมาย']"
      ]
     },
     "execution_count": 21,
     "metadata": {},
     "output_type": "execute_result"
    }
   ],
   "source": [
    "import random\n",
    "random.randrange(10)\n",
    "e.keys()\n",
    "\n",
    "e[list(e)[random.randrange(10)]]"
   ]
  },
  {
   "cell_type": "code",
   "execution_count": 22,
   "metadata": {
    "colab": {
     "base_uri": "https://localhost:8080/"
    },
    "executionInfo": {
     "elapsed": 702959,
     "status": "ok",
     "timestamp": 1648189851766,
     "user": {
      "displayName": "Thaweesak Chusri",
      "photoUrl": "https://lh3.googleusercontent.com/a-/AOh14Gj5PzlhZ6sYmXktrK-vzF5hfKwhW_E9rb7D4Vct=s64",
      "userId": "01804259234293140992"
     },
     "user_tz": -420
    },
    "id": "NiD3nZQkHEtM",
    "outputId": "18bcc609-a96f-4886-ef59-4fb2bec08a3e"
   },
   "outputs": [
    {
     "name": "stdout",
     "output_type": "stream",
     "text": [
      "1000\n",
      "2000\n",
      "3000\n",
      "4000\n",
      "5000\n",
      "6000\n",
      "7000\n",
      "8000\n",
      "9000\n",
      "10000\n",
      "11000\n",
      "12000\n",
      "13000\n",
      "14000\n",
      "15000\n",
      "16000\n",
      "17000\n",
      "18000\n",
      "19000\n",
      "20000\n",
      "21000\n",
      "22000\n",
      "23000\n",
      "24000\n",
      "25000\n",
      "26000\n",
      "27000\n",
      "28000\n",
      "29000\n",
      "30000\n",
      "31000\n",
      "32000\n",
      "33000\n",
      "34000\n",
      "35000\n",
      "36000\n",
      "37000\n",
      "38000\n",
      "39000\n",
      "40000\n",
      "41000\n",
      "42000\n",
      "43000\n",
      "44000\n",
      "45000\n",
      "46000\n",
      "47000\n",
      "48000\n",
      "49000\n",
      "50000\n",
      "51000\n",
      "52000\n",
      "53000\n",
      "54000\n",
      "55000\n",
      "56000\n",
      "57000\n",
      "58000\n",
      "59000\n",
      "60000\n",
      "61000\n",
      "62000\n",
      "63000\n",
      "64000\n",
      "65000\n",
      "66000\n",
      "67000\n",
      "68000\n",
      "69000\n",
      "70000\n",
      "71000\n",
      "72000\n",
      "73000\n",
      "74000\n",
      "75000\n",
      "76000\n",
      "77000\n",
      "78000\n",
      "79000\n",
      "80000\n",
      "81000\n",
      "82000\n",
      "83000\n",
      "84000\n",
      "85000\n",
      "86000\n",
      "87000\n",
      "88000\n",
      "89000\n",
      "90000\n",
      "91000\n",
      "92000\n",
      "93000\n",
      "94000\n",
      "95000\n",
      "96000\n",
      "97000\n",
      "98000\n",
      "99000\n",
      "100000\n",
      "101000\n",
      "102000\n",
      "103000\n",
      "104000\n",
      "105000\n",
      "106000\n",
      "107000\n",
      "108000\n",
      "109000\n",
      "110000\n",
      "111000\n",
      "112000\n",
      "113000\n",
      "114000\n",
      "115000\n",
      "116000\n",
      "117000\n",
      "118000\n",
      "119000\n",
      "120000\n",
      "121000\n",
      "122000\n",
      "123000\n",
      "124000\n",
      "125000\n",
      "126000\n",
      "127000\n",
      "128000\n",
      "129000\n",
      "130000\n",
      "131000\n",
      "132000\n",
      "133000\n",
      "134000\n",
      "135000\n",
      "136000\n",
      "137000\n",
      "138000\n",
      "139000\n",
      "140000\n",
      "141000\n",
      "142000\n",
      "143000\n",
      "144000\n",
      "145000\n",
      "146000\n",
      "147000\n",
      "148000\n",
      "149000\n",
      "150000\n",
      "151000\n",
      "152000\n",
      "153000\n",
      "154000\n",
      "155000\n",
      "156000\n",
      "157000\n",
      "158000\n",
      "159000\n",
      "160000\n",
      "161000\n",
      "162000\n",
      "163000\n",
      "164000\n",
      "165000\n",
      "166000\n",
      "167000\n",
      "168000\n",
      "169000\n",
      "170000\n",
      "171000\n",
      "172000\n",
      "173000\n",
      "174000\n",
      "175000\n",
      "176000\n",
      "177000\n",
      "178000\n",
      "179000\n",
      "180000\n",
      "181000\n",
      "182000\n",
      "183000\n",
      "184000\n",
      "185000\n",
      "186000\n",
      "187000\n",
      "188000\n",
      "189000\n",
      "190000\n",
      "191000\n",
      "192000\n",
      "193000\n",
      "194000\n",
      "195000\n",
      "196000\n",
      "197000\n",
      "198000\n",
      "199000\n",
      "200000\n"
     ]
    }
   ],
   "source": [
    "# law = df.law_content_token.apply(join)\n",
    "X_1 = []\n",
    "X_2 = []\n",
    "X_3 = []\n",
    "Y = []\n",
    "for i, doc in df.iterrows():\n",
    "  case = doc.case\n",
    "  if case in exludes:\n",
    "    continue\n",
    "  if (doc.law_content_token is not None and len(doc.law_content_token) > 10):\n",
    "    df3 = df[df['case'] == doc.case]\n",
    "    token = ' '.join(doc.token)\n",
    "    law_t = ' '.join(doc.law_content_token[1:])\n",
    "    X_1.append(token)\n",
    "    X_2.append(law_t)\n",
    "    X_3.append(case)\n",
    "    Y.append(1)\n",
    "    law_t_2 = e[list(e)[random.randrange(10)]]\n",
    "    X_1.append(token)\n",
    "    X_2.append(law_t_2)\n",
    "    X_3.append(case)\n",
    "    Y.append(0)\n",
    "    if (len(X_1) % 1000 == 0):\n",
    "      print(len(X_1))\n",
    "    if (len(X_1) == 200000):\n",
    "      break\n",
    "    # break"
   ]
  },
  {
   "cell_type": "code",
   "execution_count": 23,
   "metadata": {
    "colab": {
     "base_uri": "https://localhost:8080/",
     "height": 358
    },
    "executionInfo": {
     "elapsed": 24,
     "status": "ok",
     "timestamp": 1648189851767,
     "user": {
      "displayName": "Thaweesak Chusri",
      "photoUrl": "https://lh3.googleusercontent.com/a-/AOh14Gj5PzlhZ6sYmXktrK-vzF5hfKwhW_E9rb7D4Vct=s64",
      "userId": "01804259234293140992"
     },
     "user_tz": -420
    },
    "id": "GSrU1AkE09HA",
    "outputId": "a012f157-4c26-4375-fe79-33b9b5695188"
   },
   "outputs": [
    {
     "data": {
      "text/html": [
       "\n",
       "  <div id=\"df-d2ecfe10-7a83-4150-be88-3184dced97af\">\n",
       "    <div class=\"colab-df-container\">\n",
       "      <div>\n",
       "<style scoped>\n",
       "    .dataframe tbody tr th:only-of-type {\n",
       "        vertical-align: middle;\n",
       "    }\n",
       "\n",
       "    .dataframe tbody tr th {\n",
       "        vertical-align: top;\n",
       "    }\n",
       "\n",
       "    .dataframe thead th {\n",
       "        text-align: right;\n",
       "    }\n",
       "</style>\n",
       "<table border=\"1\" class=\"dataframe\">\n",
       "  <thead>\n",
       "    <tr style=\"text-align: right;\">\n",
       "      <th></th>\n",
       "      <th>case</th>\n",
       "      <th>token</th>\n",
       "      <th>long_text</th>\n",
       "      <th>law</th>\n",
       "      <th>law_content</th>\n",
       "      <th>law_content_token</th>\n",
       "    </tr>\n",
       "  </thead>\n",
       "  <tbody>\n",
       "    <tr>\n",
       "      <th>108886</th>\n",
       "      <td>2541###5838</td>\n",
       "      <td>[โจทก์, ฟ้อง, ว่า,  , จำเลย, ทั้ง, สาม, ร่วม, ...</td>\n",
       "      <td>โจทก์ฟ้องว่า จำเลยทั้งสามร่วมกันลักเอานาฬิกาข้...</td>\n",
       "      <td>ประมวลกฎหมายอาญา 89</td>\n",
       "      <td>ถ้ามีเหตุส่วนตัวอันควรยกเว้นโทษ ลดโทษหรือเพิ...</td>\n",
       "      <td>[ ,  , ถ้า, มี, เหตุ, ส่วน, ตัว, อัน, ควร, ยกเ...</td>\n",
       "    </tr>\n",
       "    <tr>\n",
       "      <th>108887</th>\n",
       "      <td>2541###5838</td>\n",
       "      <td>[โจทก์, ฟ้อง, ว่า,  , จำเลย, ทั้ง, สาม, ร่วม, ...</td>\n",
       "      <td>โจทก์ฟ้องว่า จำเลยทั้งสามร่วมกันลักเอานาฬิกาข้...</td>\n",
       "      <td>ประมวลกฎหมายอาญา 295</td>\n",
       "      <td>ผู้ใดทำร้ายผู้อื่น จนเป็นเหตุให้เกิดอันตรายแ...</td>\n",
       "      <td>[ ,  , ผู้, ใด, ทำร้าย, ผู้, อื่น,  , จน, เป็น...</td>\n",
       "    </tr>\n",
       "    <tr>\n",
       "      <th>108888</th>\n",
       "      <td>2541###5838</td>\n",
       "      <td>[โจทก์, ฟ้อง, ว่า,  , จำเลย, ทั้ง, สาม, ร่วม, ...</td>\n",
       "      <td>โจทก์ฟ้องว่า จำเลยทั้งสามร่วมกันลักเอานาฬิกาข้...</td>\n",
       "      <td>ประมวลกฎหมายอาญา 335</td>\n",
       "      <td>ผู้ใดลักทรัพย์\\n(1) ในเวลากลางคืน\\n(2) ในที่...</td>\n",
       "      <td>[ ,  , ผู้, ใด, ลัก, ทรัพย์, \\n, (, 1, ),  , ใ...</td>\n",
       "    </tr>\n",
       "    <tr>\n",
       "      <th>108889</th>\n",
       "      <td>2541###5838</td>\n",
       "      <td>[โจทก์, ฟ้อง, ว่า,  , จำเลย, ทั้ง, สาม, ร่วม, ...</td>\n",
       "      <td>โจทก์ฟ้องว่า จำเลยทั้งสามร่วมกันลักเอานาฬิกาข้...</td>\n",
       "      <td>ประมวลกฎหมายวิธีพิจารณาความอาญา 192</td>\n",
       "      <td>ห้ามมิให้พิพากษา หรือสั่ง เกินคำขอ หรือที่มิ...</td>\n",
       "      <td>[ ,  , ห้าม, มิ, ให้, พิพากษา,  , หรือ, สั่ง, ...</td>\n",
       "    </tr>\n",
       "  </tbody>\n",
       "</table>\n",
       "</div>\n",
       "      <button class=\"colab-df-convert\" onclick=\"convertToInteractive('df-d2ecfe10-7a83-4150-be88-3184dced97af')\"\n",
       "              title=\"Convert this dataframe to an interactive table.\"\n",
       "              style=\"display:none;\">\n",
       "        \n",
       "  <svg xmlns=\"http://www.w3.org/2000/svg\" height=\"24px\"viewBox=\"0 0 24 24\"\n",
       "       width=\"24px\">\n",
       "    <path d=\"M0 0h24v24H0V0z\" fill=\"none\"/>\n",
       "    <path d=\"M18.56 5.44l.94 2.06.94-2.06 2.06-.94-2.06-.94-.94-2.06-.94 2.06-2.06.94zm-11 1L8.5 8.5l.94-2.06 2.06-.94-2.06-.94L8.5 2.5l-.94 2.06-2.06.94zm10 10l.94 2.06.94-2.06 2.06-.94-2.06-.94-.94-2.06-.94 2.06-2.06.94z\"/><path d=\"M17.41 7.96l-1.37-1.37c-.4-.4-.92-.59-1.43-.59-.52 0-1.04.2-1.43.59L10.3 9.45l-7.72 7.72c-.78.78-.78 2.05 0 2.83L4 21.41c.39.39.9.59 1.41.59.51 0 1.02-.2 1.41-.59l7.78-7.78 2.81-2.81c.8-.78.8-2.07 0-2.86zM5.41 20L4 18.59l7.72-7.72 1.47 1.35L5.41 20z\"/>\n",
       "  </svg>\n",
       "      </button>\n",
       "      \n",
       "  <style>\n",
       "    .colab-df-container {\n",
       "      display:flex;\n",
       "      flex-wrap:wrap;\n",
       "      gap: 12px;\n",
       "    }\n",
       "\n",
       "    .colab-df-convert {\n",
       "      background-color: #E8F0FE;\n",
       "      border: none;\n",
       "      border-radius: 50%;\n",
       "      cursor: pointer;\n",
       "      display: none;\n",
       "      fill: #1967D2;\n",
       "      height: 32px;\n",
       "      padding: 0 0 0 0;\n",
       "      width: 32px;\n",
       "    }\n",
       "\n",
       "    .colab-df-convert:hover {\n",
       "      background-color: #E2EBFA;\n",
       "      box-shadow: 0px 1px 2px rgba(60, 64, 67, 0.3), 0px 1px 3px 1px rgba(60, 64, 67, 0.15);\n",
       "      fill: #174EA6;\n",
       "    }\n",
       "\n",
       "    [theme=dark] .colab-df-convert {\n",
       "      background-color: #3B4455;\n",
       "      fill: #D2E3FC;\n",
       "    }\n",
       "\n",
       "    [theme=dark] .colab-df-convert:hover {\n",
       "      background-color: #434B5C;\n",
       "      box-shadow: 0px 1px 3px 1px rgba(0, 0, 0, 0.15);\n",
       "      filter: drop-shadow(0px 1px 2px rgba(0, 0, 0, 0.3));\n",
       "      fill: #FFFFFF;\n",
       "    }\n",
       "  </style>\n",
       "\n",
       "      <script>\n",
       "        const buttonEl =\n",
       "          document.querySelector('#df-d2ecfe10-7a83-4150-be88-3184dced97af button.colab-df-convert');\n",
       "        buttonEl.style.display =\n",
       "          google.colab.kernel.accessAllowed ? 'block' : 'none';\n",
       "\n",
       "        async function convertToInteractive(key) {\n",
       "          const element = document.querySelector('#df-d2ecfe10-7a83-4150-be88-3184dced97af');\n",
       "          const dataTable =\n",
       "            await google.colab.kernel.invokeFunction('convertToInteractive',\n",
       "                                                     [key], {});\n",
       "          if (!dataTable) return;\n",
       "\n",
       "          const docLinkHtml = 'Like what you see? Visit the ' +\n",
       "            '<a target=\"_blank\" href=https://colab.research.google.com/notebooks/data_table.ipynb>data table notebook</a>'\n",
       "            + ' to learn more about interactive tables.';\n",
       "          element.innerHTML = '';\n",
       "          dataTable['output_type'] = 'display_data';\n",
       "          await google.colab.output.renderOutput(dataTable, element);\n",
       "          const docLink = document.createElement('div');\n",
       "          docLink.innerHTML = docLinkHtml;\n",
       "          element.appendChild(docLink);\n",
       "        }\n",
       "      </script>\n",
       "    </div>\n",
       "  </div>\n",
       "  "
      ],
      "text/plain": [
       "               case                                              token  \\\n",
       "108886  2541###5838  [โจทก์, ฟ้อง, ว่า,  , จำเลย, ทั้ง, สาม, ร่วม, ...   \n",
       "108887  2541###5838  [โจทก์, ฟ้อง, ว่า,  , จำเลย, ทั้ง, สาม, ร่วม, ...   \n",
       "108888  2541###5838  [โจทก์, ฟ้อง, ว่า,  , จำเลย, ทั้ง, สาม, ร่วม, ...   \n",
       "108889  2541###5838  [โจทก์, ฟ้อง, ว่า,  , จำเลย, ทั้ง, สาม, ร่วม, ...   \n",
       "\n",
       "                                                long_text  \\\n",
       "108886  โจทก์ฟ้องว่า จำเลยทั้งสามร่วมกันลักเอานาฬิกาข้...   \n",
       "108887  โจทก์ฟ้องว่า จำเลยทั้งสามร่วมกันลักเอานาฬิกาข้...   \n",
       "108888  โจทก์ฟ้องว่า จำเลยทั้งสามร่วมกันลักเอานาฬิกาข้...   \n",
       "108889  โจทก์ฟ้องว่า จำเลยทั้งสามร่วมกันลักเอานาฬิกาข้...   \n",
       "\n",
       "                                        law  \\\n",
       "108886                  ประมวลกฎหมายอาญา 89   \n",
       "108887                 ประมวลกฎหมายอาญา 295   \n",
       "108888                 ประมวลกฎหมายอาญา 335   \n",
       "108889  ประมวลกฎหมายวิธีพิจารณาความอาญา 192   \n",
       "\n",
       "                                              law_content  \\\n",
       "108886    ถ้ามีเหตุส่วนตัวอันควรยกเว้นโทษ ลดโทษหรือเพิ...   \n",
       "108887    ผู้ใดทำร้ายผู้อื่น จนเป็นเหตุให้เกิดอันตรายแ...   \n",
       "108888    ผู้ใดลักทรัพย์\\n(1) ในเวลากลางคืน\\n(2) ในที่...   \n",
       "108889    ห้ามมิให้พิพากษา หรือสั่ง เกินคำขอ หรือที่มิ...   \n",
       "\n",
       "                                        law_content_token  \n",
       "108886  [ ,  , ถ้า, มี, เหตุ, ส่วน, ตัว, อัน, ควร, ยกเ...  \n",
       "108887  [ ,  , ผู้, ใด, ทำร้าย, ผู้, อื่น,  , จน, เป็น...  \n",
       "108888  [ ,  , ผู้, ใด, ลัก, ทรัพย์, \\n, (, 1, ),  , ใ...  \n",
       "108889  [ ,  , ห้าม, มิ, ให้, พิพากษา,  , หรือ, สั่ง, ...  "
      ]
     },
     "execution_count": 23,
     "metadata": {},
     "output_type": "execute_result"
    }
   ],
   "source": [
    "df3"
   ]
  },
  {
   "cell_type": "code",
   "execution_count": 24,
   "metadata": {
    "colab": {
     "base_uri": "https://localhost:8080/"
    },
    "executionInfo": {
     "elapsed": 13,
     "status": "ok",
     "timestamp": 1648189851768,
     "user": {
      "displayName": "Thaweesak Chusri",
      "photoUrl": "https://lh3.googleusercontent.com/a-/AOh14Gj5PzlhZ6sYmXktrK-vzF5hfKwhW_E9rb7D4Vct=s64",
      "userId": "01804259234293140992"
     },
     "user_tz": -420
    },
    "id": "0Nn8W5jrKlQc",
    "outputId": "11b9719b-a5d2-409a-d2f4-58c0ed0e05d8"
   },
   "outputs": [
    {
     "data": {
      "text/plain": [
       "200000"
      ]
     },
     "execution_count": 24,
     "metadata": {},
     "output_type": "execute_result"
    }
   ],
   "source": [
    "len(X_1)"
   ]
  },
  {
   "cell_type": "code",
   "execution_count": 25,
   "metadata": {
    "colab": {
     "base_uri": "https://localhost:8080/"
    },
    "executionInfo": {
     "elapsed": 3925,
     "status": "ok",
     "timestamp": 1648189855685,
     "user": {
      "displayName": "Thaweesak Chusri",
      "photoUrl": "https://lh3.googleusercontent.com/a-/AOh14Gj5PzlhZ6sYmXktrK-vzF5hfKwhW_E9rb7D4Vct=s64",
      "userId": "01804259234293140992"
     },
     "user_tz": -420
    },
    "id": "XA_050OwJfMf",
    "outputId": "d255ddd5-0315-4eb3-9abd-1f8bea9213c9"
   },
   "outputs": [
    {
     "name": "stdout",
     "output_type": "stream",
     "text": [
      "X:(17373, 4) Y:(17373,) legal_encoded_seq:17373\n",
      "X:(3726, 4) Y:(3726,) legal_encoded_seq:3726\n",
      "X:(3782, 4) Y:(3782,) legal_encoded_seq:3782\n"
     ]
    }
   ],
   "source": [
    "#split data\n",
    "X_train,Y_train,X_dev,Y_dev,X_test,Y_test = split_by_id(file = 'data/filt_df.pickle')"
   ]
  },
  {
   "cell_type": "code",
   "execution_count": 26,
   "metadata": {
    "executionInfo": {
     "elapsed": 161660,
     "status": "ok",
     "timestamp": 1648190017333,
     "user": {
      "displayName": "Thaweesak Chusri",
      "photoUrl": "https://lh3.googleusercontent.com/a-/AOh14Gj5PzlhZ6sYmXktrK-vzF5hfKwhW_E9rb7D4Vct=s64",
      "userId": "01804259234293140992"
     },
     "user_tz": -420
    },
    "id": "ll8hX7olIhxX"
   },
   "outputs": [],
   "source": [
    "#process data\n",
    "train_seqs1, train_seqs2, dev_seqs1, dev_seqs2, test_seqs1, test_seqs2, max_len, tokenizer, zero_seq_1, zero_seq_2 = process_input_combined_add_zero(NUM_WORDS, X_train, X_dev, X_test, X_1, X_2)"
   ]
  },
  {
   "cell_type": "code",
   "execution_count": 27,
   "metadata": {
    "executionInfo": {
     "elapsed": 15,
     "status": "ok",
     "timestamp": 1648190017333,
     "user": {
      "displayName": "Thaweesak Chusri",
      "photoUrl": "https://lh3.googleusercontent.com/a-/AOh14Gj5PzlhZ6sYmXktrK-vzF5hfKwhW_E9rb7D4Vct=s64",
      "userId": "01804259234293140992"
     },
     "user_tz": -420
    },
    "id": "8lTHWqq_pBQK"
   },
   "outputs": [],
   "source": [
    "def evaluate_avg(y_pred, true):\n",
    "  pred = [1 if lst > np.mean(y_pred) else 0  for lst in y_pred ]\n",
    "  f1 =  f1_score(true, pred, labels=[1])\n",
    "  recall = recall_score(true, pred,labels=[1])\n",
    "  precision = precision_score(true,pred,labels=[1])\n",
    "  print(f1, recall, precision)"
   ]
  },
  {
   "cell_type": "code",
   "execution_count": 28,
   "metadata": {
    "colab": {
     "base_uri": "https://localhost:8080/"
    },
    "executionInfo": {
     "elapsed": 76678,
     "status": "ok",
     "timestamp": 1648190093998,
     "user": {
      "displayName": "Thaweesak Chusri",
      "photoUrl": "https://lh3.googleusercontent.com/a-/AOh14Gj5PzlhZ6sYmXktrK-vzF5hfKwhW_E9rb7D4Vct=s64",
      "userId": "01804259234293140992"
     },
     "user_tz": -420
    },
    "id": "j5VEye79hxI4",
    "outputId": "3a0b54d2-cca8-4450-fea8-cc0709137ae7"
   },
   "outputs": [
    {
     "name": "stdout",
     "output_type": "stream",
     "text": [
      "6250/6250 [==============================] - 67s 9ms/step\n"
     ]
    }
   ],
   "source": [
    "cnn_base = tf.keras.models.load_model('saved_models/multi_simese_cnn', custom_objects={'recall':recall, 'precision':precision, 'microf1':microf1, 'macrof1': macrof1})\n",
    "cnn_result = cnn_base.predict([zero_seq_1, zero_seq_2], verbose=1)"
   ]
  },
  {
   "cell_type": "code",
   "execution_count": 42,
   "metadata": {
    "executionInfo": {
     "elapsed": 435,
     "status": "ok",
     "timestamp": 1648190979865,
     "user": {
      "displayName": "Thaweesak Chusri",
      "photoUrl": "https://lh3.googleusercontent.com/a-/AOh14Gj5PzlhZ6sYmXktrK-vzF5hfKwhW_E9rb7D4Vct=s64",
      "userId": "01804259234293140992"
     },
     "user_tz": -420
    },
    "id": "c19dTriItsiz"
   },
   "outputs": [],
   "source": [
    "def evaluate_avg(y_pred, true):\n",
    "  pred = [1 if lst > 0.52 else 0  for lst in y_pred ]\n",
    "  f1 =  f1_score(true, pred, labels=[1], average='micro')\n",
    "  recall = recall_score(true, pred, labels=[1], average='micro')\n",
    "  precision = precision_score(true,pred, labels=[1], average='micro')\n",
    "  print(f1, recall, precision)"
   ]
  },
  {
   "cell_type": "code",
   "execution_count": 30,
   "metadata": {
    "colab": {
     "base_uri": "https://localhost:8080/"
    },
    "executionInfo": {
     "elapsed": 17,
     "status": "ok",
     "timestamp": 1648190094000,
     "user": {
      "displayName": "Thaweesak Chusri",
      "photoUrl": "https://lh3.googleusercontent.com/a-/AOh14Gj5PzlhZ6sYmXktrK-vzF5hfKwhW_E9rb7D4Vct=s64",
      "userId": "01804259234293140992"
     },
     "user_tz": -420
    },
    "id": "BLLkDmmeLULx",
    "outputId": "087da19b-6860-405b-dbd9-e9145955a9a7"
   },
   "outputs": [
    {
     "data": {
      "text/plain": [
       "(200000, 200000)"
      ]
     },
     "execution_count": 30,
     "metadata": {},
     "output_type": "execute_result"
    }
   ],
   "source": [
    "len(cnn_result), len(Y)"
   ]
  },
  {
   "cell_type": "code",
   "execution_count": 44,
   "metadata": {
    "colab": {
     "base_uri": "https://localhost:8080/"
    },
    "executionInfo": {
     "elapsed": 642,
     "status": "ok",
     "timestamp": 1648191010974,
     "user": {
      "displayName": "Thaweesak Chusri",
      "photoUrl": "https://lh3.googleusercontent.com/a-/AOh14Gj5PzlhZ6sYmXktrK-vzF5hfKwhW_E9rb7D4Vct=s64",
      "userId": "01804259234293140992"
     },
     "user_tz": -420
    },
    "id": "wgcswiGao9VX",
    "outputId": "120572f0-76ff-4b04-a819-f8726487bacf"
   },
   "outputs": [
    {
     "name": "stdout",
     "output_type": "stream",
     "text": [
      "0.016505139500734213 0.00843 0.39209302325581397\n"
     ]
    }
   ],
   "source": [
    "evaluate_avg(cnn_result, Y)"
   ]
  },
  {
   "cell_type": "code",
   "execution_count": 32,
   "metadata": {
    "colab": {
     "base_uri": "https://localhost:8080/"
    },
    "executionInfo": {
     "elapsed": 3,
     "status": "ok",
     "timestamp": 1648190419920,
     "user": {
      "displayName": "Thaweesak Chusri",
      "photoUrl": "https://lh3.googleusercontent.com/a-/AOh14Gj5PzlhZ6sYmXktrK-vzF5hfKwhW_E9rb7D4Vct=s64",
      "userId": "01804259234293140992"
     },
     "user_tz": -420
    },
    "id": "v7B06odk4YoE",
    "outputId": "a08604fd-a518-4f0f-dd32-897d2ed371f2"
   },
   "outputs": [
    {
     "data": {
      "text/plain": [
       "0.27880725"
      ]
     },
     "execution_count": 32,
     "metadata": {},
     "output_type": "execute_result"
    }
   ],
   "source": [
    "np.mean(cnn_result)"
   ]
  },
  {
   "cell_type": "code",
   "execution_count": 46,
   "metadata": {
    "colab": {
     "base_uri": "https://localhost:8080/"
    },
    "executionInfo": {
     "elapsed": 4748525,
     "status": "ok",
     "timestamp": 1648196541215,
     "user": {
      "displayName": "Thaweesak Chusri",
      "photoUrl": "https://lh3.googleusercontent.com/a-/AOh14Gj5PzlhZ6sYmXktrK-vzF5hfKwhW_E9rb7D4Vct=s64",
      "userId": "01804259234293140992"
     },
     "user_tz": -420
    },
    "id": "bbciKmGFiF_B",
    "outputId": "c72feb57-06b4-4195-9770-a8218143d875"
   },
   "outputs": [
    {
     "name": "stdout",
     "output_type": "stream",
     "text": [
      "WARNING:tensorflow:Layer lstm will not use cuDNN kernels since it doesn't meet the criteria. It will use a generic GPU kernel as fallback when running on GPU.\n",
      "6250/6250 [==============================] - 5401s 864ms/step\n"
     ]
    }
   ],
   "source": [
    "lstm_base = tf.keras.models.load_model('saved_models/multi_simese_lstm', custom_objects={'recall':recall, 'precision':precision, 'microf1':microf1, 'macrof1': macrof1})\n",
    "lstm_result = lstm_base.predict([zero_seq_1, zero_seq_2], verbose=1)"
   ]
  },
  {
   "cell_type": "code",
   "execution_count": 47,
   "metadata": {
    "colab": {
     "base_uri": "https://localhost:8080/"
    },
    "executionInfo": {
     "elapsed": 890,
     "status": "ok",
     "timestamp": 1648196542104,
     "user": {
      "displayName": "Thaweesak Chusri",
      "photoUrl": "https://lh3.googleusercontent.com/a-/AOh14Gj5PzlhZ6sYmXktrK-vzF5hfKwhW_E9rb7D4Vct=s64",
      "userId": "01804259234293140992"
     },
     "user_tz": -420
    },
    "id": "PP_OH2ZTK6I8",
    "outputId": "1a4925d7-99eb-4e3e-e9d0-41e1168e9353"
   },
   "outputs": [
    {
     "name": "stdout",
     "output_type": "stream",
     "text": [
      "0.1425484165904746 0.1029 0.23190300189308574\n"
     ]
    }
   ],
   "source": [
    "evaluate_avg(lstm_result, Y)"
   ]
  },
  {
   "cell_type": "code",
   "execution_count": null,
   "metadata": {
    "executionInfo": {
     "elapsed": 30,
     "status": "aborted",
     "timestamp": 1648189130478,
     "user": {
      "displayName": "Thaweesak Chusri",
      "photoUrl": "https://lh3.googleusercontent.com/a-/AOh14Gj5PzlhZ6sYmXktrK-vzF5hfKwhW_E9rb7D4Vct=s64",
      "userId": "01804259234293140992"
     },
     "user_tz": -420
    },
    "id": "j43nj_Xgjzuu"
   },
   "outputs": [],
   "source": [
    "cxx =np.array(Y)"
   ]
  },
  {
   "cell_type": "code",
   "execution_count": null,
   "metadata": {
    "executionInfo": {
     "elapsed": 29,
     "status": "aborted",
     "timestamp": 1648189130478,
     "user": {
      "displayName": "Thaweesak Chusri",
      "photoUrl": "https://lh3.googleusercontent.com/a-/AOh14Gj5PzlhZ6sYmXktrK-vzF5hfKwhW_E9rb7D4Vct=s64",
      "userId": "01804259234293140992"
     },
     "user_tz": -420
    },
    "id": "kcS9VJOaj6pF"
   },
   "outputs": [],
   "source": [
    "type(lstm_result), type(cxx)"
   ]
  },
  {
   "cell_type": "code",
   "execution_count": null,
   "metadata": {
    "executionInfo": {
     "elapsed": 30,
     "status": "aborted",
     "timestamp": 1648189130479,
     "user": {
      "displayName": "Thaweesak Chusri",
      "photoUrl": "https://lh3.googleusercontent.com/a-/AOh14Gj5PzlhZ6sYmXktrK-vzF5hfKwhW_E9rb7D4Vct=s64",
      "userId": "01804259234293140992"
     },
     "user_tz": -420
    },
    "id": "5l1Gas7wjcla"
   },
   "outputs": [],
   "source": [
    "ccc = {\n",
    "    'X3': X_3,\n",
    "    'cnn_result': cnn_result,\n",
    "    'lstm_result': lstm_result,\n",
    "    'expected': Y\n",
    "}"
   ]
  },
  {
   "cell_type": "code",
   "execution_count": null,
   "metadata": {
    "executionInfo": {
     "elapsed": 31,
     "status": "aborted",
     "timestamp": 1648189130480,
     "user": {
      "displayName": "Thaweesak Chusri",
      "photoUrl": "https://lh3.googleusercontent.com/a-/AOh14Gj5PzlhZ6sYmXktrK-vzF5hfKwhW_E9rb7D4Vct=s64",
      "userId": "01804259234293140992"
     },
     "user_tz": -420
    },
    "id": "3xpZU-GTkeGz"
   },
   "outputs": [],
   "source": [
    "np.save('cnn_result.npy', cnn_result)\n",
    "np.save('lstm_result.npy', lstm_result)\n",
    "np.save('expected.npy', Y)"
   ]
  },
  {
   "cell_type": "code",
   "execution_count": null,
   "metadata": {
    "executionInfo": {
     "elapsed": 31,
     "status": "aborted",
     "timestamp": 1648189130480,
     "user": {
      "displayName": "Thaweesak Chusri",
      "photoUrl": "https://lh3.googleusercontent.com/a-/AOh14Gj5PzlhZ6sYmXktrK-vzF5hfKwhW_E9rb7D4Vct=s64",
      "userId": "01804259234293140992"
     },
     "user_tz": -420
    },
    "id": "T4zqrmGJiJdl"
   },
   "outputs": [],
   "source": [
    "gru_base = tf.keras.models.load_model('saved_models/multi_simese_gru', custom_objects={'recall':recall, 'precision':precision, 'microf1':microf1, 'macrof1': macrof1})\n",
    "gru_result = gru_base.predict([zero_seq_1, zero_seq_2], verbose=1)"
   ]
  },
  {
   "cell_type": "code",
   "execution_count": null,
   "metadata": {
    "executionInfo": {
     "elapsed": 32,
     "status": "aborted",
     "timestamp": 1648189130481,
     "user": {
      "displayName": "Thaweesak Chusri",
      "photoUrl": "https://lh3.googleusercontent.com/a-/AOh14Gj5PzlhZ6sYmXktrK-vzF5hfKwhW_E9rb7D4Vct=s64",
      "userId": "01804259234293140992"
     },
     "user_tz": -420
    },
    "id": "lSQGs786K-rY"
   },
   "outputs": [],
   "source": [
    "# np.save('gru_result.npy', gru_result)\n",
    "evaluate_avg(gru_result, Y)"
   ]
  },
  {
   "cell_type": "code",
   "execution_count": null,
   "metadata": {
    "executionInfo": {
     "elapsed": 32,
     "status": "aborted",
     "timestamp": 1648189130481,
     "user": {
      "displayName": "Thaweesak Chusri",
      "photoUrl": "https://lh3.googleusercontent.com/a-/AOh14Gj5PzlhZ6sYmXktrK-vzF5hfKwhW_E9rb7D4Vct=s64",
      "userId": "01804259234293140992"
     },
     "user_tz": -420
    },
    "id": "fLnHG2Bdqwae"
   },
   "outputs": [],
   "source": [
    "bi_gru_base = tf.keras.models.load_model('saved_models/multi_simese_bi_gru', custom_objects={'recall':recall, 'precision':precision, 'microf1':microf1, 'macrof1': macrof1})\n",
    "bi_gru_result = bi_gru_base.predict([zero_seq_1, zero_seq_2], verbose=1)"
   ]
  },
  {
   "cell_type": "code",
   "execution_count": null,
   "metadata": {
    "executionInfo": {
     "elapsed": 32,
     "status": "aborted",
     "timestamp": 1648189130481,
     "user": {
      "displayName": "Thaweesak Chusri",
      "photoUrl": "https://lh3.googleusercontent.com/a-/AOh14Gj5PzlhZ6sYmXktrK-vzF5hfKwhW_E9rb7D4Vct=s64",
      "userId": "01804259234293140992"
     },
     "user_tz": -420
    },
    "id": "e2i2ZAtUvIe-"
   },
   "outputs": [],
   "source": [
    "len(bi_gru_result)"
   ]
  },
  {
   "cell_type": "code",
   "execution_count": null,
   "metadata": {
    "executionInfo": {
     "elapsed": 33,
     "status": "aborted",
     "timestamp": 1648189130482,
     "user": {
      "displayName": "Thaweesak Chusri",
      "photoUrl": "https://lh3.googleusercontent.com/a-/AOh14Gj5PzlhZ6sYmXktrK-vzF5hfKwhW_E9rb7D4Vct=s64",
      "userId": "01804259234293140992"
     },
     "user_tz": -420
    },
    "id": "qrGcBBLTF85z"
   },
   "outputs": [],
   "source": [
    "# np.save('bi_gru_result.npy', bi_gru_result)\n",
    "evaluate_avg(bi_gru_result, Y)"
   ]
  },
  {
   "cell_type": "code",
   "execution_count": 37,
   "metadata": {
    "colab": {
     "base_uri": "https://localhost:8080/"
    },
    "executionInfo": {
     "elapsed": 461776,
     "status": "ok",
     "timestamp": 1648190920756,
     "user": {
      "displayName": "Thaweesak Chusri",
      "photoUrl": "https://lh3.googleusercontent.com/a-/AOh14Gj5PzlhZ6sYmXktrK-vzF5hfKwhW_E9rb7D4Vct=s64",
      "userId": "01804259234293140992"
     },
     "user_tz": -420
    },
    "id": "iMjghz7lkUX-",
    "outputId": "d2a0092a-85ef-48d1-aba1-551150fd4378"
   },
   "outputs": [
    {
     "name": "stdout",
     "output_type": "stream",
     "text": [
      "6250/6250 [==============================] - 437s 69ms/step\n"
     ]
    }
   ],
   "source": [
    "bi_lstm_base = tf.keras.models.load_model('saved_models/multi_simese_bi_lstm', custom_objects={'recall':recall, 'precision':precision, 'microf1':microf1, 'macrof1': macrof1})\n",
    "bi_lstm_result = bi_lstm_base.predict([zero_seq_1, zero_seq_2], verbose=1)"
   ]
  },
  {
   "cell_type": "code",
   "execution_count": 45,
   "metadata": {
    "colab": {
     "base_uri": "https://localhost:8080/"
    },
    "executionInfo": {
     "elapsed": 1062,
     "status": "ok",
     "timestamp": 1648191022078,
     "user": {
      "displayName": "Thaweesak Chusri",
      "photoUrl": "https://lh3.googleusercontent.com/a-/AOh14Gj5PzlhZ6sYmXktrK-vzF5hfKwhW_E9rb7D4Vct=s64",
      "userId": "01804259234293140992"
     },
     "user_tz": -420
    },
    "id": "_-_oPdQ0QNnr",
    "outputId": "119cb18b-de3a-41b1-afef-9324342dfa17"
   },
   "outputs": [
    {
     "name": "stdout",
     "output_type": "stream",
     "text": [
      "0.10487872105843439 0.06088 0.3782306163021869\n"
     ]
    }
   ],
   "source": [
    "evaluate_avg(bi_lstm_result, Y)"
   ]
  },
  {
   "cell_type": "code",
   "execution_count": 41,
   "metadata": {
    "colab": {
     "base_uri": "https://localhost:8080/"
    },
    "executionInfo": {
     "elapsed": 3,
     "status": "ok",
     "timestamp": 1648190958797,
     "user": {
      "displayName": "Thaweesak Chusri",
      "photoUrl": "https://lh3.googleusercontent.com/a-/AOh14Gj5PzlhZ6sYmXktrK-vzF5hfKwhW_E9rb7D4Vct=s64",
      "userId": "01804259234293140992"
     },
     "user_tz": -420
    },
    "id": "DPNGqWmP1ghx",
    "outputId": "b689d289-8998-42e9-dd84-9895172f11ea"
   },
   "outputs": [
    {
     "data": {
      "text/plain": [
       "0.43211707"
      ]
     },
     "execution_count": 41,
     "metadata": {},
     "output_type": "execute_result"
    }
   ],
   "source": [
    "np.mean(bi_lstm_result)"
   ]
  },
  {
   "cell_type": "code",
   "execution_count": null,
   "metadata": {
    "executionInfo": {
     "elapsed": 33,
     "status": "aborted",
     "timestamp": 1648189130483,
     "user": {
      "displayName": "Thaweesak Chusri",
      "photoUrl": "https://lh3.googleusercontent.com/a-/AOh14Gj5PzlhZ6sYmXktrK-vzF5hfKwhW_E9rb7D4Vct=s64",
      "userId": "01804259234293140992"
     },
     "user_tz": -420
    },
    "id": "yskuiQCmVFi5"
   },
   "outputs": [],
   "source": [
    "np.save('bi_lstm_result.npy', bi_lstm_result)\n",
    "evaluate_avg(bi_lstm_result, Y)"
   ]
  },
  {
   "cell_type": "code",
   "execution_count": null,
   "metadata": {
    "executionInfo": {
     "elapsed": 34,
     "status": "aborted",
     "timestamp": 1648189130484,
     "user": {
      "displayName": "Thaweesak Chusri",
      "photoUrl": "https://lh3.googleusercontent.com/a-/AOh14Gj5PzlhZ6sYmXktrK-vzF5hfKwhW_E9rb7D4Vct=s64",
      "userId": "01804259234293140992"
     },
     "user_tz": -420
    },
    "id": "a-V5w92DVIIQ"
   },
   "outputs": [],
   "source": [
    "evaluate_avg(bi_lstm_result, Y)"
   ]
  },
  {
   "cell_type": "code",
   "execution_count": null,
   "metadata": {
    "executionInfo": {
     "elapsed": 34,
     "status": "aborted",
     "timestamp": 1648189130484,
     "user": {
      "displayName": "Thaweesak Chusri",
      "photoUrl": "https://lh3.googleusercontent.com/a-/AOh14Gj5PzlhZ6sYmXktrK-vzF5hfKwhW_E9rb7D4Vct=s64",
      "userId": "01804259234293140992"
     },
     "user_tz": -420
    },
    "id": "LBZ9Yvf_vvHO"
   },
   "outputs": [],
   "source": [
    "X_train,Y_train,X_dev,Y_dev,X_test,Y_test_2 = split_by_id_2(file = 'data/filt_df.pickle')\n",
    "train_seqs1, test_seqs1, dev_seqs1, max_sequence_len1, tokenizer1 = process_input(NUM_WORDS, X_train[:, 0], X_test[:, 0], X_dev[:, 0])\n",
    "train_seqs2, test_seqs2, dev_seqs2, max_sequence_len2, tokenizer2 = process_input(NUM_WORDS, X_train[:, 1], X_test[:, 1], X_dev[:, 1])\n",
    "train_seqs3, test_seqs3, dev_seqs3, max_sequence_len3, tokenizer3 = process_input(NUM_WORDS, X_train[:, 2], X_test[:, 2], X_dev[:, 2])"
   ]
  },
  {
   "cell_type": "code",
   "execution_count": null,
   "metadata": {
    "executionInfo": {
     "elapsed": 35,
     "status": "aborted",
     "timestamp": 1648189130485,
     "user": {
      "displayName": "Thaweesak Chusri",
      "photoUrl": "https://lh3.googleusercontent.com/a-/AOh14Gj5PzlhZ6sYmXktrK-vzF5hfKwhW_E9rb7D4Vct=s64",
      "userId": "01804259234293140992"
     },
     "user_tz": -420
    },
    "id": "iI7uBLK4VErv"
   },
   "outputs": [],
   "source": []
  },
  {
   "cell_type": "code",
   "execution_count": null,
   "metadata": {
    "executionInfo": {
     "elapsed": 35,
     "status": "aborted",
     "timestamp": 1648189130485,
     "user": {
      "displayName": "Thaweesak Chusri",
      "photoUrl": "https://lh3.googleusercontent.com/a-/AOh14Gj5PzlhZ6sYmXktrK-vzF5hfKwhW_E9rb7D4Vct=s64",
      "userId": "01804259234293140992"
     },
     "user_tz": -420
    },
    "id": "M8bd338kswIl"
   },
   "outputs": [],
   "source": [
    "three_encoders_sim_base = tf.keras.models.load_model('saved_models/three_encoders_sim', custom_objects={'recall':recall, 'precision':precision, 'microf1':microf1, 'macrof1': macrof1})\n",
    "three_encoders_sim_result = three_encoders_sim_base.predict([test_seqs1,test_seqs2, test_seqs3], verbose=1)"
   ]
  },
  {
   "cell_type": "code",
   "execution_count": null,
   "metadata": {
    "executionInfo": {
     "elapsed": 36,
     "status": "aborted",
     "timestamp": 1648189130486,
     "user": {
      "displayName": "Thaweesak Chusri",
      "photoUrl": "https://lh3.googleusercontent.com/a-/AOh14Gj5PzlhZ6sYmXktrK-vzF5hfKwhW_E9rb7D4Vct=s64",
      "userId": "01804259234293140992"
     },
     "user_tz": -420
    },
    "id": "buRVlIHFyL0h"
   },
   "outputs": [],
   "source": [
    "np.sum(Y_test == Y_test_2)"
   ]
  },
  {
   "cell_type": "code",
   "execution_count": null,
   "metadata": {
    "executionInfo": {
     "elapsed": 35,
     "status": "aborted",
     "timestamp": 1648189130486,
     "user": {
      "displayName": "Thaweesak Chusri",
      "photoUrl": "https://lh3.googleusercontent.com/a-/AOh14Gj5PzlhZ6sYmXktrK-vzF5hfKwhW_E9rb7D4Vct=s64",
      "userId": "01804259234293140992"
     },
     "user_tz": -420
    },
    "id": "nwQkVU16nfVt"
   },
   "outputs": [],
   "source": [
    "len(cnn_result), len(Y_test), len(X_test[:, 2])"
   ]
  },
  {
   "cell_type": "code",
   "execution_count": null,
   "metadata": {
    "executionInfo": {
     "elapsed": 36,
     "status": "aborted",
     "timestamp": 1648189130487,
     "user": {
      "displayName": "Thaweesak Chusri",
      "photoUrl": "https://lh3.googleusercontent.com/a-/AOh14Gj5PzlhZ6sYmXktrK-vzF5hfKwhW_E9rb7D4Vct=s64",
      "userId": "01804259234293140992"
     },
     "user_tz": -420
    },
    "id": "YUAfzjvQo8Lv"
   },
   "outputs": [],
   "source": [
    "pred_cnn = [x[0] for x in cnn_result]\n",
    "pred_lstm = [x[0] for x in lstm_result]\n",
    "pred_gru = [x[0] for x in gru_result]\n",
    "pred_bi_gru = [x[0] for x in bi_gru_result]\n",
    "pred_bi_lstm = [x[0] for x in bi_lstm_result]\n",
    "pred_three_encoders_sim = [x[0] for x in three_encoders_sim_result]"
   ]
  },
  {
   "cell_type": "code",
   "execution_count": null,
   "metadata": {
    "executionInfo": {
     "elapsed": 36,
     "status": "aborted",
     "timestamp": 1648189130487,
     "user": {
      "displayName": "Thaweesak Chusri",
      "photoUrl": "https://lh3.googleusercontent.com/a-/AOh14Gj5PzlhZ6sYmXktrK-vzF5hfKwhW_E9rb7D4Vct=s64",
      "userId": "01804259234293140992"
     },
     "user_tz": -420
    },
    "id": "QunwreTLn8yN"
   },
   "outputs": [],
   "source": [
    "df = pd.DataFrame({\n",
    "    \"case\": X_test[:, 4],\n",
    "    \"legal_encoded\": X_test[:, 3],\n",
    "    \"pred_cnn\": pred_cnn,\n",
    "    \"pred_lstm\": pred_lstm,\n",
    "    \"pred_gru\": pred_gru,\n",
    "    \"pred_bi_gru\": pred_bi_gru,\n",
    "    \"pred_bi_lstm\": pred_bi_lstm,\n",
    "    \"pred_three_encoders_sim\": pred_three_encoders_sim,\n",
    "    \"expected\": Y_test\n",
    "})"
   ]
  },
  {
   "cell_type": "code",
   "execution_count": null,
   "metadata": {
    "executionInfo": {
     "elapsed": 37,
     "status": "aborted",
     "timestamp": 1648189130488,
     "user": {
      "displayName": "Thaweesak Chusri",
      "photoUrl": "https://lh3.googleusercontent.com/a-/AOh14Gj5PzlhZ6sYmXktrK-vzF5hfKwhW_E9rb7D4Vct=s64",
      "userId": "01804259234293140992"
     },
     "user_tz": -420
    },
    "id": "lIpHBNgoo3xW"
   },
   "outputs": [],
   "source": [
    "df.head()"
   ]
  },
  {
   "cell_type": "code",
   "execution_count": null,
   "metadata": {
    "executionInfo": {
     "elapsed": 36,
     "status": "aborted",
     "timestamp": 1648189130488,
     "user": {
      "displayName": "Thaweesak Chusri",
      "photoUrl": "https://lh3.googleusercontent.com/a-/AOh14Gj5PzlhZ6sYmXktrK-vzF5hfKwhW_E9rb7D4Vct=s64",
      "userId": "01804259234293140992"
     },
     "user_tz": -420
    },
    "id": "myyuRHcBpYeK"
   },
   "outputs": [],
   "source": [
    "df.to_pickle('raw_result.pkl')"
   ]
  },
  {
   "cell_type": "code",
   "execution_count": null,
   "metadata": {
    "executionInfo": {
     "elapsed": 37,
     "status": "aborted",
     "timestamp": 1648189130489,
     "user": {
      "displayName": "Thaweesak Chusri",
      "photoUrl": "https://lh3.googleusercontent.com/a-/AOh14Gj5PzlhZ6sYmXktrK-vzF5hfKwhW_E9rb7D4Vct=s64",
      "userId": "01804259234293140992"
     },
     "user_tz": -420
    },
    "id": "u1ikbTul_yvJ"
   },
   "outputs": [],
   "source": [
    "df.to_csv('raw_result.csv')"
   ]
  },
  {
   "cell_type": "code",
   "execution_count": null,
   "metadata": {
    "executionInfo": {
     "elapsed": 37,
     "status": "aborted",
     "timestamp": 1648189130489,
     "user": {
      "displayName": "Thaweesak Chusri",
      "photoUrl": "https://lh3.googleusercontent.com/a-/AOh14Gj5PzlhZ6sYmXktrK-vzF5hfKwhW_E9rb7D4Vct=s64",
      "userId": "01804259234293140992"
     },
     "user_tz": -420
    },
    "id": "f0yIPvyWAEma"
   },
   "outputs": [],
   "source": [
    "df"
   ]
  },
  {
   "cell_type": "markdown",
   "metadata": {
    "id": "0zWHaQ4k5wJy"
   },
   "source": [
    "### Evaluate"
   ]
  },
  {
   "cell_type": "code",
   "execution_count": null,
   "metadata": {
    "id": "LVlY-B1ZuaZY"
   },
   "outputs": [],
   "source": [
    "df = pd.read_csv('raw_result.csv')"
   ]
  },
  {
   "cell_type": "code",
   "execution_count": null,
   "metadata": {
    "id": "5e7QWMTaNDjd"
   },
   "outputs": [],
   "source": [
    "evaluation = evaluate(df, 'pred_cnn')\n",
    "evaluation_at_3 = evaluate_at_k(df, 'pred_cnn', 3)\n",
    "evaluation_at_5 = evaluate_at_k(df, 'pred_cnn', 5)\n",
    "evaluation_at_10 = evaluate_at_k(df, 'pred_cnn', 10)"
   ]
  },
  {
   "cell_type": "code",
   "execution_count": null,
   "metadata": {
    "id": "4VX6wICVVTOe"
   },
   "outputs": [],
   "source": [
    "evaluation"
   ]
  },
  {
   "cell_type": "code",
   "execution_count": null,
   "metadata": {
    "id": "yQQR_0ecjWaB"
   },
   "outputs": [],
   "source": [
    "evaluation_at_3"
   ]
  },
  {
   "cell_type": "code",
   "execution_count": null,
   "metadata": {
    "id": "sUUCNYJLjYcj"
   },
   "outputs": [],
   "source": [
    "evaluation_at_5"
   ]
  },
  {
   "cell_type": "code",
   "execution_count": null,
   "metadata": {
    "id": "DyoGAi6wjav3"
   },
   "outputs": [],
   "source": [
    "evaluation_at_5"
   ]
  },
  {
   "cell_type": "code",
   "execution_count": null,
   "metadata": {
    "id": "xJgkrprG7izy"
   },
   "outputs": [],
   "source": [
    "pd.DataFrame(evaluation).T"
   ]
  },
  {
   "cell_type": "code",
   "execution_count": null,
   "metadata": {
    "id": "dxGyNn3x7xra"
   },
   "outputs": [],
   "source": [
    "pd.DataFrame(evaluation_at_3).T"
   ]
  },
  {
   "cell_type": "code",
   "execution_count": null,
   "metadata": {
    "id": "lIcsEA32N_e0"
   },
   "outputs": [],
   "source": [
    "idx = {251 : 'ประมวลกฎหมายวิธีพิจารณาความแพ่ง 55',\n",
    "692 : 'ประมวลกฎหมายแพ่งและพาณิชย์ 425',\n",
    "704 : 'ประมวลกฎหมายแพ่งและพาณิชย์ 438',\n",
    "154 : 'ประมวลกฎหมายวิธีพิจารณาความแพ่ง 172',\n",
    "135 : 'ประมวลกฎหมายวิธีพิจารณาความแพ่ง 142',\n",
    "715 : 'ประมวลกฎหมายแพ่งและพาณิชย์ 448',\n",
    "688 : 'ประมวลกฎหมายแพ่งและพาณิชย์ 421',\n",
    "202 : 'ประมวลกฎหมายวิธีพิจารณาความแพ่ง 249',\n",
    "100 : 'ประมวลกฎหมายวิธีพิจารณาความอาญา 46',\n",
    "417 :  'ประมวลกฎหมายแพ่งและพาณิชย์ 1336'}\n",
    "models = ['pred_cnn', 'pred_lstm', 'pred_gru', 'pred_bi_gru', 'pred_bi_lstm', 'pred_three_encoders_sim']\n",
    "K = [3]\n",
    "evaluations = {}\n",
    "for model in tqdm(models):\n",
    "  for k in K:\n",
    "    evaluation_at_k = evaluate_at_k(df, model, k)\n",
    "    evaluations[f\"{model}@{k}\"] = evaluation_at_k"
   ]
  },
  {
   "cell_type": "code",
   "execution_count": null,
   "metadata": {
    "id": "YUQnQkVKPXHm"
   },
   "outputs": [],
   "source": [
    "pd.DataFrame(evaluations)"
   ]
  },
  {
   "cell_type": "code",
   "execution_count": null,
   "metadata": {
    "id": "OlZRFixfP0Lo"
   },
   "outputs": [],
   "source": [
    "evaluation_df = pd.DataFrame.from_dict({(i,j): evaluations[i][j] \n",
    "                           for i in evaluations.keys() \n",
    "                           for j in evaluations[i].keys()},\n",
    "                       orient='index')"
   ]
  },
  {
   "cell_type": "code",
   "execution_count": null,
   "metadata": {
    "id": "IxRyMCdbUx0o"
   },
   "outputs": [],
   "source": [
    "evaluation_df.to_excel('evaluation.xlsx')"
   ]
  },
  {
   "cell_type": "code",
   "execution_count": null,
   "metadata": {
    "id": "iSwG7ATmU8Hi"
   },
   "outputs": [],
   "source": [
    "move = 5\n",
    "for model in list(evaluations.keys()):\n",
    "  print(model)\n",
    "  for id in idx.keys():\n",
    "    evaluation = evaluations[model][id]\n",
    "    print(evaluation['f1'])\n",
    "    print(evaluation['precision'])\n",
    "    print(evaluation['recall'])\n",
    "    print()"
   ]
  },
  {
   "cell_type": "code",
   "execution_count": null,
   "metadata": {
    "id": "AF6b-u8IXkpC"
   },
   "outputs": [],
   "source": []
  }
 ],
 "metadata": {
  "accelerator": "GPU",
  "colab": {
   "collapsed_sections": [],
   "machine_shape": "hm",
   "name": "zero-shot.ipynb",
   "provenance": [],
   "toc_visible": true
  },
  "kernelspec": {
   "display_name": "Python 3 (ipykernel)",
   "language": "python",
   "name": "python3"
  },
  "language_info": {
   "codemirror_mode": {
    "name": "ipython",
    "version": 3
   },
   "file_extension": ".py",
   "mimetype": "text/x-python",
   "name": "python",
   "nbconvert_exporter": "python",
   "pygments_lexer": "ipython3",
   "version": "3.9.7"
  },
  "papermill": {
   "default_parameters": {},
   "duration": 28439.449429,
   "end_time": "2021-06-06T23:38:09.546462",
   "environment_variables": {},
   "exception": null,
   "input_path": "__notebook__.ipynb",
   "output_path": "__notebook__.ipynb",
   "parameters": {},
   "start_time": "2021-06-06T15:44:10.097033",
   "version": "2.2.2"
  }
 },
 "nbformat": 4,
 "nbformat_minor": 1
}
