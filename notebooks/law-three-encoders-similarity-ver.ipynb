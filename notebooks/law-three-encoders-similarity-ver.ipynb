{
 "cells": [
  {
   "cell_type": "code",
   "execution_count": null,
   "metadata": {
    "colab": {
     "base_uri": "https://localhost:8080/"
    },
    "execution": {
     "iopub.execute_input": "2022-01-20T16:22:51.578261Z",
     "iopub.status.busy": "2022-01-20T16:22:51.577674Z",
     "iopub.status.idle": "2022-01-20T16:22:52.388977Z",
     "shell.execute_reply": "2022-01-20T16:22:52.387978Z",
     "shell.execute_reply.started": "2022-01-20T16:22:51.578170Z"
    },
    "executionInfo": {
     "elapsed": 16,
     "status": "ok",
     "timestamp": 1643205489781,
     "user": {
      "displayName": "Thaweesak Chusri",
      "photoUrl": "https://lh3.googleusercontent.com/a-/AOh14Gj5PzlhZ6sYmXktrK-vzF5hfKwhW_E9rb7D4Vct=s64",
      "userId": "01804259234293140992"
     },
     "user_tz": -480
    },
    "id": "veMNrl1c1_-D",
    "outputId": "331e6a11-7f09-43ef-ee62-b9682d6f594d",
    "papermill": {
     "duration": 1.745996,
     "end_time": "2021-05-02T15:57:37.998753",
     "exception": false,
     "start_time": "2021-05-02T15:57:36.252757",
     "status": "completed"
    },
    "tags": []
   },
   "outputs": [],
   "source": [
    "!nvidia-smi"
   ]
  },
  {
   "cell_type": "code",
   "execution_count": null,
   "metadata": {
    "execution": {
     "iopub.execute_input": "2022-01-20T16:22:52.390970Z",
     "iopub.status.busy": "2022-01-20T16:22:52.390515Z",
     "iopub.status.idle": "2022-01-20T16:22:52.397557Z",
     "shell.execute_reply": "2022-01-20T16:22:52.396647Z",
     "shell.execute_reply.started": "2022-01-20T16:22:52.390920Z"
    },
    "executionInfo": {
     "elapsed": 6,
     "status": "ok",
     "timestamp": 1643205489781,
     "user": {
      "displayName": "Thaweesak Chusri",
      "photoUrl": "https://lh3.googleusercontent.com/a-/AOh14Gj5PzlhZ6sYmXktrK-vzF5hfKwhW_E9rb7D4Vct=s64",
      "userId": "01804259234293140992"
     },
     "user_tz": -480
    },
    "id": "recognized-paste",
    "papermill": {
     "duration": 0.032995,
     "end_time": "2021-05-02T15:57:45.567169",
     "exception": false,
     "start_time": "2021-05-02T15:57:45.534174",
     "status": "completed"
    },
    "tags": []
   },
   "outputs": [],
   "source": [
    "def process_input(num_words, X_train, X_test, X_dev):\n",
    "    \n",
    "    tokenizer = tf.keras.preprocessing.text.Tokenizer(num_words=num_words, oov_token='<UNK>')\n",
    "    tokenizer.fit_on_texts(X_train)\n",
    "\n",
    "    #convert text data to numerical indexes\n",
    "    train_seqs = tokenizer.texts_to_sequences(X_train)\n",
    "    dev_seqs = tokenizer.texts_to_sequences(X_dev)\n",
    "    test_seqs = tokenizer.texts_to_sequences(X_test)\n",
    "\n",
    "    max_sequnce_len = max([len(x) for x in train_seqs])\n",
    "\n",
    "    train_seqs = tf.keras.preprocessing.sequence.pad_sequences(train_seqs, maxlen=max_sequnce_len, padding=\"post\")\n",
    "    test_seqs=tf.keras.preprocessing.sequence.pad_sequences(test_seqs, maxlen=max_sequnce_len, padding=\"post\")\n",
    "    dev_seqs=tf.keras.preprocessing.sequence.pad_sequences(dev_seqs, maxlen=max_sequnce_len, padding=\"post\")\n",
    "\n",
    "    return  train_seqs, test_seqs, dev_seqs, max_sequnce_len, tokenizer"
   ]
  },
  {
   "cell_type": "code",
   "execution_count": null,
   "metadata": {
    "execution": {
     "iopub.execute_input": "2022-01-20T16:22:52.399569Z",
     "iopub.status.busy": "2022-01-20T16:22:52.399087Z",
     "iopub.status.idle": "2022-01-20T16:22:52.409758Z",
     "shell.execute_reply": "2022-01-20T16:22:52.408839Z",
     "shell.execute_reply.started": "2022-01-20T16:22:52.399538Z"
    },
    "executionInfo": {
     "elapsed": 6,
     "status": "ok",
     "timestamp": 1643205489782,
     "user": {
      "displayName": "Thaweesak Chusri",
      "photoUrl": "https://lh3.googleusercontent.com/a-/AOh14Gj5PzlhZ6sYmXktrK-vzF5hfKwhW_E9rb7D4Vct=s64",
      "userId": "01804259234293140992"
     },
     "user_tz": -480
    },
    "id": "z2QwqCsLmEGi",
    "papermill": {
     "duration": 0.036522,
     "end_time": "2021-05-02T15:57:45.626128",
     "exception": false,
     "start_time": "2021-05-02T15:57:45.589606",
     "status": "completed"
    },
    "tags": []
   },
   "outputs": [],
   "source": [
    "def process_input_combined(num_words, X_train, X_dev, X_test):\n",
    "    \n",
    "    tokenizer = tf.keras.preprocessing.text.Tokenizer(num_words=num_words, oov_token='<UNK>')\n",
    "    X_combined = list(X_train[:, 0]) + list(X_train[:, 1])\n",
    "    tokenizer.fit_on_texts(X_combined)\n",
    "\n",
    "    #convert text data to numerical indexes\n",
    "    train_seqs1 = tokenizer.texts_to_sequences(X_train[:, 0])\n",
    "    train_seqs2 = tokenizer.texts_to_sequences(X_train[:, 1])\n",
    "    \n",
    "    dev_seqs1 = tokenizer.texts_to_sequences(X_dev[:, 0])\n",
    "    dev_seqs2 = tokenizer.texts_to_sequences(X_dev[:, 1])\n",
    "    \n",
    "    test_seqs1 = tokenizer.texts_to_sequences(X_test[:, 0])\n",
    "    test_seqs2 = tokenizer.texts_to_sequences(X_test[:, 1])\n",
    "    \n",
    "    max_len = max([len(x) for x in train_seqs1 + train_seqs2])\n",
    "\n",
    "    train_seqs1 = tf.keras.preprocessing.sequence.pad_sequences(train_seqs1, maxlen=max_len, padding=\"post\")\n",
    "    test_seqs1=tf.keras.preprocessing.sequence.pad_sequences(test_seqs1, maxlen=max_len, padding=\"post\")\n",
    "    dev_seqs1 =tf.keras.preprocessing.sequence.pad_sequences(dev_seqs1, maxlen=max_len, padding=\"post\")\n",
    "    \n",
    "    train_seqs2 = tf.keras.preprocessing.sequence.pad_sequences(train_seqs2, maxlen=max_len, padding=\"post\")\n",
    "    test_seqs2=tf.keras.preprocessing.sequence.pad_sequences(test_seqs2, maxlen=max_len, padding=\"post\")\n",
    "    dev_seqs2 =tf.keras.preprocessing.sequence.pad_sequences(dev_seqs2, maxlen=max_len, padding=\"post\")\n",
    "\n",
    "    return  train_seqs1, train_seqs2, dev_seqs1, dev_seqs2, test_seqs1, test_seqs2, max_len, tokenizer"
   ]
  },
  {
   "cell_type": "code",
   "execution_count": null,
   "metadata": {
    "execution": {
     "iopub.execute_input": "2022-01-20T16:22:52.411737Z",
     "iopub.status.busy": "2022-01-20T16:22:52.411281Z",
     "iopub.status.idle": "2022-01-20T16:22:58.914020Z",
     "shell.execute_reply": "2022-01-20T16:22:58.913254Z",
     "shell.execute_reply.started": "2022-01-20T16:22:52.411705Z"
    },
    "executionInfo": {
     "elapsed": 3759,
     "status": "ok",
     "timestamp": 1643205493536,
     "user": {
      "displayName": "Thaweesak Chusri",
      "photoUrl": "https://lh3.googleusercontent.com/a-/AOh14Gj5PzlhZ6sYmXktrK-vzF5hfKwhW_E9rb7D4Vct=s64",
      "userId": "01804259234293140992"
     },
     "user_tz": -480
    },
    "id": "alpine-retention",
    "papermill": {
     "duration": 7.313445,
     "end_time": "2021-05-02T15:57:45.333784",
     "exception": false,
     "start_time": "2021-05-02T15:57:38.020339",
     "status": "completed"
    },
    "tags": []
   },
   "outputs": [],
   "source": [
    "import json\n",
    "from IPython.display import Image, display_png\n",
    "import numpy as np\n",
    "from numpy.random import seed\n",
    "import pandas as pd\n",
    "from tqdm import tqdm\n",
    "import tensorflow as tf\n",
    "import tensorflow.keras.backend as K\n",
    "from sklearn.preprocessing import LabelEncoder\n",
    "import sklearn.model_selection\n",
    "from sklearn.model_selection import train_test_split\n",
    "from sklearn.metrics import classification_report, precision_recall_fscore_support, f1_score, precision_score, recall_score, confusion_matrix\n",
    "from collections import Counter\n",
    "from tqdm import tqdm\n",
    "import pandas as pd\n",
    "from tensorflow import keras\n",
    "from tensorflow.keras import layers , regularizers\n",
    "from tensorflow.keras.models import Sequential\n",
    "from tensorflow.keras.layers import Dense , Bidirectional , LSTM, GlobalMaxPool1D , Concatenate\n",
    "from tensorflow.keras.layers import Dropout,MaxPooling1D,Lambda\n",
    "from tensorflow.keras.preprocessing.text import Tokenizer\n",
    "from tensorflow.keras.preprocessing.sequence import pad_sequences\n",
    "from tensorflow.keras.models import Sequential, load_model, Model\n",
    "from tensorflow.keras.utils import plot_model\n",
    "from tensorflow.keras.layers import Embedding\n",
    "from tensorflow. keras.layers import Flatten, Dropout, Activation, Input, Dense, concatenate, GRU, Conv1D"
   ]
  },
  {
   "cell_type": "code",
   "execution_count": null,
   "metadata": {
    "execution": {
     "iopub.execute_input": "2022-01-20T16:22:58.915527Z",
     "iopub.status.busy": "2022-01-20T16:22:58.915105Z",
     "iopub.status.idle": "2022-01-20T16:22:58.920076Z",
     "shell.execute_reply": "2022-01-20T16:22:58.919253Z",
     "shell.execute_reply.started": "2022-01-20T16:22:58.915498Z"
    },
    "executionInfo": {
     "elapsed": 15,
     "status": "ok",
     "timestamp": 1643205493537,
     "user": {
      "displayName": "Thaweesak Chusri",
      "photoUrl": "https://lh3.googleusercontent.com/a-/AOh14Gj5PzlhZ6sYmXktrK-vzF5hfKwhW_E9rb7D4Vct=s64",
      "userId": "01804259234293140992"
     },
     "user_tz": -480
    },
    "id": "TuQ1uTy2mEGj",
    "papermill": {
     "duration": 0.031712,
     "end_time": "2021-05-02T15:57:45.679783",
     "exception": false,
     "start_time": "2021-05-02T15:57:45.648071",
     "status": "completed"
    },
    "tags": []
   },
   "outputs": [],
   "source": [
    "idx = {251 : 'ประมวลกฎหมายวิธีพิจารณาความแพ่ง 55',\n",
    "692 : 'ประมวลกฎหมายแพ่งและพาณิชย์ 425',\n",
    "704 : 'ประมวลกฎหมายแพ่งและพาณิชย์ 438',\n",
    "154 : 'ประมวลกฎหมายวิธีพิจารณาความแพ่ง 172',\n",
    "135 : 'ประมวลกฎหมายวิธีพิจารณาความแพ่ง 142',\n",
    "715 : 'ประมวลกฎหมายแพ่งและพาณิชย์ 448',\n",
    "688 : 'ประมวลกฎหมายแพ่งและพาณิชย์ 421',\n",
    "202 : 'ประมวลกฎหมายวิธีพิจารณาความแพ่ง 249',\n",
    "100 : 'ประมวลกฎหมายวิธีพิจารณาความอาญา 46',\n",
    "417 :  'ประมวลกฎหมายแพ่งและพาณิชย์ 1336'}"
   ]
  },
  {
   "cell_type": "code",
   "execution_count": null,
   "metadata": {
    "colab": {
     "base_uri": "https://localhost:8080/"
    },
    "execution": {
     "iopub.execute_input": "2022-01-20T16:22:58.921467Z",
     "iopub.status.busy": "2022-01-20T16:22:58.921057Z",
     "iopub.status.idle": "2022-01-20T16:22:58.939077Z",
     "shell.execute_reply": "2022-01-20T16:22:58.938062Z",
     "shell.execute_reply.started": "2022-01-20T16:22:58.921423Z"
    },
    "executionInfo": {
     "elapsed": 14,
     "status": "ok",
     "timestamp": 1643205493537,
     "user": {
      "displayName": "Thaweesak Chusri",
      "photoUrl": "https://lh3.googleusercontent.com/a-/AOh14Gj5PzlhZ6sYmXktrK-vzF5hfKwhW_E9rb7D4Vct=s64",
      "userId": "01804259234293140992"
     },
     "user_tz": -480
    },
    "id": "dimensional-weight",
    "outputId": "ef5fe4a7-9ef9-41db-c071-f91c94ffd66f",
    "papermill": {
     "duration": 0.030626,
     "end_time": "2021-05-02T15:57:45.386969",
     "exception": false,
     "start_time": "2021-05-02T15:57:45.356343",
     "status": "completed"
    },
    "tags": []
   },
   "outputs": [],
   "source": [
    "print(tf.__version__)"
   ]
  },
  {
   "cell_type": "markdown",
   "metadata": {
    "id": "D6u94-3lmEGk"
   },
   "source": [
    "# Data preprocessing/engineering"
   ]
  },
  {
   "cell_type": "code",
   "execution_count": null,
   "metadata": {
    "execution": {
     "iopub.execute_input": "2022-01-20T16:22:58.940596Z",
     "iopub.status.busy": "2022-01-20T16:22:58.940282Z",
     "iopub.status.idle": "2022-01-20T16:22:58.951980Z",
     "shell.execute_reply": "2022-01-20T16:22:58.951112Z",
     "shell.execute_reply.started": "2022-01-20T16:22:58.940565Z"
    },
    "executionInfo": {
     "elapsed": 12,
     "status": "ok",
     "timestamp": 1643205493538,
     "user": {
      "displayName": "Thaweesak Chusri",
      "photoUrl": "https://lh3.googleusercontent.com/a-/AOh14Gj5PzlhZ6sYmXktrK-vzF5hfKwhW_E9rb7D4Vct=s64",
      "userId": "01804259234293140992"
     },
     "user_tz": -480
    },
    "id": "GFII31iP2xLN",
    "papermill": {
     "duration": 0.03789,
     "end_time": "2021-05-02T15:57:45.446356",
     "exception": false,
     "start_time": "2021-05-02T15:57:45.408466",
     "status": "completed"
    },
    "tags": []
   },
   "outputs": [],
   "source": [
    "def multi_input_proportional_generator(datasets,\n",
    "                                       label,\n",
    "                                       p=[0.1, 0.9],\n",
    "                                       batch_size=128):\n",
    "    # p indicate number of class and sampling prob\n",
    "    while (True):\n",
    "        batch_data = [[], [], []]\n",
    "        batch_label = []\n",
    "        sample_id = np.random.choice(len(p), batch_size, p=p)\n",
    "        query_idx = [\n",
    "            np.where(label == class_id)[0] for class_id in range(len(p))\n",
    "        ]\n",
    "        for class_id in sample_id:\n",
    "            query_id = np.random.choice(query_idx[class_id], 1)[0]\n",
    "            batch_data[0].append(datasets[0][query_id])\n",
    "            batch_data[1].append(datasets[1][query_id])\n",
    "            batch_data[2].append(datasets[2][query_id])\n",
    "            batch_label.append(label[query_id])\n",
    "        batch_data[0] = np.array(batch_data[0])\n",
    "        batch_data[1] = np.array(batch_data[1])\n",
    "        batch_data[2] = np.array(batch_data[2])\n",
    "        yield batch_data, np.array(batch_label)\n",
    "        \n",
    "def load_fasttext_fast(word_index, max_words, embed_size,file_name = \"../input/word-vec-thai/cc.th.300.vec\"):\n",
    "    EMBEDDING_FILE = file_name\n",
    "    emb_mean, emb_std = -0.0033470048, 0.109855264\n",
    "\n",
    "    embedding_matrix = np.random.normal(emb_mean, emb_std, (max_words, embed_size))\n",
    "    with open(EMBEDDING_FILE, 'r', encoding=\"utf8\") as f:       \n",
    "        for line in f:\n",
    "            if len(line) <= 100:\n",
    "                continue\n",
    "            word, vec = line.split(' ', 1)\n",
    "            if word not in word_index:\n",
    "                continue\n",
    "            i = word_index[word]\n",
    "            if i >= max_words:\n",
    "                continue\n",
    "            embedding_vector = np.asarray(vec.split(' '), dtype='float32')[:300]\n",
    "            if len(embedding_vector) == 300:\n",
    "                embedding_matrix[i] = embedding_vector\n",
    "    return embedding_matrix"
   ]
  },
  {
   "cell_type": "code",
   "execution_count": null,
   "metadata": {
    "execution": {
     "iopub.execute_input": "2022-01-20T16:22:58.954185Z",
     "iopub.status.busy": "2022-01-20T16:22:58.953791Z",
     "iopub.status.idle": "2022-01-20T16:22:58.968172Z",
     "shell.execute_reply": "2022-01-20T16:22:58.967416Z",
     "shell.execute_reply.started": "2022-01-20T16:22:58.954156Z"
    },
    "executionInfo": {
     "elapsed": 11,
     "status": "ok",
     "timestamp": 1643205493538,
     "user": {
      "displayName": "Thaweesak Chusri",
      "photoUrl": "https://lh3.googleusercontent.com/a-/AOh14Gj5PzlhZ6sYmXktrK-vzF5hfKwhW_E9rb7D4Vct=s64",
      "userId": "01804259234293140992"
     },
     "user_tz": -480
    },
    "id": "t5jxRWIomEGn",
    "papermill": {
     "duration": 0.032875,
     "end_time": "2021-05-02T15:57:45.843496",
     "exception": false,
     "start_time": "2021-05-02T15:57:45.810621",
     "status": "completed"
    },
    "tags": []
   },
   "outputs": [],
   "source": [
    "def get_data(file = '../input/zero-shot-legal-03042021/filt_df.pickle'):\n",
    "    X = [] \n",
    "    Y = []\n",
    "    legal_encoded_seq = []\n",
    "    filt_df = pd.read_pickle(file)\n",
    "    for i,row in filt_df.iterrows():\n",
    "        x = row['plaintiff_token']\n",
    "        x2 = row['legal_content_token']\n",
    "        x3 = row['defendant_token']\n",
    "        legal_encoded = row['legal_encoded']\n",
    "        X.append([x, x2, x3, legal_encoded])\n",
    "        Y.append(row['label'])\n",
    "        legal_encoded_seq.append(row['legal_encoded'])\n",
    "    X = np.array(X ,dtype=object)\n",
    "    Y = np.array(Y)\n",
    "    print('X:'+ str(X.shape),'Y:'+str(Y.shape),'legal_encoded_seq: ' + str(len(legal_encoded_seq)))\n",
    "    return X,Y,legal_encoded_seq"
   ]
  },
  {
   "cell_type": "code",
   "execution_count": null,
   "metadata": {
    "execution": {
     "iopub.execute_input": "2022-01-20T16:22:58.970949Z",
     "iopub.status.busy": "2022-01-20T16:22:58.970388Z",
     "iopub.status.idle": "2022-01-20T16:22:58.982735Z",
     "shell.execute_reply": "2022-01-20T16:22:58.981711Z",
     "shell.execute_reply.started": "2022-01-20T16:22:58.970896Z"
    },
    "executionInfo": {
     "elapsed": 12,
     "status": "ok",
     "timestamp": 1643205493539,
     "user": {
      "displayName": "Thaweesak Chusri",
      "photoUrl": "https://lh3.googleusercontent.com/a-/AOh14Gj5PzlhZ6sYmXktrK-vzF5hfKwhW_E9rb7D4Vct=s64",
      "userId": "01804259234293140992"
     },
     "user_tz": -480
    },
    "id": "a0N_aJ5VmEGn",
    "papermill": {
     "duration": 0.030685,
     "end_time": "2021-05-02T15:57:45.733275",
     "exception": false,
     "start_time": "2021-05-02T15:57:45.70259",
     "status": "completed"
    },
    "tags": []
   },
   "outputs": [],
   "source": [
    "sorted_idx = list(idx.keys())"
   ]
  },
  {
   "cell_type": "code",
   "execution_count": null,
   "metadata": {
    "colab": {
     "base_uri": "https://localhost:8080/"
    },
    "execution": {
     "iopub.execute_input": "2022-01-20T16:22:58.984538Z",
     "iopub.status.busy": "2022-01-20T16:22:58.984222Z",
     "iopub.status.idle": "2022-01-20T16:22:58.998874Z",
     "shell.execute_reply": "2022-01-20T16:22:58.998055Z",
     "shell.execute_reply.started": "2022-01-20T16:22:58.984509Z"
    },
    "executionInfo": {
     "elapsed": 11,
     "status": "ok",
     "timestamp": 1643205493539,
     "user": {
      "displayName": "Thaweesak Chusri",
      "photoUrl": "https://lh3.googleusercontent.com/a-/AOh14Gj5PzlhZ6sYmXktrK-vzF5hfKwhW_E9rb7D4Vct=s64",
      "userId": "01804259234293140992"
     },
     "user_tz": -480
    },
    "id": "JuAGUBlYmEGo",
    "outputId": "a38b29ca-7807-41de-ff97-fe5bea4943be"
   },
   "outputs": [],
   "source": [
    "sorted_idx[0:10]"
   ]
  },
  {
   "cell_type": "code",
   "execution_count": null,
   "metadata": {
    "execution": {
     "iopub.execute_input": "2022-01-20T16:22:59.000509Z",
     "iopub.status.busy": "2022-01-20T16:22:59.000049Z",
     "iopub.status.idle": "2022-01-20T16:22:59.010979Z",
     "shell.execute_reply": "2022-01-20T16:22:59.010029Z",
     "shell.execute_reply.started": "2022-01-20T16:22:59.000476Z"
    },
    "executionInfo": {
     "elapsed": 10,
     "status": "ok",
     "timestamp": 1643205493540,
     "user": {
      "displayName": "Thaweesak Chusri",
      "photoUrl": "https://lh3.googleusercontent.com/a-/AOh14Gj5PzlhZ6sYmXktrK-vzF5hfKwhW_E9rb7D4Vct=s64",
      "userId": "01804259234293140992"
     },
     "user_tz": -480
    },
    "id": "4UFlcfjcmEGo",
    "papermill": {
     "duration": 0.037528,
     "end_time": "2021-05-02T15:57:45.903448",
     "exception": false,
     "start_time": "2021-05-02T15:57:45.86592",
     "status": "completed"
    },
    "tags": []
   },
   "outputs": [],
   "source": [
    "def split_by_id(file = '../input/zero-shot-legal-03042021/filt_df.pickle'):\n",
    "    filter_df = pd.read_pickle(file)\n",
    "    train_indx, rest_indx = next(sklearn.model_selection.GroupShuffleSplit(test_size=.30, n_splits=2, random_state = 42).split(filter_df, groups=filter_df['case_id']))\n",
    "    rest_df = filter_df.iloc[rest_indx]\n",
    "    dev_indx,test_indx = next(sklearn.model_selection.GroupShuffleSplit(test_size=.50, n_splits=2, random_state = 42).split(rest_df, groups=rest_df['case_id']))\n",
    "\n",
    "    train = filter_df.iloc[train_indx]\n",
    "    dev = rest_df.iloc[dev_indx]\n",
    "    test = rest_df.iloc[test_indx]\n",
    "    \n",
    "    def get_data_by_id(df):\n",
    "        X = [] \n",
    "        Y = []\n",
    "    \n",
    "        for i,row in df.iterrows():\n",
    "            x = row['plaintiff_token']\n",
    "            x2 = row['legal_content_token']\n",
    "            x3 = row['defendant_token']\n",
    "            legal_encoded = row['legal_encoded']\n",
    "            X.append([x, x2, x3,legal_encoded])\n",
    "            Y.append(row['label'])\n",
    "        X = np.array(X ,dtype=object)\n",
    "        Y = np.array(Y)\n",
    "        print('X:'+ str(X.shape),'Y:'+str(Y.shape),'legal_encoded_seq:' + str(len(X[:, 3])))\n",
    "        return X,Y\n",
    "    \n",
    "    X_train,Y_train = get_data_by_id(train)\n",
    "    X_dev,Y_dev = get_data_by_id(dev)\n",
    "    X_test,Y_test = get_data_by_id(test)\n",
    "\n",
    "    return X_train,Y_train,X_dev,Y_dev,X_test,Y_test\n",
    "    "
   ]
  },
  {
   "cell_type": "markdown",
   "metadata": {
    "id": "2Dum5XDlmEGp"
   },
   "source": [
    "# Custom metrics"
   ]
  },
  {
   "cell_type": "code",
   "execution_count": null,
   "metadata": {
    "execution": {
     "iopub.execute_input": "2022-01-20T16:22:59.012952Z",
     "iopub.status.busy": "2022-01-20T16:22:59.012334Z",
     "iopub.status.idle": "2022-01-20T16:22:59.029254Z",
     "shell.execute_reply": "2022-01-20T16:22:59.028474Z",
     "shell.execute_reply.started": "2022-01-20T16:22:59.012907Z"
    },
    "executionInfo": {
     "elapsed": 9,
     "status": "ok",
     "timestamp": 1643205493540,
     "user": {
      "displayName": "Thaweesak Chusri",
      "photoUrl": "https://lh3.googleusercontent.com/a-/AOh14Gj5PzlhZ6sYmXktrK-vzF5hfKwhW_E9rb7D4Vct=s64",
      "userId": "01804259234293140992"
     },
     "user_tz": -480
    },
    "id": "rcrTQVhb4ocL",
    "papermill": {
     "duration": 0.044605,
     "end_time": "2021-05-02T15:57:45.512518",
     "exception": false,
     "start_time": "2021-05-02T15:57:45.467913",
     "status": "completed"
    },
    "tags": []
   },
   "outputs": [],
   "source": [
    "def recall(y_true, y_pred):\n",
    "    true_positives = K.sum(K.round(K.clip(y_true * y_pred, 0, 1)))\n",
    "    possible_positives = K.sum(K.round(K.clip(y_true, 0, 1)))\n",
    "    recall = true_positives / (possible_positives + K.epsilon())\n",
    "    return recall\n",
    "\n",
    "\n",
    "def precision(y_true, y_pred):\n",
    "    true_positives = K.sum(K.round(K.clip(y_true * y_pred, 0, 1)))\n",
    "    predicted_positives = K.sum(K.round(K.clip(y_pred, 0, 1)))\n",
    "    precision = true_positives / (predicted_positives + K.epsilon())\n",
    "    return precision\n",
    "\n",
    "\n",
    "def microf1(y_true, y_pred):\n",
    "\n",
    "    def recall(y_true, y_pred):\n",
    "        true_positives = K.sum(K.round(K.clip(y_true * y_pred, 0, 1)))\n",
    "        possible_positives = K.sum(K.round(K.clip(y_true, 0, 1)))\n",
    "        recall = true_positives / (possible_positives + K.epsilon())\n",
    "        return recall\n",
    "\n",
    "    def precision(y_true, y_pred):\n",
    "        true_positives = K.sum(K.round(K.clip(y_true * y_pred, 0, 1)))\n",
    "        predicted_positives = K.sum(K.round(K.clip(y_pred, 0, 1)))\n",
    "        precision = true_positives / (predicted_positives + K.epsilon())\n",
    "        return precision\n",
    "\n",
    "    precision = precision(y_true, y_pred)\n",
    "    recall = recall(y_true, y_pred)\n",
    "    return 2 * ((precision * recall) / (precision + recall + K.epsilon()))\n",
    "\n",
    "\n",
    "def macrof1(y_true, y_pred):\n",
    "    y_pred = K.round(y_pred)\n",
    "    tp = K.sum(K.cast(y_true * y_pred, 'float'), axis=0)\n",
    "    # tn = K.sum(K.cast((1-y_true)*(1-y_pred), 'float'), axis=0)\n",
    "    fp = K.sum(K.cast((1 - y_true) * y_pred, 'float'), axis=0)\n",
    "    fn = K.sum(K.cast(y_true * (1 - y_pred), 'float'), axis=0)\n",
    "\n",
    "    p = tp / (tp + fp + K.epsilon())\n",
    "    r = tp / (tp + fn + K.epsilon())\n",
    "\n",
    "    f1 = 2 * p * r / (p + r + K.epsilon())\n",
    "    f1 = tf.where(tf.math.is_nan(f1), tf.zeros_like(f1), f1)\n",
    "    return K.mean(f1)\n",
    "\n",
    "def contrastive_loss(y_true, y_pred):\n",
    "    margin = 1\n",
    "    return tf.cast((y_true * K.square(y_pred)\\\n",
    "            + (1 - y_true) * K.square(K.maximum(margin - y_pred, 0))),dtype=tf.float32)\n",
    "\n",
    "def accuracy2(y_true, y_pred):\n",
    "    return K.mean(tf.cast(tf.equal(y_true, tf.cast(y_pred < 0.5, dtype=tf.float32)), dtype=tf.float32))"
   ]
  },
  {
   "cell_type": "code",
   "execution_count": null,
   "metadata": {
    "execution": {
     "iopub.execute_input": "2022-01-20T16:22:59.030908Z",
     "iopub.status.busy": "2022-01-20T16:22:59.030463Z",
     "iopub.status.idle": "2022-01-20T16:22:59.044525Z",
     "shell.execute_reply": "2022-01-20T16:22:59.043591Z",
     "shell.execute_reply.started": "2022-01-20T16:22:59.030876Z"
    },
    "executionInfo": {
     "elapsed": 9,
     "status": "ok",
     "timestamp": 1643205493540,
     "user": {
      "displayName": "Thaweesak Chusri",
      "photoUrl": "https://lh3.googleusercontent.com/a-/AOh14Gj5PzlhZ6sYmXktrK-vzF5hfKwhW_E9rb7D4Vct=s64",
      "userId": "01804259234293140992"
     },
     "user_tz": -480
    },
    "id": "ZUJQtotymEGp",
    "papermill": {
     "duration": 0.044353,
     "end_time": "2021-05-02T15:57:45.970531",
     "exception": false,
     "start_time": "2021-05-02T15:57:45.926178",
     "status": "completed"
    },
    "tags": []
   },
   "outputs": [],
   "source": [
    "def evaluate(y_true,y_pred,legal_encoded_seq):\n",
    "    all_legal_dict = {key : {'true' : [], 'pred' : []} for key in legal_encoded_seq}\n",
    "    all_score_dict = {key : {} for key in legal_encoded_seq}\n",
    "    \n",
    "    for i in range(len(legal_encoded_seq)) :\n",
    "        true = y_true[i]\n",
    "        pred = y_pred[i]\n",
    "        legal_encoded = legal_encoded_seq[i]\n",
    "        all_legal_dict[legal_encoded]['true'].append(true)\n",
    "        all_legal_dict[legal_encoded]['pred'].append(pred)\n",
    "    \n",
    "    for key in all_legal_dict:\n",
    "        true = all_legal_dict[key]['true']\n",
    "        pred = all_legal_dict[key]['pred']\n",
    "        f1 =  f1_score(true,pred,labels=[1])\n",
    "        recall = recall_score(true,pred,labels=[1])\n",
    "        precision = precision_score(true,pred,labels=[1])\n",
    "        all_score_dict[key]['f1'] = f1\n",
    "        all_score_dict[key]['precision'] = precision\n",
    "        all_score_dict[key]['recall'] = recall\n",
    "    return all_score_dict"
   ]
  },
  {
   "cell_type": "code",
   "execution_count": null,
   "metadata": {
    "execution": {
     "iopub.execute_input": "2022-01-20T16:22:59.046274Z",
     "iopub.status.busy": "2022-01-20T16:22:59.045817Z",
     "iopub.status.idle": "2022-01-20T16:22:59.060936Z",
     "shell.execute_reply": "2022-01-20T16:22:59.059976Z",
     "shell.execute_reply.started": "2022-01-20T16:22:59.046238Z"
    },
    "executionInfo": {
     "elapsed": 381,
     "status": "ok",
     "timestamp": 1643205493913,
     "user": {
      "displayName": "Thaweesak Chusri",
      "photoUrl": "https://lh3.googleusercontent.com/a-/AOh14Gj5PzlhZ6sYmXktrK-vzF5hfKwhW_E9rb7D4Vct=s64",
      "userId": "01804259234293140992"
     },
     "user_tz": -480
    },
    "id": "5b3UnuzvmEGq",
    "papermill": {
     "duration": 0.033884,
     "end_time": "2021-05-02T15:57:46.026872",
     "exception": false,
     "start_time": "2021-05-02T15:57:45.992988",
     "status": "completed"
    },
    "tags": []
   },
   "outputs": [],
   "source": [
    "def euclidean_distance(vects):\n",
    "    x, y = vects\n",
    "    return K.sqrt(K.sum(K.square(x - y), axis=1, keepdims=True))\n",
    "\n",
    "def eucl_dist_output_shape(shapes):\n",
    "    shape1, shape2 = shapes\n",
    "    return (shape1[0], 1)\n",
    "\n",
    "def cosine_distance(vects):\n",
    "    x, y= vects\n",
    "    x = K.l2_normalize(x, axis=-1)\n",
    "    y = K.l2_normalize(y, axis=-1)\n",
    "    return -K.mean(x * y, axis=-1, keepdims=True)\n",
    "\n",
    "def cosine_dist_output_shape(shapes):\n",
    "    shape1, shape2 = shapes\n",
    "    return (shape1[0], 1)"
   ]
  },
  {
   "cell_type": "markdown",
   "metadata": {
    "id": "elU_DhQkmEGq"
   },
   "source": [
    "# Create Model & Set parameters"
   ]
  },
  {
   "cell_type": "code",
   "execution_count": null,
   "metadata": {
    "execution": {
     "iopub.execute_input": "2022-01-20T16:22:59.062447Z",
     "iopub.status.busy": "2022-01-20T16:22:59.062138Z",
     "iopub.status.idle": "2022-01-20T16:22:59.072157Z",
     "shell.execute_reply": "2022-01-20T16:22:59.071456Z",
     "shell.execute_reply.started": "2022-01-20T16:22:59.062415Z"
    },
    "executionInfo": {
     "elapsed": 15,
     "status": "ok",
     "timestamp": 1643205493914,
     "user": {
      "displayName": "Thaweesak Chusri",
      "photoUrl": "https://lh3.googleusercontent.com/a-/AOh14Gj5PzlhZ6sYmXktrK-vzF5hfKwhW_E9rb7D4Vct=s64",
      "userId": "01804259234293140992"
     },
     "user_tz": -480
    },
    "id": "GPrXZSn8mEGq",
    "papermill": {
     "duration": 0.031147,
     "end_time": "2021-05-02T15:57:46.08093",
     "exception": false,
     "start_time": "2021-05-02T15:57:46.049783",
     "status": "completed"
    },
    "tags": []
   },
   "outputs": [],
   "source": [
    "BATCH_SIZE=64\n",
    "EPOCHS = 5\n",
    "NUM_WORDS=8000\n",
    "embedding_size = 300\n",
    "lr = 3e-4"
   ]
  },
  {
   "cell_type": "code",
   "execution_count": null,
   "metadata": {
    "colab": {
     "base_uri": "https://localhost:8080/"
    },
    "execution": {
     "iopub.execute_input": "2022-01-20T16:22:59.073592Z",
     "iopub.status.busy": "2022-01-20T16:22:59.073171Z",
     "iopub.status.idle": "2022-01-20T16:22:59.085739Z",
     "shell.execute_reply": "2022-01-20T16:22:59.084925Z",
     "shell.execute_reply.started": "2022-01-20T16:22:59.073560Z"
    },
    "executionInfo": {
     "elapsed": 14,
     "status": "ok",
     "timestamp": 1643205493914,
     "user": {
      "displayName": "Thaweesak Chusri",
      "photoUrl": "https://lh3.googleusercontent.com/a-/AOh14Gj5PzlhZ6sYmXktrK-vzF5hfKwhW_E9rb7D4Vct=s64",
      "userId": "01804259234293140992"
     },
     "user_tz": -480
    },
    "id": "NUlFC4JnmEGq",
    "outputId": "020c2f1e-d96e-4e6f-d93a-b0991d32df0e",
    "papermill": {
     "duration": 0.033918,
     "end_time": "2021-05-02T15:57:46.137733",
     "exception": false,
     "start_time": "2021-05-02T15:57:46.103815",
     "status": "completed"
    },
    "tags": []
   },
   "outputs": [],
   "source": [
    "from sklearn.model_selection import ParameterGrid\n",
    "\n",
    "parameters = {'epochs': [10 , 15 , 32],\n",
    "             'lr' : [0.0001,0.001 , 0.1]}\n",
    "\n",
    "list(ParameterGrid(parameters))"
   ]
  },
  {
   "cell_type": "code",
   "execution_count": null,
   "metadata": {
    "execution": {
     "iopub.execute_input": "2022-01-20T16:22:59.087067Z",
     "iopub.status.busy": "2022-01-20T16:22:59.086695Z",
     "iopub.status.idle": "2022-01-20T16:22:59.096248Z",
     "shell.execute_reply": "2022-01-20T16:22:59.095414Z",
     "shell.execute_reply.started": "2022-01-20T16:22:59.087039Z"
    },
    "executionInfo": {
     "elapsed": 6,
     "status": "ok",
     "timestamp": 1643205493914,
     "user": {
      "displayName": "Thaweesak Chusri",
      "photoUrl": "https://lh3.googleusercontent.com/a-/AOh14Gj5PzlhZ6sYmXktrK-vzF5hfKwhW_E9rb7D4Vct=s64",
      "userId": "01804259234293140992"
     },
     "user_tz": -480
    },
    "id": "4h37wyErmEGr",
    "papermill": {
     "duration": 0.033483,
     "end_time": "2021-05-02T15:57:46.248206",
     "exception": false,
     "start_time": "2021-05-02T15:57:46.214723",
     "status": "completed"
    },
    "tags": []
   },
   "outputs": [],
   "source": [
    "def cnn_model(input_shape,embeddings,embedding_dim):\n",
    "    model_input = Input(shape=(input_shape,))\n",
    "    layer = Embedding(len(embeddings), \n",
    "                 embedding_dim, \n",
    "                 weights=[embeddings], \n",
    "                 input_length=max_len, \n",
    "                 trainable=False,\n",
    "                 mask_zero = True)(model_input)\n",
    "    layer = Conv1D(filters=250,kernel_size=15,activation='relu')(layer)\n",
    "    layer = GlobalMaxPooling1D(pool_size=2)(layer)\n",
    "    # vector = MaxPooling1D(pool_size=2)(layer)\n",
    "    output = Flatten()(layer)\n",
    "    \n",
    "    model = Model(inputs=model_input, outputs=output)\n",
    "    model.summary()\n",
    "    return model\n",
    "\n",
    "def cnn_encoder(max_sequence_len,embeddings,embedding_dim):\n",
    "    input_layer = Input(shape=(max_sequence_len,))\n",
    "    layer =  Embedding(len(embeddings), \n",
    "                 embedding_dim, \n",
    "                 weights=[embeddings], \n",
    "                 input_length=max_sequence_len, \n",
    "                 trainable=False,\n",
    "                 mask_zero = True)(input_layer)\n",
    "    layer = Conv1D(filters=250,kernel_size=15,activation='relu')(layer)\n",
    "    vector = GlobalMaxPool1D()(layer)\n",
    "    return input_layer,vector"
   ]
  },
  {
   "cell_type": "code",
   "execution_count": null,
   "metadata": {
    "execution": {
     "iopub.execute_input": "2022-01-20T16:22:59.098183Z",
     "iopub.status.busy": "2022-01-20T16:22:59.097782Z",
     "iopub.status.idle": "2022-01-20T16:22:59.111167Z",
     "shell.execute_reply": "2022-01-20T16:22:59.110117Z",
     "shell.execute_reply.started": "2022-01-20T16:22:59.098153Z"
    },
    "executionInfo": {
     "elapsed": 7,
     "status": "ok",
     "timestamp": 1643205493915,
     "user": {
      "displayName": "Thaweesak Chusri",
      "photoUrl": "https://lh3.googleusercontent.com/a-/AOh14Gj5PzlhZ6sYmXktrK-vzF5hfKwhW_E9rb7D4Vct=s64",
      "userId": "01804259234293140992"
     },
     "user_tz": -480
    },
    "id": "Xp3EQhNemEGr",
    "papermill": {
     "duration": 0.033866,
     "end_time": "2021-05-02T15:57:46.305569",
     "exception": false,
     "start_time": "2021-05-02T15:57:46.271703",
     "status": "completed"
    },
    "tags": []
   },
   "outputs": [],
   "source": [
    "def gru_encoder(max_sequence_len,embeddings,embedding_dim):\n",
    "    input_layer = Input(shape=(max_sequence_len,))\n",
    "    layer =  Embedding(len(embeddings), \n",
    "                 embedding_dim, \n",
    "                 weights=[embeddings], \n",
    "                 input_length=max_sequence_len, \n",
    "                 trainable=False,\n",
    "                 mask_zero = True)(input_layer)\n",
    "    layer = GRU(50, activation='relu')(layer)\n",
    "    vector = Dropout(0.5)(layer)\n",
    "    return input_layer,vector"
   ]
  },
  {
   "cell_type": "code",
   "execution_count": null,
   "metadata": {
    "execution": {
     "iopub.execute_input": "2022-01-20T16:22:59.113641Z",
     "iopub.status.busy": "2022-01-20T16:22:59.112860Z",
     "iopub.status.idle": "2022-01-20T16:22:59.121084Z",
     "shell.execute_reply": "2022-01-20T16:22:59.120201Z",
     "shell.execute_reply.started": "2022-01-20T16:22:59.113561Z"
    },
    "executionInfo": {
     "elapsed": 7,
     "status": "ok",
     "timestamp": 1643205493916,
     "user": {
      "displayName": "Thaweesak Chusri",
      "photoUrl": "https://lh3.googleusercontent.com/a-/AOh14Gj5PzlhZ6sYmXktrK-vzF5hfKwhW_E9rb7D4Vct=s64",
      "userId": "01804259234293140992"
     },
     "user_tz": -480
    },
    "id": "qpIGdWqZmEGr",
    "papermill": {
     "duration": 0.038506,
     "end_time": "2021-05-02T15:57:46.368026",
     "exception": false,
     "start_time": "2021-05-02T15:57:46.32952",
     "status": "completed"
    },
    "tags": []
   },
   "outputs": [],
   "source": [
    "def lstm_encoder(max_sequence_len,embeddings,embedding_dim):\n",
    "    input_layer = Input(shape=(max_sequence_len,))\n",
    "    layer =  Embedding(len(embeddings), \n",
    "                 embedding_dim, \n",
    "                 weights=[embeddings], \n",
    "                 input_length=max_sequence_len, \n",
    "                 trainable=False,\n",
    "                 mask_zero = True)(input_layer)\n",
    "    layer = LSTM(100 , return_sequences = True , activation='relu')(layer)\n",
    "    vector = LSTM(units=50)(layer)\n",
    "    return input_layer,vector"
   ]
  },
  {
   "cell_type": "markdown",
   "metadata": {
    "id": "a3YQH97QmEGr"
   },
   "source": [
    "# Train"
   ]
  },
  {
   "cell_type": "code",
   "execution_count": null,
   "metadata": {
    "colab": {
     "base_uri": "https://localhost:8080/"
    },
    "executionInfo": {
     "elapsed": 58091,
     "status": "ok",
     "timestamp": 1643205552000,
     "user": {
      "displayName": "Thaweesak Chusri",
      "photoUrl": "https://lh3.googleusercontent.com/a-/AOh14Gj5PzlhZ6sYmXktrK-vzF5hfKwhW_E9rb7D4Vct=s64",
      "userId": "01804259234293140992"
     },
     "user_tz": -480
    },
    "id": "La9FkiHOmpu5",
    "outputId": "ebdf8a16-ac8f-4288-ac5b-5c225c63c9a4"
   },
   "outputs": [],
   "source": [
    "from google.colab import drive\n",
    "drive.mount('/content/gdrive')\n",
    "%cd /content/gdrive/MyDrive/tort-siamese\n",
    "!mkdir -p data\n",
    "!mkdir -p tmp\n",
    "!mkdir -p checkpoints\n",
    "!mkdir -p pretrained\n",
    "!mkdir -p results\n",
    "!pwd\n",
    "!ls data"
   ]
  },
  {
   "cell_type": "code",
   "execution_count": null,
   "metadata": {
    "colab": {
     "base_uri": "https://localhost:8080/"
    },
    "executionInfo": {
     "elapsed": 9,
     "status": "ok",
     "timestamp": 1643205552001,
     "user": {
      "displayName": "Thaweesak Chusri",
      "photoUrl": "https://lh3.googleusercontent.com/a-/AOh14Gj5PzlhZ6sYmXktrK-vzF5hfKwhW_E9rb7D4Vct=s64",
      "userId": "01804259234293140992"
     },
     "user_tz": -480
    },
    "id": "rW1aJNDum_rl",
    "outputId": "86c5130f-c280-44ca-c5f7-62b31af7c900"
   },
   "outputs": [],
   "source": [
    "!ls"
   ]
  },
  {
   "cell_type": "code",
   "execution_count": null,
   "metadata": {
    "colab": {
     "base_uri": "https://localhost:8080/",
     "height": 1000
    },
    "execution": {
     "iopub.execute_input": "2022-01-20T16:29:54.544706Z",
     "iopub.status.busy": "2022-01-20T16:29:54.544247Z",
     "iopub.status.idle": "2022-01-20T16:31:07.666921Z",
     "shell.execute_reply": "2022-01-20T16:31:07.665725Z",
     "shell.execute_reply.started": "2022-01-20T16:29:54.544666Z"
    },
    "executionInfo": {
     "elapsed": 161828,
     "status": "ok",
     "timestamp": 1643207638782,
     "user": {
      "displayName": "Thaweesak Chusri",
      "photoUrl": "https://lh3.googleusercontent.com/a-/AOh14Gj5PzlhZ6sYmXktrK-vzF5hfKwhW_E9rb7D4Vct=s64",
      "userId": "01804259234293140992"
     },
     "user_tz": -480
    },
    "id": "fFKM7qNqmEGs",
    "outputId": "9e5e7371-22d2-4d23-a326-dccb35235be2",
    "papermill": {
     "duration": 17262.52997,
     "end_time": "2021-05-02T20:45:28.922214",
     "exception": false,
     "start_time": "2021-05-02T15:57:46.392244",
     "status": "completed"
    },
    "tags": []
   },
   "outputs": [],
   "source": [
    "\"\"\"\"split data\"\"\"\n",
    "# X_train,Y_train,X_dev,Y_dev,X_test,Y_test = split_by_id(file = 'notebooks/filt_df.pickle')\n",
    "X_train,Y_train,X_dev,Y_dev,X_test,Y_test = split_by_id(file = 'data/filt_df.pickle')\n",
    "    # data/filt_df.pickle\n",
    "\"\"\"process data (plaint,legal,defense)\"\"\"\n",
    "train_seqs1, test_seqs1, dev_seqs1, max_sequence_len1, tokenizer1 = process_input(NUM_WORDS, X_train[:, 0], X_test[:, 0], X_dev[:, 0])\n",
    "train_seqs2, test_seqs2, dev_seqs2, max_sequence_len2, tokenizer2 = process_input(NUM_WORDS, X_train[:, 1], X_test[:, 1], X_dev[:, 1])\n",
    "train_seqs3, test_seqs3, dev_seqs3, max_sequence_len3, tokenizer3 = process_input(NUM_WORDS, X_train[:, 2], X_test[:, 2], X_dev[:, 2])\n",
    "\n",
    "\"\"\"get all emb\"\"\"\n",
    "embedding_matrix1 =  load_fasttext_fast(tokenizer1.word_index,NUM_WORDS,embedding_size, file_name=\"data/cc.th.300.vec\") \n",
    "embedding_matrix2 =  load_fasttext_fast(tokenizer2.word_index,NUM_WORDS,embedding_size, file_name=\"data/cc.th.300.vec\") \n",
    "embedding_matrix3 =  load_fasttext_fast(tokenizer3.word_index,NUM_WORDS,embedding_size, file_name=\"data/cc.th.300.vec\") \n",
    "\n",
    "train_generator = multi_input_proportional_generator([train_seqs1, train_seqs2, train_seqs3], Y_train, p=[0.5, 0.5], batch_size=BATCH_SIZE)\n",
    "validation_generator = multi_input_proportional_generator([dev_seqs1, dev_seqs2, dev_seqs3], Y_dev, batch_size=BATCH_SIZE)\n",
    "\n",
    "\"\"\"get vector (encoder) and combine vector\"\"\"\n",
    "plaintiff_input, plaintiff_vec = cnn_encoder(max_sequence_len1,embedding_matrix1,embedding_size)\n",
    "law_input, law_vec = cnn_encoder(max_sequence_len2,embedding_matrix2,embedding_size)\n",
    "defendant_input, defendant_vec = cnn_encoder(max_sequence_len3,embedding_matrix3,embedding_size)\n",
    "\n",
    "\"\"\"cosine similarity cost func\"\"\"\n",
    "plain_law = Lambda(cosine_distance, name='cosine_distance_1')\\\n",
    "([plaintiff_vec, law_vec])\n",
    "def_law = merged = Lambda(cosine_distance, name='cosine_distance_2')\\\n",
    "([defendant_vec, law_vec])\n",
    "plain_def = merged = Lambda(cosine_distance, name='cosine_distance_3')\\\n",
    "([plaintiff_vec, defendant_vec])\n",
    "\n",
    "\"\"\"concat\"\"\"\n",
    "\n",
    "concat_layer = concatenate([plain_law,def_law,plain_def])\n",
    "\n",
    "\n",
    "\"\"\"result\"\"\"\n",
    "layer = Dense(50, activation='relu')(concat_layer)\n",
    "layer = Dropout(.5)(layer)\n",
    "layer = Dense(50, activation='relu')(layer)\n",
    "layer = Dropout(.5)(layer)\n",
    "layer = Flatten()(layer)\n",
    "out = Dense(1, activation='sigmoid')(layer)\n",
    "model = Model(inputs=[plaintiff_input,law_input,defendant_input], outputs = out)\n",
    "\n",
    "opt = tf.keras.optimizers.Adam(\n",
    "learning_rate=lr,\n",
    "name='Adam')\n",
    "\n",
    "model.compile(optimizer = opt,loss=\"binary_crossentropy\", metrics=['accuracy', recall, precision, microf1, macrof1])\n",
    "model.summary()\n",
    "\n",
    "tf.keras.utils.plot_model(model, show_shapes=True,to_file='model.png')  \n",
    "display_png(Image('model.png')) \n",
    "\n",
    "\"\"\"num_batches = int(len(train_seqs1)/BATCH_SIZE)\n",
    "history = model.fit(train_generator, epochs=EPOCHS, steps_per_epoch=num_batches,validation_data=validation_generator,validation_steps=num_batches,verbose = 1)\n",
    " \n",
    "print(\"Evaluation\")\n",
    "\n",
    "predictions= model.predict([test_seqs1,test_seqs2, test_seqs3], verbose=1)\n",
    "y_pred = [lst[0] for lst in predictions ]\n",
    "y_true = Y_test\n",
    "legal_encoded_seq = X_test[:, 3] \"\"\""
   ]
  },
  {
   "cell_type": "code",
   "execution_count": null,
   "metadata": {
    "colab": {
     "base_uri": "https://localhost:8080/"
    },
    "executionInfo": {
     "elapsed": 269628,
     "status": "ok",
     "timestamp": 1643207945872,
     "user": {
      "displayName": "Thaweesak Chusri",
      "photoUrl": "https://lh3.googleusercontent.com/a-/AOh14Gj5PzlhZ6sYmXktrK-vzF5hfKwhW_E9rb7D4Vct=s64",
      "userId": "01804259234293140992"
     },
     "user_tz": -480
    },
    "id": "qEemtVhZp8wb",
    "outputId": "0121b996-9784-493b-b266-0ad128d7fed5"
   },
   "outputs": [],
   "source": [
    "num_batches = int(len(train_seqs1)/BATCH_SIZE)\n",
    "history = model.fit(train_generator, epochs=EPOCHS, steps_per_epoch=num_batches,validation_data=validation_generator,validation_steps=num_batches,verbose = 1)\n",
    "model.save('saved_models/three_encoders_sim')\n",
    "\n",
    "print(\"Evaluation\")\n",
    "\n",
    "predictions= model.predict([test_seqs1,test_seqs2, test_seqs3], verbose=1)\n",
    "y_pred = [lst[0] for lst in predictions ]\n",
    "y_true = Y_test\n",
    "legal_encoded_seq = X_test[:, 3]"
   ]
  },
  {
   "cell_type": "code",
   "execution_count": null,
   "metadata": {
    "execution": {
     "iopub.status.busy": "2022-01-20T16:24:57.423330Z",
     "iopub.status.idle": "2022-01-20T16:24:57.424070Z"
    },
    "executionInfo": {
     "elapsed": 23,
     "status": "ok",
     "timestamp": 1643206117192,
     "user": {
      "displayName": "Thaweesak Chusri",
      "photoUrl": "https://lh3.googleusercontent.com/a-/AOh14Gj5PzlhZ6sYmXktrK-vzF5hfKwhW_E9rb7D4Vct=s64",
      "userId": "01804259234293140992"
     },
     "user_tz": -480
    },
    "id": "YP9lIlGUmEGs",
    "papermill": {
     "duration": 0.392874,
     "end_time": "2021-05-02T20:45:29.671386",
     "exception": false,
     "start_time": "2021-05-02T20:45:29.278512",
     "status": "completed"
    },
    "tags": []
   },
   "outputs": [],
   "source": [
    "y_pred = [1 if lst[0] > 0.5 else 0  for lst in predictions ]                                                                                     "
   ]
  },
  {
   "cell_type": "code",
   "execution_count": null,
   "metadata": {
    "colab": {
     "base_uri": "https://localhost:8080/"
    },
    "execution": {
     "iopub.status.busy": "2022-01-20T16:24:57.425639Z",
     "iopub.status.idle": "2022-01-20T16:24:57.426233Z"
    },
    "executionInfo": {
     "elapsed": 23,
     "status": "ok",
     "timestamp": 1643206117193,
     "user": {
      "displayName": "Thaweesak Chusri",
      "photoUrl": "https://lh3.googleusercontent.com/a-/AOh14Gj5PzlhZ6sYmXktrK-vzF5hfKwhW_E9rb7D4Vct=s64",
      "userId": "01804259234293140992"
     },
     "user_tz": -480
    },
    "id": "jAVsf4M6mEGs",
    "outputId": "94bd03e0-3ebe-4ca0-cf9f-59245a68a4cb",
    "papermill": {
     "duration": 0.518203,
     "end_time": "2021-05-02T20:45:30.552502",
     "exception": false,
     "start_time": "2021-05-02T20:45:30.034299",
     "status": "completed"
    },
    "tags": []
   },
   "outputs": [],
   "source": [
    "predictions"
   ]
  },
  {
   "cell_type": "markdown",
   "metadata": {
    "id": "vfZBh-P5mEGs"
   },
   "source": [
    "# Evaluation"
   ]
  },
  {
   "cell_type": "code",
   "execution_count": null,
   "metadata": {
    "colab": {
     "base_uri": "https://localhost:8080/"
    },
    "execution": {
     "iopub.status.busy": "2022-01-20T16:24:57.427753Z",
     "iopub.status.idle": "2022-01-20T16:24:57.428376Z"
    },
    "executionInfo": {
     "elapsed": 22,
     "status": "ok",
     "timestamp": 1643206117195,
     "user": {
      "displayName": "Thaweesak Chusri",
      "photoUrl": "https://lh3.googleusercontent.com/a-/AOh14Gj5PzlhZ6sYmXktrK-vzF5hfKwhW_E9rb7D4Vct=s64",
      "userId": "01804259234293140992"
     },
     "user_tz": -480
    },
    "id": "wgJWI7XCmEGs",
    "outputId": "113c45c4-7bfd-45cb-b5da-bdcd5fbac077",
    "papermill": {
     "duration": 0.465397,
     "end_time": "2021-05-02T20:45:31.53381",
     "exception": false,
     "start_time": "2021-05-02T20:45:31.068413",
     "status": "completed"
    },
    "tags": []
   },
   "outputs": [],
   "source": [
    "evaluation = evaluate(y_true,y_pred,legal_encoded_seq)\n",
    "\n",
    "print(json.dumps(evaluation, indent=4))"
   ]
  },
  {
   "cell_type": "code",
   "execution_count": null,
   "metadata": {
    "colab": {
     "base_uri": "https://localhost:8080/"
    },
    "execution": {
     "iopub.status.busy": "2022-01-20T16:24:57.433034Z",
     "iopub.status.idle": "2022-01-20T16:24:57.433676Z"
    },
    "executionInfo": {
     "elapsed": 19,
     "status": "ok",
     "timestamp": 1643206117196,
     "user": {
      "displayName": "Thaweesak Chusri",
      "photoUrl": "https://lh3.googleusercontent.com/a-/AOh14Gj5PzlhZ6sYmXktrK-vzF5hfKwhW_E9rb7D4Vct=s64",
      "userId": "01804259234293140992"
     },
     "user_tz": -480
    },
    "id": "IXvdVuDImEGt",
    "outputId": "51e1d775-762f-42c7-e692-5e710014cc1b",
    "papermill": {
     "duration": 0.39185,
     "end_time": "2021-05-02T20:45:32.295979",
     "exception": false,
     "start_time": "2021-05-02T20:45:31.904129",
     "status": "completed"
    },
    "tags": []
   },
   "outputs": [],
   "source": [
    "print(classification_report(Y_test,y_pred))                   "
   ]
  },
  {
   "cell_type": "code",
   "execution_count": null,
   "metadata": {
    "executionInfo": {
     "elapsed": 18,
     "status": "ok",
     "timestamp": 1643206117197,
     "user": {
      "displayName": "Thaweesak Chusri",
      "photoUrl": "https://lh3.googleusercontent.com/a-/AOh14Gj5PzlhZ6sYmXktrK-vzF5hfKwhW_E9rb7D4Vct=s64",
      "userId": "01804259234293140992"
     },
     "user_tz": -480
    },
    "id": "7s3rTQFxscLW"
   },
   "outputs": [],
   "source": [
    "result_df = pd.DataFrame(evaluation)"
   ]
  },
  {
   "cell_type": "code",
   "execution_count": null,
   "metadata": {
    "colab": {
     "base_uri": "https://localhost:8080/",
     "height": 363
    },
    "executionInfo": {
     "elapsed": 17,
     "status": "ok",
     "timestamp": 1643206117197,
     "user": {
      "displayName": "Thaweesak Chusri",
      "photoUrl": "https://lh3.googleusercontent.com/a-/AOh14Gj5PzlhZ6sYmXktrK-vzF5hfKwhW_E9rb7D4Vct=s64",
      "userId": "01804259234293140992"
     },
     "user_tz": -480
    },
    "id": "wqot-k_wsqQ5",
    "outputId": "ab4f670b-1c7b-461a-ad98-3b9d1723e1a0"
   },
   "outputs": [],
   "source": [
    "result_df.T"
   ]
  },
  {
   "cell_type": "code",
   "execution_count": null,
   "metadata": {
    "executionInfo": {
     "elapsed": 16,
     "status": "ok",
     "timestamp": 1643206117198,
     "user": {
      "displayName": "Thaweesak Chusri",
      "photoUrl": "https://lh3.googleusercontent.com/a-/AOh14Gj5PzlhZ6sYmXktrK-vzF5hfKwhW_E9rb7D4Vct=s64",
      "userId": "01804259234293140992"
     },
     "user_tz": -480
    },
    "id": "_aHymMLIs9NE"
   },
   "outputs": [],
   "source": []
  }
 ],
 "metadata": {
  "accelerator": "GPU",
  "colab": {
   "collapsed_sections": [],
   "name": "law-three-encoders-similarity-ver.ipynb",
   "provenance": []
  },
  "kernelspec": {
   "display_name": "Python 3 (ipykernel)",
   "language": "python",
   "name": "python3"
  },
  "language_info": {
   "codemirror_mode": {
    "name": "ipython",
    "version": 3
   },
   "file_extension": ".py",
   "mimetype": "text/x-python",
   "name": "python",
   "nbconvert_exporter": "python",
   "pygments_lexer": "ipython3",
   "version": "3.9.7"
  }
 },
 "nbformat": 4,
 "nbformat_minor": 1
}
