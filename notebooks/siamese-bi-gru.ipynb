{
 "cells": [
  {
   "cell_type": "code",
   "execution_count": null,
   "metadata": {
    "colab": {
     "base_uri": "https://localhost:8080/"
    },
    "execution": {
     "iopub.execute_input": "2021-06-06T15:44:14.796759Z",
     "iopub.status.busy": "2021-06-06T15:44:14.796178Z",
     "iopub.status.idle": "2021-06-06T15:44:15.457318Z",
     "shell.execute_reply": "2021-06-06T15:44:15.456760Z",
     "shell.execute_reply.started": "2021-06-05T19:05:11.877554Z"
    },
    "executionInfo": {
     "elapsed": 569,
     "status": "ok",
     "timestamp": 1643203828614,
     "user": {
      "displayName": "Thaweesak Chusri",
      "photoUrl": "https://lh3.googleusercontent.com/a-/AOh14Gj5PzlhZ6sYmXktrK-vzF5hfKwhW_E9rb7D4Vct=s64",
      "userId": "01804259234293140992"
     },
     "user_tz": -420
    },
    "id": "veMNrl1c1_-D",
    "outputId": "738d11c7-7f65-42f4-f8ca-8d599b694f13",
    "papermill": {
     "duration": 0.683745,
     "end_time": "2021-06-06T15:44:15.457529",
     "exception": false,
     "start_time": "2021-06-06T15:44:14.773784",
     "status": "completed"
    },
    "tags": []
   },
   "outputs": [],
   "source": [
    "!nvidia-smi"
   ]
  },
  {
   "cell_type": "code",
   "execution_count": null,
   "metadata": {
    "colab": {
     "base_uri": "https://localhost:8080/"
    },
    "executionInfo": {
     "elapsed": 3469,
     "status": "ok",
     "timestamp": 1643203832079,
     "user": {
      "displayName": "Thaweesak Chusri",
      "photoUrl": "https://lh3.googleusercontent.com/a-/AOh14Gj5PzlhZ6sYmXktrK-vzF5hfKwhW_E9rb7D4Vct=s64",
      "userId": "01804259234293140992"
     },
     "user_tz": -420
    },
    "id": "4uQrE5zjBXbG",
    "outputId": "6de65c31-7dd7-4f1d-bd1e-b3ebc62ac35a"
   },
   "outputs": [],
   "source": [
    "from google.colab import drive\n",
    "drive.mount('/content/gdrive')\n",
    "%cd /content/gdrive/MyDrive/tort-siamese\n",
    "!mkdir -p data\n",
    "!mkdir -p tmp\n",
    "!mkdir -p checkpoints\n",
    "!mkdir -p pretrained\n",
    "!mkdir -p results\n",
    "!pwd\n",
    "!ls data"
   ]
  },
  {
   "cell_type": "code",
   "execution_count": null,
   "metadata": {
    "execution": {
     "iopub.execute_input": "2021-06-06T15:44:15.501708Z",
     "iopub.status.busy": "2021-06-06T15:44:15.501059Z",
     "iopub.status.idle": "2021-06-06T15:44:20.847773Z",
     "shell.execute_reply": "2021-06-06T15:44:20.846755Z",
     "shell.execute_reply.started": "2021-06-05T19:05:12.671236Z"
    },
    "executionInfo": {
     "elapsed": 5937,
     "status": "ok",
     "timestamp": 1643203838011,
     "user": {
      "displayName": "Thaweesak Chusri",
      "photoUrl": "https://lh3.googleusercontent.com/a-/AOh14Gj5PzlhZ6sYmXktrK-vzF5hfKwhW_E9rb7D4Vct=s64",
      "userId": "01804259234293140992"
     },
     "user_tz": -420
    },
    "id": "alpine-retention",
    "papermill": {
     "duration": 5.372089,
     "end_time": "2021-06-06T15:44:20.847919",
     "exception": false,
     "start_time": "2021-06-06T15:44:15.475830",
     "status": "completed"
    },
    "tags": []
   },
   "outputs": [],
   "source": [
    "import json\n",
    "from IPython.display import Image, display_png\n",
    "import numpy as np\n",
    "from numpy.random import seed\n",
    "import pandas as pd\n",
    "from tqdm import tqdm\n",
    "import tensorflow as tf\n",
    "import tensorflow.keras.backend as K\n",
    "from sklearn.preprocessing import LabelEncoder\n",
    "import sklearn.model_selection\n",
    "from sklearn.model_selection import train_test_split\n",
    "from sklearn.metrics import classification_report, precision_recall_fscore_support, f1_score, precision_score, recall_score, confusion_matrix\n",
    "from collections import Counter\n",
    "from tqdm import tqdm\n",
    "import pandas as pd\n",
    "from tensorflow import keras\n",
    "from tensorflow.keras import layers , regularizers\n",
    "from tensorflow.keras.models import Sequential\n",
    "from tensorflow.keras.layers import Dense , Bidirectional , LSTM, GlobalMaxPool1D\n",
    "from tensorflow.keras.layers import Dropout,MaxPooling1D,Lambda\n",
    "from tensorflow.keras.preprocessing.text import Tokenizer\n",
    "from tensorflow.keras.preprocessing.sequence import pad_sequences\n",
    "from tensorflow.keras.models import Sequential, load_model, Model\n",
    "from tensorflow.keras.utils import plot_model\n",
    "from tensorflow.keras.layers import Embedding\n",
    "from tensorflow. keras.layers import Flatten, Dropout, Activation, Input, Dense, concatenate, GRU, Conv1D"
   ]
  },
  {
   "cell_type": "code",
   "execution_count": null,
   "metadata": {
    "colab": {
     "base_uri": "https://localhost:8080/"
    },
    "execution": {
     "iopub.execute_input": "2021-06-06T15:44:20.889120Z",
     "iopub.status.busy": "2021-06-06T15:44:20.888005Z",
     "iopub.status.idle": "2021-06-06T15:44:20.890938Z",
     "shell.execute_reply": "2021-06-06T15:44:20.890498Z",
     "shell.execute_reply.started": "2021-06-05T19:05:19.09454Z"
    },
    "executionInfo": {
     "elapsed": 16,
     "status": "ok",
     "timestamp": 1643203838015,
     "user": {
      "displayName": "Thaweesak Chusri",
      "photoUrl": "https://lh3.googleusercontent.com/a-/AOh14Gj5PzlhZ6sYmXktrK-vzF5hfKwhW_E9rb7D4Vct=s64",
      "userId": "01804259234293140992"
     },
     "user_tz": -420
    },
    "id": "dimensional-weight",
    "outputId": "ee6ef9a6-6a85-4f6a-ac30-ab41b6a85056",
    "papermill": {
     "duration": 0.025216,
     "end_time": "2021-06-06T15:44:20.891043",
     "exception": false,
     "start_time": "2021-06-06T15:44:20.865827",
     "status": "completed"
    },
    "tags": []
   },
   "outputs": [],
   "source": [
    "print(tf.__version__)"
   ]
  },
  {
   "cell_type": "code",
   "execution_count": null,
   "metadata": {
    "execution": {
     "iopub.execute_input": "2021-06-06T15:44:20.936936Z",
     "iopub.status.busy": "2021-06-06T15:44:20.936260Z",
     "iopub.status.idle": "2021-06-06T15:44:20.939319Z",
     "shell.execute_reply": "2021-06-06T15:44:20.939713Z",
     "shell.execute_reply.started": "2021-06-05T19:05:19.107541Z"
    },
    "executionInfo": {
     "elapsed": 13,
     "status": "ok",
     "timestamp": 1643203838016,
     "user": {
      "displayName": "Thaweesak Chusri",
      "photoUrl": "https://lh3.googleusercontent.com/a-/AOh14Gj5PzlhZ6sYmXktrK-vzF5hfKwhW_E9rb7D4Vct=s64",
      "userId": "01804259234293140992"
     },
     "user_tz": -420
    },
    "id": "GFII31iP2xLN",
    "papermill": {
     "duration": 0.03086,
     "end_time": "2021-06-06T15:44:20.939835",
     "exception": false,
     "start_time": "2021-06-06T15:44:20.908975",
     "status": "completed"
    },
    "tags": []
   },
   "outputs": [],
   "source": [
    "def multi_input_proportional_generator(datasets,\n",
    "                                       label,\n",
    "                                       p=[0.1, 0.9],\n",
    "                                       batch_size=128):\n",
    "    # p indicate number of class and sampling prob\n",
    "    while (True):\n",
    "        batch_data = [[], []]\n",
    "        batch_label = []\n",
    "        sample_id = np.random.choice(len(p), batch_size, p=p)\n",
    "        query_idx = [\n",
    "            np.where(label == class_id)[0] for class_id in range(len(p))\n",
    "        ]\n",
    "        for class_id in sample_id:\n",
    "            query_id = np.random.choice(query_idx[class_id], 1)[0]\n",
    "            batch_data[0].append(datasets[0][query_id])\n",
    "            batch_data[1].append(datasets[1][query_id])\n",
    "            batch_label.append(label[query_id])\n",
    "        batch_data[0] = np.array(batch_data[0])\n",
    "        batch_data[1] = np.array(batch_data[1])\n",
    "        yield batch_data, np.array(batch_label)\n",
    "        \n",
    "def load_fasttext_fast(word_index, max_words, embed_size,file_name = \"data/cc.th.300.vec\"):\n",
    "    EMBEDDING_FILE = file_name\n",
    "    emb_mean, emb_std = -0.0033470048, 0.109855264\n",
    "\n",
    "    embedding_matrix = np.random.normal(emb_mean, emb_std, (max_words, embed_size))\n",
    "    with open(EMBEDDING_FILE, 'r', encoding=\"utf8\") as f:       \n",
    "        for line in f:\n",
    "            if len(line) <= 100:\n",
    "                continue\n",
    "            word, vec = line.split(' ', 1)\n",
    "            if word not in word_index:\n",
    "                continue\n",
    "            i = word_index[word]\n",
    "            if i >= max_words:\n",
    "                continue\n",
    "            embedding_vector = np.asarray(vec.split(' '), dtype='float32')[:300]\n",
    "            if len(embedding_vector) == 300:\n",
    "                embedding_matrix[i] = embedding_vector\n",
    "    return embedding_matrix"
   ]
  },
  {
   "cell_type": "code",
   "execution_count": null,
   "metadata": {
    "execution": {
     "iopub.execute_input": "2021-06-06T15:44:20.991786Z",
     "iopub.status.busy": "2021-06-06T15:44:20.990659Z",
     "iopub.status.idle": "2021-06-06T15:44:20.993466Z",
     "shell.execute_reply": "2021-06-06T15:44:20.993057Z",
     "shell.execute_reply.started": "2021-06-05T19:05:19.128537Z"
    },
    "executionInfo": {
     "elapsed": 12,
     "status": "ok",
     "timestamp": 1643203838016,
     "user": {
      "displayName": "Thaweesak Chusri",
      "photoUrl": "https://lh3.googleusercontent.com/a-/AOh14Gj5PzlhZ6sYmXktrK-vzF5hfKwhW_E9rb7D4Vct=s64",
      "userId": "01804259234293140992"
     },
     "user_tz": -420
    },
    "id": "rcrTQVhb4ocL",
    "papermill": {
     "duration": 0.036131,
     "end_time": "2021-06-06T15:44:20.993568",
     "exception": false,
     "start_time": "2021-06-06T15:44:20.957437",
     "status": "completed"
    },
    "tags": []
   },
   "outputs": [],
   "source": [
    "def recall(y_true, y_pred):\n",
    "    true_positives = K.sum(K.round(K.clip(y_true * y_pred, 0, 1)))\n",
    "    possible_positives = K.sum(K.round(K.clip(y_true, 0, 1)))\n",
    "    recall = true_positives / (possible_positives + K.epsilon())\n",
    "    return recall\n",
    "\n",
    "\n",
    "def precision(y_true, y_pred):\n",
    "    true_positives = K.sum(K.round(K.clip(y_true * y_pred, 0, 1)))\n",
    "    predicted_positives = K.sum(K.round(K.clip(y_pred, 0, 1)))\n",
    "    precision = true_positives / (predicted_positives + K.epsilon())\n",
    "    return precision\n",
    "\n",
    "\n",
    "def microf1(y_true, y_pred):\n",
    "\n",
    "    def recall(y_true, y_pred):\n",
    "        true_positives = K.sum(K.round(K.clip(y_true * y_pred, 0, 1)))\n",
    "        possible_positives = K.sum(K.round(K.clip(y_true, 0, 1)))\n",
    "        recall = true_positives / (possible_positives + K.epsilon())\n",
    "        return recall\n",
    "\n",
    "    def precision(y_true, y_pred):\n",
    "        true_positives = K.sum(K.round(K.clip(y_true * y_pred, 0, 1)))\n",
    "        predicted_positives = K.sum(K.round(K.clip(y_pred, 0, 1)))\n",
    "        precision = true_positives / (predicted_positives + K.epsilon())\n",
    "        return precision\n",
    "\n",
    "    precision = precision(y_true, y_pred)\n",
    "    recall = recall(y_true, y_pred)\n",
    "    return 2 * ((precision * recall) / (precision + recall + K.epsilon()))\n",
    "\n",
    "\n",
    "def macrof1(y_true, y_pred):\n",
    "    y_pred = K.round(y_pred)\n",
    "    tp = K.sum(K.cast(y_true * y_pred, 'float'), axis=0)\n",
    "    # tn = K.sum(K.cast((1-y_true)*(1-y_pred), 'float'), axis=0)\n",
    "    fp = K.sum(K.cast((1 - y_true) * y_pred, 'float'), axis=0)\n",
    "    fn = K.sum(K.cast(y_true * (1 - y_pred), 'float'), axis=0)\n",
    "\n",
    "    p = tp / (tp + fp + K.epsilon())\n",
    "    r = tp / (tp + fn + K.epsilon())\n",
    "\n",
    "    f1 = 2 * p * r / (p + r + K.epsilon())\n",
    "    f1 = tf.where(tf.math.is_nan(f1), tf.zeros_like(f1), f1)\n",
    "    return K.mean(f1)\n",
    "\n",
    "def contrastive_loss(y_true, y_pred):\n",
    "    margin = 1\n",
    "    return tf.cast((y_true * K.square(y_pred)\\\n",
    "            + (1 - y_true) * K.square(K.maximum(margin - y_pred, 0))),dtype=tf.float32)\n",
    "\n",
    "def accuracy2(y_true, y_pred):\n",
    "    return K.mean(tf.cast(tf.equal(y_true, tf.cast(y_pred < 0.5, dtype=tf.float32)), dtype=tf.float32))"
   ]
  },
  {
   "cell_type": "code",
   "execution_count": null,
   "metadata": {
    "execution": {
     "iopub.execute_input": "2021-06-06T15:44:21.036065Z",
     "iopub.status.busy": "2021-06-06T15:44:21.034968Z",
     "iopub.status.idle": "2021-06-06T15:44:21.037823Z",
     "shell.execute_reply": "2021-06-06T15:44:21.037406Z",
     "shell.execute_reply.started": "2021-06-05T19:05:19.155118Z"
    },
    "executionInfo": {
     "elapsed": 13,
     "status": "ok",
     "timestamp": 1643203838017,
     "user": {
      "displayName": "Thaweesak Chusri",
      "photoUrl": "https://lh3.googleusercontent.com/a-/AOh14Gj5PzlhZ6sYmXktrK-vzF5hfKwhW_E9rb7D4Vct=s64",
      "userId": "01804259234293140992"
     },
     "user_tz": -420
    },
    "id": "recognized-paste",
    "papermill": {
     "duration": 0.026685,
     "end_time": "2021-06-06T15:44:21.037917",
     "exception": false,
     "start_time": "2021-06-06T15:44:21.011232",
     "status": "completed"
    },
    "tags": []
   },
   "outputs": [],
   "source": [
    "def process_input(num_words, X_train, X_test, X_dev):\n",
    "    \n",
    "    tokenizer = tf.keras.preprocessing.text.Tokenizer(num_words=num_words, oov_token='<UNK>')\n",
    "    tokenizer.fit_on_texts(X_train)\n",
    "\n",
    "    #convert text data to numerical indexes\n",
    "    train_seqs = tokenizer.texts_to_sequences(X_train)\n",
    "    dev_seqs = tokenizer.texts_to_sequences(X_dev)\n",
    "    test_seqs = tokenizer.texts_to_sequences(X_test)\n",
    "\n",
    "    max_sequnce_len = max([len(x) for x in train_seqs])\n",
    "\n",
    "    train_seqs = tf.keras.preprocessing.sequence.pad_sequences(train_seqs, maxlen=max_sequnce_len, padding=\"post\")\n",
    "    test_seqs=tf.keras.preprocessing.sequence.pad_sequences(test_seqs, maxlen=max_sequnce_len, padding=\"post\")\n",
    "    dev_seqs=tf.keras.preprocessing.sequence.pad_sequences(dev_seqs, maxlen=max_sequnce_len, padding=\"post\")\n",
    "\n",
    "    return  train_seqs, test_seqs, dev_seqs, max_sequnce_len, tokenizer"
   ]
  },
  {
   "cell_type": "code",
   "execution_count": null,
   "metadata": {
    "execution": {
     "iopub.execute_input": "2021-06-06T15:44:21.081731Z",
     "iopub.status.busy": "2021-06-06T15:44:21.081078Z",
     "iopub.status.idle": "2021-06-06T15:44:21.084846Z",
     "shell.execute_reply": "2021-06-06T15:44:21.084409Z",
     "shell.execute_reply.started": "2021-06-05T19:05:19.16993Z"
    },
    "executionInfo": {
     "elapsed": 12,
     "status": "ok",
     "timestamp": 1643203838017,
     "user": {
      "displayName": "Thaweesak Chusri",
      "photoUrl": "https://lh3.googleusercontent.com/a-/AOh14Gj5PzlhZ6sYmXktrK-vzF5hfKwhW_E9rb7D4Vct=s64",
      "userId": "01804259234293140992"
     },
     "user_tz": -420
    },
    "id": "Cs51qjOB_gNY",
    "papermill": {
     "duration": 0.029411,
     "end_time": "2021-06-06T15:44:21.084943",
     "exception": false,
     "start_time": "2021-06-06T15:44:21.055532",
     "status": "completed"
    },
    "tags": []
   },
   "outputs": [],
   "source": [
    "def process_input_combined(num_words, X_train, X_dev, X_test):\n",
    "    \n",
    "    tokenizer = tf.keras.preprocessing.text.Tokenizer(num_words=num_words, oov_token='<UNK>')\n",
    "    X_combined = list(X_train[:, 0]) + list(X_train[:, 1])\n",
    "    tokenizer.fit_on_texts(X_combined)\n",
    "\n",
    "    #convert text data to numerical indexes\n",
    "    train_seqs1 = tokenizer.texts_to_sequences(X_train[:, 0])\n",
    "    train_seqs2 = tokenizer.texts_to_sequences(X_train[:, 1])\n",
    "    \n",
    "    dev_seqs1 = tokenizer.texts_to_sequences(X_dev[:, 0])\n",
    "    dev_seqs2 = tokenizer.texts_to_sequences(X_dev[:, 1])\n",
    "    \n",
    "    test_seqs1 = tokenizer.texts_to_sequences(X_test[:, 0])\n",
    "    test_seqs2 = tokenizer.texts_to_sequences(X_test[:, 1])\n",
    "    \n",
    "    max_len = max([len(x) for x in train_seqs1 + train_seqs2])\n",
    "\n",
    "    train_seqs1 = tf.keras.preprocessing.sequence.pad_sequences(train_seqs1, maxlen=max_len, padding=\"post\")\n",
    "    test_seqs1=tf.keras.preprocessing.sequence.pad_sequences(test_seqs1, maxlen=max_len, padding=\"post\")\n",
    "    dev_seqs1 =tf.keras.preprocessing.sequence.pad_sequences(dev_seqs1, maxlen=max_len, padding=\"post\")\n",
    "    \n",
    "    train_seqs2 = tf.keras.preprocessing.sequence.pad_sequences(train_seqs2, maxlen=max_len, padding=\"post\")\n",
    "    test_seqs2=tf.keras.preprocessing.sequence.pad_sequences(test_seqs2, maxlen=max_len, padding=\"post\")\n",
    "    dev_seqs2 =tf.keras.preprocessing.sequence.pad_sequences(dev_seqs2, maxlen=max_len, padding=\"post\")\n",
    "\n",
    "    return  train_seqs1, train_seqs2, dev_seqs1, dev_seqs2, test_seqs1, test_seqs2, max_len, tokenizer"
   ]
  },
  {
   "cell_type": "code",
   "execution_count": null,
   "metadata": {
    "execution": {
     "iopub.execute_input": "2021-06-06T15:44:21.124511Z",
     "iopub.status.busy": "2021-06-06T15:44:21.123980Z",
     "iopub.status.idle": "2021-06-06T15:44:21.127668Z",
     "shell.execute_reply": "2021-06-06T15:44:21.127138Z",
     "shell.execute_reply.started": "2021-06-05T19:05:19.185571Z"
    },
    "executionInfo": {
     "elapsed": 16,
     "status": "ok",
     "timestamp": 1643203838732,
     "user": {
      "displayName": "Thaweesak Chusri",
      "photoUrl": "https://lh3.googleusercontent.com/a-/AOh14Gj5PzlhZ6sYmXktrK-vzF5hfKwhW_E9rb7D4Vct=s64",
      "userId": "01804259234293140992"
     },
     "user_tz": -420
    },
    "id": "Y39MQuxf_gNa",
    "papermill": {
     "duration": 0.025105,
     "end_time": "2021-06-06T15:44:21.127771",
     "exception": false,
     "start_time": "2021-06-06T15:44:21.102666",
     "status": "completed"
    },
    "tags": []
   },
   "outputs": [],
   "source": [
    "idx = {251 : 'ประมวลกฎหมายวิธีพิจารณาความแพ่ง 55',\n",
    "692 : 'ประมวลกฎหมายแพ่งและพาณิชย์ 425',\n",
    "704 : 'ประมวลกฎหมายแพ่งและพาณิชย์ 438',\n",
    "154 : 'ประมวลกฎหมายวิธีพิจารณาความแพ่ง 172',\n",
    "135 : 'ประมวลกฎหมายวิธีพิจารณาความแพ่ง 142',\n",
    "715 : 'ประมวลกฎหมายแพ่งและพาณิชย์ 448',\n",
    "688 : 'ประมวลกฎหมายแพ่งและพาณิชย์ 421',\n",
    "202 : 'ประมวลกฎหมายวิธีพิจารณาความแพ่ง 249',\n",
    "100 : 'ประมวลกฎหมายวิธีพิจารณาความอาญา 46',\n",
    "417 :  'ประมวลกฎหมายแพ่งและพาณิชย์ 1336'}"
   ]
  },
  {
   "cell_type": "code",
   "execution_count": null,
   "metadata": {
    "execution": {
     "iopub.execute_input": "2021-06-06T15:44:21.168123Z",
     "iopub.status.busy": "2021-06-06T15:44:21.166579Z",
     "iopub.status.idle": "2021-06-06T15:44:21.168777Z",
     "shell.execute_reply": "2021-06-06T15:44:21.169173Z",
     "shell.execute_reply.started": "2021-06-05T19:05:19.204338Z"
    },
    "executionInfo": {
     "elapsed": 14,
     "status": "ok",
     "timestamp": 1643203838732,
     "user": {
      "displayName": "Thaweesak Chusri",
      "photoUrl": "https://lh3.googleusercontent.com/a-/AOh14Gj5PzlhZ6sYmXktrK-vzF5hfKwhW_E9rb7D4Vct=s64",
      "userId": "01804259234293140992"
     },
     "user_tz": -420
    },
    "id": "RqpooELM_gNc",
    "papermill": {
     "duration": 0.023527,
     "end_time": "2021-06-06T15:44:21.169285",
     "exception": false,
     "start_time": "2021-06-06T15:44:21.145758",
     "status": "completed"
    },
    "tags": []
   },
   "outputs": [],
   "source": [
    "sorted_idx = list(idx.keys())"
   ]
  },
  {
   "cell_type": "code",
   "execution_count": null,
   "metadata": {
    "colab": {
     "base_uri": "https://localhost:8080/"
    },
    "execution": {
     "iopub.execute_input": "2021-06-06T15:44:21.211691Z",
     "iopub.status.busy": "2021-06-06T15:44:21.210631Z",
     "iopub.status.idle": "2021-06-06T15:44:21.214079Z",
     "shell.execute_reply": "2021-06-06T15:44:21.214518Z",
     "shell.execute_reply.started": "2021-06-05T19:05:19.21868Z"
    },
    "executionInfo": {
     "elapsed": 14,
     "status": "ok",
     "timestamp": 1643203838733,
     "user": {
      "displayName": "Thaweesak Chusri",
      "photoUrl": "https://lh3.googleusercontent.com/a-/AOh14Gj5PzlhZ6sYmXktrK-vzF5hfKwhW_E9rb7D4Vct=s64",
      "userId": "01804259234293140992"
     },
     "user_tz": -420
    },
    "id": "SzXhNwhT_gNg",
    "outputId": "c15c83e6-7332-4da2-c6bd-0cc123020949",
    "papermill": {
     "duration": 0.027609,
     "end_time": "2021-06-06T15:44:21.214637",
     "exception": false,
     "start_time": "2021-06-06T15:44:21.187028",
     "status": "completed"
    },
    "tags": []
   },
   "outputs": [],
   "source": [
    "sorted_idx[0:10]"
   ]
  },
  {
   "cell_type": "code",
   "execution_count": null,
   "metadata": {
    "execution": {
     "iopub.execute_input": "2021-06-06T15:44:21.256645Z",
     "iopub.status.busy": "2021-06-06T15:44:21.256095Z",
     "iopub.status.idle": "2021-06-06T15:44:21.259500Z",
     "shell.execute_reply": "2021-06-06T15:44:21.259081Z",
     "shell.execute_reply.started": "2021-06-05T19:05:19.235876Z"
    },
    "executionInfo": {
     "elapsed": 14,
     "status": "ok",
     "timestamp": 1643203838734,
     "user": {
      "displayName": "Thaweesak Chusri",
      "photoUrl": "https://lh3.googleusercontent.com/a-/AOh14Gj5PzlhZ6sYmXktrK-vzF5hfKwhW_E9rb7D4Vct=s64",
      "userId": "01804259234293140992"
     },
     "user_tz": -420
    },
    "id": "uuZILtZo_gNj",
    "papermill": {
     "duration": 0.026969,
     "end_time": "2021-06-06T15:44:21.259604",
     "exception": false,
     "start_time": "2021-06-06T15:44:21.232635",
     "status": "completed"
    },
    "tags": []
   },
   "outputs": [],
   "source": [
    "def get_data(file = '../input/zero-shot-legal-03042021/filt_df.pickle'):\n",
    "    X = [] \n",
    "    Y = []\n",
    "    legal_encoded_seq = []\n",
    "    filt_df = pd.read_pickle(file)\n",
    "    for i,row in filt_df.iterrows():\n",
    "        x = row['plaintiff_token']\n",
    "        x2 = row['legal_content_token']\n",
    "        legal_encoded = row['legal_encoded']\n",
    "        X.append([x, x2,legal_encoded])\n",
    "        Y.append(row['label'])\n",
    "        legal_encoded_seq.append(row['legal_encoded'])\n",
    "    X = np.array(X ,dtype=object)\n",
    "    Y = np.array(Y)\n",
    "    print('X:'+ str(X.shape),'Y:'+str(Y.shape),'legal_encoded_seq: ' + str(len(legal_encoded_seq)))\n",
    "    return X,Y,legal_encoded_seq"
   ]
  },
  {
   "cell_type": "code",
   "execution_count": null,
   "metadata": {
    "execution": {
     "iopub.execute_input": "2021-06-06T15:44:21.304975Z",
     "iopub.status.busy": "2021-06-06T15:44:21.303072Z",
     "iopub.status.idle": "2021-06-06T15:44:21.307620Z",
     "shell.execute_reply": "2021-06-06T15:44:21.307130Z",
     "shell.execute_reply.started": "2021-06-05T19:05:19.247534Z"
    },
    "executionInfo": {
     "elapsed": 14,
     "status": "ok",
     "timestamp": 1643203838734,
     "user": {
      "displayName": "Thaweesak Chusri",
      "photoUrl": "https://lh3.googleusercontent.com/a-/AOh14Gj5PzlhZ6sYmXktrK-vzF5hfKwhW_E9rb7D4Vct=s64",
      "userId": "01804259234293140992"
     },
     "user_tz": -420
    },
    "id": "1_PLoKlS_gNk",
    "papermill": {
     "duration": 0.029907,
     "end_time": "2021-06-06T15:44:21.307717",
     "exception": false,
     "start_time": "2021-06-06T15:44:21.277810",
     "status": "completed"
    },
    "tags": []
   },
   "outputs": [],
   "source": [
    "def split_by_id(file = '../input/zero-shot-legal-03042021/filt_df.pickle'):\n",
    "    filter_df = pd.read_pickle(file)\n",
    "    train_indx, rest_indx = next(sklearn.model_selection.GroupShuffleSplit(test_size=.30, n_splits=2, random_state = 42).split(filter_df, groups=filter_df['case_id']))\n",
    "    rest_df = filter_df.iloc[rest_indx]\n",
    "    dev_indx,test_indx = next(sklearn.model_selection.GroupShuffleSplit(test_size=.50, n_splits=2, random_state = 42).split(rest_df, groups=rest_df['case_id']))\n",
    "\n",
    "    train = filter_df.iloc[train_indx]\n",
    "    dev = rest_df.iloc[dev_indx]\n",
    "    test = rest_df.iloc[test_indx]\n",
    "    \n",
    "    def get_data_by_id(df):\n",
    "        X = [] \n",
    "        Y = []\n",
    "    \n",
    "        for i,row in df.iterrows():\n",
    "            x = row['plaintiff_token']\n",
    "            x2 = row['legal_content_token']\n",
    "            legal_encoded = row['legal_encoded']\n",
    "            X.append([x, x2,legal_encoded])\n",
    "            Y.append(row['label'])\n",
    "        X = np.array(X ,dtype=object)\n",
    "        Y = np.array(Y)\n",
    "        print('X:'+ str(X.shape),'Y:'+str(Y.shape),'legal_encoded_seq:' + str(len(X[:, 2])))\n",
    "        return X,Y\n",
    "    \n",
    "    X_train,Y_train = get_data_by_id(train)\n",
    "    X_dev,Y_dev = get_data_by_id(dev)\n",
    "    X_test,Y_test = get_data_by_id(test)\n",
    "\n",
    "    return X_train,Y_train,X_dev,Y_dev,X_test,Y_test\n",
    "    "
   ]
  },
  {
   "cell_type": "code",
   "execution_count": null,
   "metadata": {
    "execution": {
     "iopub.execute_input": "2021-06-06T15:44:21.352212Z",
     "iopub.status.busy": "2021-06-06T15:44:21.350504Z",
     "iopub.status.idle": "2021-06-06T15:44:21.352817Z",
     "shell.execute_reply": "2021-06-06T15:44:21.353212Z",
     "shell.execute_reply.started": "2021-06-05T19:05:19.26338Z"
    },
    "executionInfo": {
     "elapsed": 14,
     "status": "ok",
     "timestamp": 1643203838735,
     "user": {
      "displayName": "Thaweesak Chusri",
      "photoUrl": "https://lh3.googleusercontent.com/a-/AOh14Gj5PzlhZ6sYmXktrK-vzF5hfKwhW_E9rb7D4Vct=s64",
      "userId": "01804259234293140992"
     },
     "user_tz": -420
    },
    "id": "YHEZS1Dt_gNk",
    "papermill": {
     "duration": 0.027488,
     "end_time": "2021-06-06T15:44:21.353323",
     "exception": false,
     "start_time": "2021-06-06T15:44:21.325835",
     "status": "completed"
    },
    "tags": []
   },
   "outputs": [],
   "source": [
    "def evaluate(y_true,y_pred,legal_encoded_seq):\n",
    "    all_legal_dict = {key : {'true' : [], 'pred' : []} for key in legal_encoded_seq}\n",
    "    all_score_dict = {key : {} for key in legal_encoded_seq}\n",
    "    \n",
    "    for i in range(len(legal_encoded_seq)) :\n",
    "        true = y_true[i]\n",
    "        pred = y_pred[i]\n",
    "        legal_encoded = legal_encoded_seq[i]\n",
    "        all_legal_dict[legal_encoded]['true'].append(true)\n",
    "        all_legal_dict[legal_encoded]['pred'].append(pred)\n",
    "    \n",
    "    for key in all_legal_dict:\n",
    "        true = all_legal_dict[key]['true']\n",
    "        pred = all_legal_dict[key]['pred']\n",
    "        f1 =  f1_score(true,pred,labels=[1])\n",
    "        recall = recall_score(true,pred,labels=[1])\n",
    "        precision = precision_score(true,pred,labels=[1])\n",
    "        all_score_dict[key]['f1'] = f1\n",
    "        all_score_dict[key]['precision'] = precision\n",
    "        all_score_dict[key]['recall'] = recall\n",
    "    return all_score_dict"
   ]
  },
  {
   "cell_type": "code",
   "execution_count": null,
   "metadata": {
    "execution": {
     "iopub.execute_input": "2021-06-06T15:44:21.396327Z",
     "iopub.status.busy": "2021-06-06T15:44:21.394690Z",
     "iopub.status.idle": "2021-06-06T15:44:21.396900Z",
     "shell.execute_reply": "2021-06-06T15:44:21.397292Z",
     "shell.execute_reply.started": "2021-06-05T19:05:19.278587Z"
    },
    "executionInfo": {
     "elapsed": 14,
     "status": "ok",
     "timestamp": 1643203838735,
     "user": {
      "displayName": "Thaweesak Chusri",
      "photoUrl": "https://lh3.googleusercontent.com/a-/AOh14Gj5PzlhZ6sYmXktrK-vzF5hfKwhW_E9rb7D4Vct=s64",
      "userId": "01804259234293140992"
     },
     "user_tz": -420
    },
    "id": "G1WHGb3F_gNl",
    "papermill": {
     "duration": 0.026157,
     "end_time": "2021-06-06T15:44:21.397418",
     "exception": false,
     "start_time": "2021-06-06T15:44:21.371261",
     "status": "completed"
    },
    "tags": []
   },
   "outputs": [],
   "source": [
    "def euclidean_distance(vects):\n",
    "    x, y = vects\n",
    "    return K.sqrt(K.sum(K.square(x - y), axis=1, keepdims=True))\n",
    "\n",
    "def eucl_dist_output_shape(shapes):\n",
    "    shape1, shape2 = shapes\n",
    "    return (shape1[0], 1)\n",
    "\n",
    "def cosine_distance(vects):\n",
    "    x, y= vects\n",
    "    x = K.l2_normalize(x, axis=-1)\n",
    "    y = K.l2_normalize(y, axis=-1)\n",
    "    return -K.mean(x * y, axis=-1, keepdims=True)\n",
    "\n",
    "def cosine_dist_output_shape(shapes):\n",
    "    shape1, shape2 = shapes\n",
    "    return (shape1[0], 1)"
   ]
  },
  {
   "cell_type": "code",
   "execution_count": null,
   "metadata": {
    "execution": {
     "iopub.execute_input": "2021-06-06T15:44:21.436886Z",
     "iopub.status.busy": "2021-06-06T15:44:21.436351Z",
     "iopub.status.idle": "2021-06-06T15:44:21.440050Z",
     "shell.execute_reply": "2021-06-06T15:44:21.439388Z",
     "shell.execute_reply.started": "2021-06-05T19:05:19.292964Z"
    },
    "executionInfo": {
     "elapsed": 14,
     "status": "ok",
     "timestamp": 1643203838736,
     "user": {
      "displayName": "Thaweesak Chusri",
      "photoUrl": "https://lh3.googleusercontent.com/a-/AOh14Gj5PzlhZ6sYmXktrK-vzF5hfKwhW_E9rb7D4Vct=s64",
      "userId": "01804259234293140992"
     },
     "user_tz": -420
    },
    "id": "YLLxR-2S_gNn",
    "papermill": {
     "duration": 0.024714,
     "end_time": "2021-06-06T15:44:21.440153",
     "exception": false,
     "start_time": "2021-06-06T15:44:21.415439",
     "status": "completed"
    },
    "tags": []
   },
   "outputs": [],
   "source": [
    "BATCH_SIZE=64\n",
    "EPOCHS = 5\n",
    "NUM_WORDS=8000\n",
    "embedding_size = 300\n",
    "lr = 3e-4"
   ]
  },
  {
   "cell_type": "code",
   "execution_count": null,
   "metadata": {
    "colab": {
     "base_uri": "https://localhost:8080/"
    },
    "execution": {
     "iopub.execute_input": "2021-06-06T15:44:21.481511Z",
     "iopub.status.busy": "2021-06-06T15:44:21.480974Z",
     "iopub.status.idle": "2021-06-06T15:44:21.485374Z",
     "shell.execute_reply": "2021-06-06T15:44:21.485760Z",
     "shell.execute_reply.started": "2021-06-05T19:05:19.303922Z"
    },
    "executionInfo": {
     "elapsed": 14,
     "status": "ok",
     "timestamp": 1643203838736,
     "user": {
      "displayName": "Thaweesak Chusri",
      "photoUrl": "https://lh3.googleusercontent.com/a-/AOh14Gj5PzlhZ6sYmXktrK-vzF5hfKwhW_E9rb7D4Vct=s64",
      "userId": "01804259234293140992"
     },
     "user_tz": -420
    },
    "id": "9z4VSa-c_gNo",
    "outputId": "20a52356-7dd7-4bf4-a36b-e56caaa85c40",
    "papermill": {
     "duration": 0.027747,
     "end_time": "2021-06-06T15:44:21.485876",
     "exception": false,
     "start_time": "2021-06-06T15:44:21.458129",
     "status": "completed"
    },
    "tags": []
   },
   "outputs": [],
   "source": [
    "from sklearn.model_selection import ParameterGrid\n",
    "\n",
    "parameters = {'epochs': [10 , 15 , 32],\n",
    "             'lr' : [0.0001,0.001 , 0.1]}\n",
    "\n",
    "list(ParameterGrid(parameters))"
   ]
  },
  {
   "cell_type": "code",
   "execution_count": null,
   "metadata": {
    "execution": {
     "iopub.execute_input": "2021-06-06T15:44:21.525663Z",
     "iopub.status.busy": "2021-06-06T15:44:21.525137Z",
     "iopub.status.idle": "2021-06-06T15:44:21.528683Z",
     "shell.execute_reply": "2021-06-06T15:44:21.528272Z",
     "shell.execute_reply.started": "2021-06-05T19:05:19.317288Z"
    },
    "executionInfo": {
     "elapsed": 13,
     "status": "ok",
     "timestamp": 1643203838737,
     "user": {
      "displayName": "Thaweesak Chusri",
      "photoUrl": "https://lh3.googleusercontent.com/a-/AOh14Gj5PzlhZ6sYmXktrK-vzF5hfKwhW_E9rb7D4Vct=s64",
      "userId": "01804259234293140992"
     },
     "user_tz": -420
    },
    "id": "XtTjMRRQ_gNs",
    "papermill": {
     "duration": 0.024654,
     "end_time": "2021-06-06T15:44:21.528784",
     "exception": false,
     "start_time": "2021-06-06T15:44:21.504130",
     "status": "completed"
    },
    "tags": []
   },
   "outputs": [],
   "source": [
    "#X,Y,legal_encoded_seq = get_data(file = '../input/zero-shot-legal-03042021/filt_df.pickle')"
   ]
  },
  {
   "cell_type": "code",
   "execution_count": null,
   "metadata": {
    "execution": {
     "iopub.execute_input": "2021-06-06T15:44:21.570520Z",
     "iopub.status.busy": "2021-06-06T15:44:21.569972Z",
     "iopub.status.idle": "2021-06-06T15:44:21.573605Z",
     "shell.execute_reply": "2021-06-06T15:44:21.573197Z",
     "shell.execute_reply.started": "2021-06-05T19:05:19.325995Z"
    },
    "executionInfo": {
     "elapsed": 13,
     "status": "ok",
     "timestamp": 1643203838737,
     "user": {
      "displayName": "Thaweesak Chusri",
      "photoUrl": "https://lh3.googleusercontent.com/a-/AOh14Gj5PzlhZ6sYmXktrK-vzF5hfKwhW_E9rb7D4Vct=s64",
      "userId": "01804259234293140992"
     },
     "user_tz": -420
    },
    "id": "YmZD0NfZ_gNu",
    "papermill": {
     "duration": 0.026651,
     "end_time": "2021-06-06T15:44:21.573706",
     "exception": false,
     "start_time": "2021-06-06T15:44:21.547055",
     "status": "completed"
    },
    "tags": []
   },
   "outputs": [],
   "source": [
    "def cnn_model(input_shape,embeddings,embedding_dim):\n",
    "    model_input = Input(shape=(input_shape,))\n",
    "    layer = Embedding(len(embeddings), \n",
    "                 embedding_dim, \n",
    "                 weights=[embeddings], \n",
    "                 input_length=max_len, \n",
    "                 trainable=False,\n",
    "                 mask_zero = True)(model_input)\n",
    "    layer = Conv1D(filters=80,kernel_size=15,activation='relu')(layer)\n",
    "    layer = MaxPooling1D(pool_size=2)(layer)\n",
    "    #layer = Dropout(0.5)(layer)\n",
    "    #layer = Conv1D(filters=64,kernel_size=5,activation='relu')(layer)\n",
    "    #layer = MaxPooling1D(pool_size=2)(layer)\n",
    "    #layer = Dropout(0.5)(layer)\n",
    "    #layer = Conv1D(filters=64,kernel_size=5,activation='relu')(layer)\n",
    "    #layer = MaxPooling1D(pool_size=2)(layer)\n",
    "    output = Flatten()(layer)\n",
    "    \n",
    "    model = Model(inputs=model_input, outputs=output)\n",
    "    model.summary()\n",
    "    return model"
   ]
  },
  {
   "cell_type": "code",
   "execution_count": null,
   "metadata": {
    "execution": {
     "iopub.execute_input": "2021-06-06T15:44:21.616648Z",
     "iopub.status.busy": "2021-06-06T15:44:21.615215Z",
     "iopub.status.idle": "2021-06-06T15:44:21.617182Z",
     "shell.execute_reply": "2021-06-06T15:44:21.618039Z",
     "shell.execute_reply.started": "2021-06-05T19:05:19.337783Z"
    },
    "executionInfo": {
     "elapsed": 12,
     "status": "ok",
     "timestamp": 1643203838737,
     "user": {
      "displayName": "Thaweesak Chusri",
      "photoUrl": "https://lh3.googleusercontent.com/a-/AOh14Gj5PzlhZ6sYmXktrK-vzF5hfKwhW_E9rb7D4Vct=s64",
      "userId": "01804259234293140992"
     },
     "user_tz": -420
    },
    "id": "G6DtLQfh_gNz",
    "papermill": {
     "duration": 0.026161,
     "end_time": "2021-06-06T15:44:21.618154",
     "exception": false,
     "start_time": "2021-06-06T15:44:21.591993",
     "status": "completed"
    },
    "tags": []
   },
   "outputs": [],
   "source": [
    "def gru_model(input_shape,embeddings,embedding_dim):\n",
    "    model_input = Input(shape=(input_shape,))\n",
    "    layer = Embedding(len(embeddings), \n",
    "                 embedding_dim, \n",
    "                 weights=[embeddings], \n",
    "                 input_length=max_len, \n",
    "                 trainable=False,\n",
    "                 mask_zero = True)(model_input)\n",
    "    layer = GRU(80, activation='relu')(layer)\n",
    "    layer = Dropout(0.5)(layer)\n",
    "    #layer = Conv1D(filters=64,kernel_size=5,activation='relu')(layer)\n",
    "    #layer = MaxPooling1D(pool_size=2)(layer)\n",
    "    #layer = Dropout(0.5)(layer)\n",
    "    #layer = Conv1D(filters=64,kernel_size=5,activation='relu')(layer)\n",
    "    #layer = MaxPooling1D(pool_size=2)(layer)\n",
    "    output = Flatten()(layer)\n",
    "    \n",
    "    model = Model(inputs=model_input, outputs=output)\n",
    "    model.summary()\n",
    "    return model"
   ]
  },
  {
   "cell_type": "code",
   "execution_count": null,
   "metadata": {
    "executionInfo": {
     "elapsed": 13,
     "status": "ok",
     "timestamp": 1643203838738,
     "user": {
      "displayName": "Thaweesak Chusri",
      "photoUrl": "https://lh3.googleusercontent.com/a-/AOh14Gj5PzlhZ6sYmXktrK-vzF5hfKwhW_E9rb7D4Vct=s64",
      "userId": "01804259234293140992"
     },
     "user_tz": -420
    },
    "id": "gE_h2hv0j7rB"
   },
   "outputs": [],
   "source": [
    "def bi_gru_model(input_shape,embeddings,embedding_dim):\n",
    "    model_input = Input(shape=(input_shape,))\n",
    "    layer = Embedding(len(embeddings), \n",
    "                 embedding_dim, \n",
    "                 weights=[embeddings], \n",
    "                 input_length=max_len, \n",
    "                 trainable=False,\n",
    "                 mask_zero = True)(model_input)\n",
    "    layer = tf.keras.layers.Bidirectional(tf.keras.layers.GRU(128))(layer)\n",
    "    layer = Dropout(0.5)(layer)\n",
    "    #layer = Conv1D(filters=64,kernel_size=5,activation='relu')(layer)\n",
    "    #layer = MaxPooling1D(pool_size=2)(layer)\n",
    "    #layer = Dropout(0.5)(layer)\n",
    "    #layer = Conv1D(filters=64,kernel_size=5,activation='relu')(layer)\n",
    "    #layer = MaxPooling1D(pool_size=2)(layer)\n",
    "    output = Flatten()(layer)\n",
    "    \n",
    "    model = Model(inputs=model_input, outputs=output)\n",
    "    model.summary()\n",
    "    return model"
   ]
  },
  {
   "cell_type": "code",
   "execution_count": null,
   "metadata": {
    "execution": {
     "iopub.execute_input": "2021-06-06T15:44:21.660839Z",
     "iopub.status.busy": "2021-06-06T15:44:21.659555Z",
     "iopub.status.idle": "2021-06-06T15:44:21.661849Z",
     "shell.execute_reply": "2021-06-06T15:44:21.662269Z",
     "shell.execute_reply.started": "2021-06-05T19:05:19.351063Z"
    },
    "executionInfo": {
     "elapsed": 12,
     "status": "ok",
     "timestamp": 1643203838738,
     "user": {
      "displayName": "Thaweesak Chusri",
      "photoUrl": "https://lh3.googleusercontent.com/a-/AOh14Gj5PzlhZ6sYmXktrK-vzF5hfKwhW_E9rb7D4Vct=s64",
      "userId": "01804259234293140992"
     },
     "user_tz": -420
    },
    "id": "x2wf4CaL_gN0",
    "papermill": {
     "duration": 0.026032,
     "end_time": "2021-06-06T15:44:21.662377",
     "exception": false,
     "start_time": "2021-06-06T15:44:21.636345",
     "status": "completed"
    },
    "tags": []
   },
   "outputs": [],
   "source": [
    "def lstm_model(input_shape,embeddings,embedding_dim):\n",
    "    model_input = Input(shape=(input_shape,))\n",
    "    layer = Embedding(len(embeddings), \n",
    "                 embedding_dim, \n",
    "                 weights=[embeddings], \n",
    "                 input_length=max_len, \n",
    "                 trainable=False,\n",
    "                 mask_zero = True)(model_input)\n",
    "    layer = LSTM(80, activation='relu')(layer)\n",
    "    layer = Dropout(0.5)(layer)\n",
    "    #layer = Conv1D(filters=64,kernel_size=5,activation='relu')(layer)\n",
    "    #layer = MaxPooling1D(pool_size=2)(layer)\n",
    "    #layer = Dropout(0.5)(layer)\n",
    "    #layer = Conv1D(filters=64,kernel_size=5,activation='relu')(layer)\n",
    "    #layer = MaxPooling1D(pool_size=2)(layer)\n",
    "    output = Flatten()(layer)\n",
    "    \n",
    "    model = Model(inputs=model_input, outputs=output)\n",
    "    model.summary()\n",
    "    return model"
   ]
  },
  {
   "cell_type": "code",
   "execution_count": null,
   "metadata": {
    "colab": {
     "base_uri": "https://localhost:8080/"
    },
    "executionInfo": {
     "elapsed": 525,
     "status": "ok",
     "timestamp": 1643203839251,
     "user": {
      "displayName": "Thaweesak Chusri",
      "photoUrl": "https://lh3.googleusercontent.com/a-/AOh14Gj5PzlhZ6sYmXktrK-vzF5hfKwhW_E9rb7D4Vct=s64",
      "userId": "01804259234293140992"
     },
     "user_tz": -420
    },
    "id": "PzOWpi3GBsBu",
    "outputId": "3361b8f7-d413-472c-8ec4-dfde395a685c"
   },
   "outputs": [],
   "source": [
    "!ls"
   ]
  },
  {
   "cell_type": "code",
   "execution_count": null,
   "metadata": {
    "colab": {
     "base_uri": "https://localhost:8080/"
    },
    "executionInfo": {
     "elapsed": 55249,
     "status": "ok",
     "timestamp": 1643203894498,
     "user": {
      "displayName": "Thaweesak Chusri",
      "photoUrl": "https://lh3.googleusercontent.com/a-/AOh14Gj5PzlhZ6sYmXktrK-vzF5hfKwhW_E9rb7D4Vct=s64",
      "userId": "01804259234293140992"
     },
     "user_tz": -420
    },
    "id": "XQClsKQkVYSq",
    "outputId": "982c42fd-1a47-46e5-8f13-b456971a1b49"
   },
   "outputs": [],
   "source": [
    "#best_grid_scores = None\n",
    "#candidate = 0\n",
    "#for dic in list(ParameterGrid(parameters)): \n",
    "#EPOCHS = dic['epochs']\n",
    "#lr = dic['lr']\n",
    "\n",
    "#split data\n",
    "X_train,Y_train,X_dev,Y_dev,X_test,Y_test = split_by_id(file = 'data/filt_df.pickle')\n",
    "    \n",
    "#process data\n",
    "train_seqs1, train_seqs2, dev_seqs1, dev_seqs2, test_seqs1, test_seqs2, max_len, tokenizer = process_input_combined(NUM_WORDS, X_train, X_dev, X_test)\n",
    "    \n",
    "#seed(42)\n",
    "#tf.random.set_seed(42)\n",
    "    \n",
    "#load embedding\n",
    "embedding_matrix =  load_fasttext_fast(tokenizer.word_index,NUM_WORDS,embedding_size) \n",
    " \n",
    "train_generator = multi_input_proportional_generator([train_seqs1, train_seqs2], Y_train, p=[0.5, 0.5], batch_size=BATCH_SIZE)\n",
    "validation_generator = multi_input_proportional_generator([dev_seqs1, dev_seqs2], Y_dev, batch_size=BATCH_SIZE)\n",
    "# left_output = gru_model(input_layer)\n",
    "# right_output = gru_model(input_layer2)"
   ]
  },
  {
   "cell_type": "code",
   "execution_count": null,
   "metadata": {
    "colab": {
     "base_uri": "https://localhost:8080/",
     "height": 1000
    },
    "execution": {
     "iopub.execute_input": "2021-06-06T15:44:21.709615Z",
     "iopub.status.busy": "2021-06-06T15:44:21.706246Z",
     "iopub.status.idle": "2021-06-06T23:37:54.697025Z",
     "shell.execute_reply": "2021-06-06T23:37:54.696594Z"
    },
    "executionInfo": {
     "elapsed": 441543,
     "status": "ok",
     "timestamp": 1643204336027,
     "user": {
      "displayName": "Thaweesak Chusri",
      "photoUrl": "https://lh3.googleusercontent.com/a-/AOh14Gj5PzlhZ6sYmXktrK-vzF5hfKwhW_E9rb7D4Vct=s64",
      "userId": "01804259234293140992"
     },
     "user_tz": -420
    },
    "id": "GGK0aibU_gN1",
    "outputId": "2eddca70-1d1d-42a6-ff25-3ec69f316cf4",
    "papermill": {
     "duration": 28413.016461,
     "end_time": "2021-06-06T23:37:54.697166",
     "exception": false,
     "start_time": "2021-06-06T15:44:21.680705",
     "status": "completed"
    },
    "tags": []
   },
   "outputs": [],
   "source": [
    "\"\"\"sharing weight layer\"\"\"\n",
    "bi_gru_model_layer = bi_gru_model(max_len,embedding_matrix,embedding_size)\n",
    "    \n",
    "\"\"\"2 input\"\"\"\n",
    "#input & output\n",
    "input_layer = Input(shape=(max_len,))\n",
    "input_layer2 = Input(shape=(max_len,))\n",
    "\n",
    "left_output = bi_gru_model_layer(input_layer)\n",
    "right_output = bi_gru_model_layer(input_layer2)\n",
    "\n",
    "\n",
    "#distance function\n",
    "merged = Lambda(euclidean_distance, name='euclidean_distance')\\\n",
    "([left_output, right_output])\n",
    "pred =  tf.keras.layers.Dense(1, activation='sigmoid')(merged)\n",
    "\n",
    "simese_model = tf.keras.Model(inputs=[input_layer, input_layer2], outputs=pred)\n",
    "  \n",
    "opt = tf.keras.optimizers.Adam(\n",
    "learning_rate=lr,\n",
    "name='Adam')\n",
    "\n",
    "simese_model.compile(optimizer = opt,loss=\"binary_crossentropy\", metrics=['accuracy', recall, precision, microf1, macrof1])\n",
    "simese_model.summary()\n",
    "\n",
    "tf.keras.utils.plot_model(simese_model, show_shapes=True,to_file='model.png')  \n",
    "display_png(Image('model.png'))  \n",
    "\n",
    "num_batches = int(len(train_seqs1)/BATCH_SIZE)\n",
    "    \n",
    "history = simese_model.fit(train_generator, epochs=EPOCHS, steps_per_epoch=num_batches,validation_data=validation_generator,validation_steps=num_batches,verbose = 1)\n",
    "\n",
    "print(\"Evaluation\")\n",
    "\n",
    "predictions=simese_model.predict([test_seqs1,test_seqs2], verbose=1)\n",
    "#y_pred = [1 if lst[0] > 0.5 else 0  for lst in predictions ]\n",
    "y_pred = [lst[0] for lst in predictions ]\n",
    "y_true = Y_test\n",
    "legal_encoded_seq = X_test[:, 2]\n",
    "simese_model.save('saved_models/multi_simese_bi_gru')\n",
    "\n",
    "#evaluation = recall_evaluate(y_pred,Y_test,legal_encoded_seq)  \n",
    "#print(json.dumps(evaluation, indent=4))\n",
    "\n",
    "#if max(list(evaluation.values())) > candidate:\n",
    "#candidate = max(list(evaluation.values()))\n",
    "#best_grid_scores = dic  \n",
    "#print(json.dumps(best_grid_scores, indent=4))"
   ]
  },
  {
   "cell_type": "code",
   "execution_count": null,
   "metadata": {
    "executionInfo": {
     "elapsed": 28,
     "status": "ok",
     "timestamp": 1643204336028,
     "user": {
      "displayName": "Thaweesak Chusri",
      "photoUrl": "https://lh3.googleusercontent.com/a-/AOh14Gj5PzlhZ6sYmXktrK-vzF5hfKwhW_E9rb7D4Vct=s64",
      "userId": "01804259234293140992"
     },
     "user_tz": -420
    },
    "id": "n1aogSqUU5na"
   },
   "outputs": [],
   "source": []
  },
  {
   "cell_type": "code",
   "execution_count": null,
   "metadata": {
    "execution": {
     "iopub.execute_input": "2021-06-06T23:37:55.900374Z",
     "iopub.status.busy": "2021-06-06T23:37:55.899625Z",
     "iopub.status.idle": "2021-06-06T23:37:55.902306Z",
     "shell.execute_reply": "2021-06-06T23:37:55.901878Z"
    },
    "executionInfo": {
     "elapsed": 17,
     "status": "ok",
     "timestamp": 1643204336029,
     "user": {
      "displayName": "Thaweesak Chusri",
      "photoUrl": "https://lh3.googleusercontent.com/a-/AOh14Gj5PzlhZ6sYmXktrK-vzF5hfKwhW_E9rb7D4Vct=s64",
      "userId": "01804259234293140992"
     },
     "user_tz": -420
    },
    "id": "a19l-XW9_gN3",
    "papermill": {
     "duration": 0.613703,
     "end_time": "2021-06-06T23:37:55.902437",
     "exception": false,
     "start_time": "2021-06-06T23:37:55.288734",
     "status": "completed"
    },
    "tags": []
   },
   "outputs": [],
   "source": [
    "y_pred = [1 if lst[0] > 0.5 else 0  for lst in predictions ]                                                            "
   ]
  },
  {
   "cell_type": "code",
   "execution_count": null,
   "metadata": {
    "executionInfo": {
     "elapsed": 17,
     "status": "ok",
     "timestamp": 1643204336029,
     "user": {
      "displayName": "Thaweesak Chusri",
      "photoUrl": "https://lh3.googleusercontent.com/a-/AOh14Gj5PzlhZ6sYmXktrK-vzF5hfKwhW_E9rb7D4Vct=s64",
      "userId": "01804259234293140992"
     },
     "user_tz": -420
    },
    "id": "s8SVF0EEBU29"
   },
   "outputs": [],
   "source": []
  },
  {
   "cell_type": "code",
   "execution_count": null,
   "metadata": {
    "colab": {
     "base_uri": "https://localhost:8080/"
    },
    "execution": {
     "iopub.execute_input": "2021-06-06T23:37:57.077780Z",
     "iopub.status.busy": "2021-06-06T23:37:57.076755Z",
     "iopub.status.idle": "2021-06-06T23:37:57.081483Z",
     "shell.execute_reply": "2021-06-06T23:37:57.081023Z"
    },
    "executionInfo": {
     "elapsed": 18,
     "status": "ok",
     "timestamp": 1643204336031,
     "user": {
      "displayName": "Thaweesak Chusri",
      "photoUrl": "https://lh3.googleusercontent.com/a-/AOh14Gj5PzlhZ6sYmXktrK-vzF5hfKwhW_E9rb7D4Vct=s64",
      "userId": "01804259234293140992"
     },
     "user_tz": -420
    },
    "id": "xKxvldlc_gN6",
    "outputId": "828a2e55-497e-438b-f7ba-a6b859a2bd52",
    "papermill": {
     "duration": 0.595969,
     "end_time": "2021-06-06T23:37:57.081598",
     "exception": false,
     "start_time": "2021-06-06T23:37:56.485629",
     "status": "completed"
    },
    "tags": []
   },
   "outputs": [],
   "source": [
    "predictions"
   ]
  },
  {
   "cell_type": "code",
   "execution_count": null,
   "metadata": {
    "colab": {
     "base_uri": "https://localhost:8080/"
    },
    "execution": {
     "iopub.execute_input": "2021-06-06T23:37:58.276090Z",
     "iopub.status.busy": "2021-06-06T23:37:58.275264Z",
     "iopub.status.idle": "2021-06-06T23:37:58.335411Z",
     "shell.execute_reply": "2021-06-06T23:37:58.335789Z"
    },
    "executionInfo": {
     "elapsed": 17,
     "status": "ok",
     "timestamp": 1643204336031,
     "user": {
      "displayName": "Thaweesak Chusri",
      "photoUrl": "https://lh3.googleusercontent.com/a-/AOh14Gj5PzlhZ6sYmXktrK-vzF5hfKwhW_E9rb7D4Vct=s64",
      "userId": "01804259234293140992"
     },
     "user_tz": -420
    },
    "id": "WB1jXJDi_gN6",
    "outputId": "8e3e406c-5983-4bbe-9b1a-1b41a4ba46f2",
    "papermill": {
     "duration": 0.664598,
     "end_time": "2021-06-06T23:37:58.335924",
     "exception": false,
     "start_time": "2021-06-06T23:37:57.671326",
     "status": "completed"
    },
    "tags": []
   },
   "outputs": [],
   "source": [
    "evaluation = evaluate(y_true,y_pred,legal_encoded_seq)\n",
    "\n",
    "print(json.dumps(evaluation, indent=4))"
   ]
  },
  {
   "cell_type": "code",
   "execution_count": null,
   "metadata": {
    "colab": {
     "base_uri": "https://localhost:8080/"
    },
    "execution": {
     "iopub.execute_input": "2021-06-06T23:37:59.513820Z",
     "iopub.status.busy": "2021-06-06T23:37:59.513092Z",
     "iopub.status.idle": "2021-06-06T23:37:59.528408Z",
     "shell.execute_reply": "2021-06-06T23:37:59.527998Z"
    },
    "executionInfo": {
     "elapsed": 15,
     "status": "ok",
     "timestamp": 1643204336032,
     "user": {
      "displayName": "Thaweesak Chusri",
      "photoUrl": "https://lh3.googleusercontent.com/a-/AOh14Gj5PzlhZ6sYmXktrK-vzF5hfKwhW_E9rb7D4Vct=s64",
      "userId": "01804259234293140992"
     },
     "user_tz": -420
    },
    "id": "HoSyJC_t_gN7",
    "outputId": "d5f8297a-fe2b-4884-a44b-250ec977d429",
    "papermill": {
     "duration": 0.606371,
     "end_time": "2021-06-06T23:37:59.528529",
     "exception": false,
     "start_time": "2021-06-06T23:37:58.922158",
     "status": "completed"
    },
    "tags": []
   },
   "outputs": [],
   "source": [
    "print(classification_report(Y_test,y_pred))                   "
   ]
  }
 ],
 "metadata": {
  "accelerator": "GPU",
  "colab": {
   "collapsed_sections": [],
   "name": "siamese-bi-gru.ipynb",
   "provenance": []
  },
  "kernelspec": {
   "display_name": "Python 3 (ipykernel)",
   "language": "python",
   "name": "python3"
  },
  "language_info": {
   "codemirror_mode": {
    "name": "ipython",
    "version": 3
   },
   "file_extension": ".py",
   "mimetype": "text/x-python",
   "name": "python",
   "nbconvert_exporter": "python",
   "pygments_lexer": "ipython3",
   "version": "3.9.7"
  },
  "papermill": {
   "default_parameters": {},
   "duration": 28439.449429,
   "end_time": "2021-06-06T23:38:09.546462",
   "environment_variables": {},
   "exception": null,
   "input_path": "__notebook__.ipynb",
   "output_path": "__notebook__.ipynb",
   "parameters": {},
   "start_time": "2021-06-06T15:44:10.097033",
   "version": "2.2.2"
  }
 },
 "nbformat": 4,
 "nbformat_minor": 1
}
